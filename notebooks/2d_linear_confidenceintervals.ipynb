{
 "cells": [
  {
   "cell_type": "code",
   "execution_count": 1,
   "id": "1a550b9b-859a-42a2-96e3-34e8b71c96a8",
   "metadata": {},
   "outputs": [],
   "source": [
    "# run \n",
    "# jupyter nbconvert --to script 2d_linear_confidenceintervals.ipynb\n",
    "# to convert to .py strict and run the .py!\n",
    "import scipy.stats as ss\n",
    "import os\n",
    "import numpy as np\n",
    "import matplotlib.pyplot as plt\n",
    "import argparse\n",
    "from sklearn.linear_model import LinearRegression, Lasso\n",
    "from sklearn.metrics import r2_score, mean_squared_error\n",
    "from sklearn.preprocessing import StandardScaler\n",
    "from sklearn.experimental import enable_halving_search_cv\n",
    "from sklearn.model_selection import HalvingGridSearchCV, GridSearchCV\n",
    "from sklearn.svm import SVR  # for building SVR model\n",
    "import pickle\n",
    "\n",
    "import sys\n",
    "sys.path.insert(0,'..')\n",
    "\n",
    "from BMR.bmr import *\n",
    "from pyearth import Earth\n",
    "import pandas as pd"
   ]
  },
  {
   "cell_type": "code",
   "execution_count": 2,
   "id": "482dc2dd-1d90-4fbb-b975-d4b913d57d53",
   "metadata": {},
   "outputs": [],
   "source": [
    "n_jobs = -1\n",
    "\n",
    "def gen_model(X, a, b, c, d, e):\n",
    "    return a*X[:, 0] + b*X[:, 1] + c*X[:, 0]**2 + d*X[:, 1]**2 + e*X[:, 0]*X[:, 1]\n",
    "def gen_data(n, a, b, c, d, e, eps):\n",
    "    if Xdist == 'U':\n",
    "        rng = ss.uniform(loc=-4, scale=8)\n",
    "    if Xdist == 'N':\n",
    "        rng = ss.norm()\n",
    "    X = rng.rvs(size=(n, 2))\n",
    "    y = gen_model(X=X, a=a, b=b, c=c, d=d, e=e)\n",
    "    if eps>0:\n",
    "        y += ss.norm(loc=0, scale=eps).rvs(size=(n, ))\n",
    "    y = y[:, np.newaxis]\n",
    "    return X, y\n",
    "\n",
    "def get_mars_params(x, y):\n",
    "    # this below is not working giving some segfaults\n",
    "    #param_grid = {\"max_terms\": [1, 2, 3, 5, 10], \"max_degree\": [1, 2, 3, 4, 5]}\n",
    "    #mars = Earth()\n",
    "    #sh = HalvingGridSearchCV(mars, param_grid, cv=3, factor=3, n_jobs=n_jobs).fit(x, y)\n",
    "    #sh = GridSearchCV(mars, param_grid, cv=3, n_jobs=n_jobs).fit(x, y)\n",
    "    #return sh.best_params_\n",
    "    return {\"max_terms\": 5, \"max_degree\": 2}\n",
    "\n",
    "def get_svr_params(x, y):\n",
    "    param_grid = {\"C\": [0.1, 1, 10, 100, 300, 500, 750, 1000, 1500, 2000, 3000], \"degree\": [1, 2, 3, 4],\n",
    "                  \"epsilon\": [0.01, 0.1, 1, 10]}\n",
    "    svr = SVR(kernel=\"rbf\")\n",
    "    sh = HalvingGridSearchCV(svr, param_grid, cv=5, factor=3, n_jobs=1).fit(x, y)\n",
    "    return sh.best_params_\n",
    "\n",
    "def get_bmr_params(x, y, M, degree, substitution_policy=\"global\", in_ball_model='linear'):\n",
    "    n_pts = x.shape[0]\n",
    "    std = np.std(x)\n",
    "    param_grid = {\n",
    "        #\"epsilon\": [0.1, 0.2, 0.3, 0.5, 0.75, 1.0, 2.0, 5.0],\n",
    "        #\"min_n_pts\": [2, 5, 10, 25, 50, 100],\n",
    "        \"epsilon\": [std*x for x in [0.3, 0.5]],\n",
    "        \"min_n_pts\": [1]+[int(n_pts*x) for x in [0.01, 0.05]]\n",
    "    }\n",
    "    bmr = BMR(min_n_pts=10, M=M, substitution_policy=substitution_policy, \n",
    "              degree=degree, epsilon=0.5, in_ball_model=in_ball_model)\n",
    "    #sh = HalvingGridSearchCV(bmr, param_grid, cv=3, factor=3, n_jobs=n_jobs).fit(x, y)\n",
    "    sh = GridSearchCV(bmr, param_grid, cv=5, n_jobs=n_jobs, verbose=3).fit(x, y)\n",
    "    params = sh.best_params_\n",
    "    params['M'] = M\n",
    "    params['substitution_policy'] = substitution_policy\n",
    "    params['in_ball_model'] = in_ball_model\n",
    "    print(params)\n",
    "    return params"
   ]
  },
  {
   "cell_type": "code",
   "execution_count": 3,
   "id": "81dee6c5-a9d4-43b6-942f-1081be7acf50",
   "metadata": {},
   "outputs": [],
   "source": [
    "# generate points in which prediction is made\n",
    "grid_points = np.arange(-3, 3.1, 0.2)\n",
    "mesh_X, mesh_Y = np.meshgrid(grid_points, grid_points)\n",
    "mesh_pts = np.array([np.ravel(mesh_X), np.ravel(mesh_Y)]).transpose()"
   ]
  },
  {
   "cell_type": "markdown",
   "id": "9cc1306f-5038-41ec-bf11-d0af9e15fb8e",
   "metadata": {},
   "source": [
    "# Some diagnostics\n",
    "1. In case of trully linear model with no noise expect coefficiants in all balls to be the same close to model values"
   ]
  },
  {
   "cell_type": "code",
   "execution_count": null,
   "id": "e400853a-3d98-43a1-949f-d1979866396b",
   "metadata": {},
   "outputs": [],
   "source": [
    "# n=500\n",
    "# a=1\n",
    "# b=1\n",
    "# c=0\n",
    "# d=0\n",
    "# e=0\n",
    "# eps=0.00\n",
    "# Xdist = 'U'\n",
    "# X, y = gen_data(n=n, a=a, b=b, c=c, d=d, e=e, eps=eps)\n",
    "# bmr = BMR(min_n_pts=10, M=2, epsilon=0.5)\n",
    "# bmr.fit(X, y)\n",
    "# # investigate the bmr structure\n",
    "# bmr.summary()"
   ]
  },
  {
   "cell_type": "code",
   "execution_count": 4,
   "id": "0f0dcff8-3db1-40bd-bfdf-3ecd90e95d97",
   "metadata": {},
   "outputs": [],
   "source": [
    "n=250\n",
    "a=1\n",
    "b=3\n",
    "c=0.2\n",
    "d=0.4\n",
    "e=1\n",
    "eps=0.01\n",
    "Xdist='U'"
   ]
  },
  {
   "cell_type": "code",
   "execution_count": null,
   "id": "96688688-e306-4508-8f1a-71f8278eacc9",
   "metadata": {},
   "outputs": [
    {
     "name": "stdout",
     "output_type": "stream",
     "text": [
      "Fitting 2 folds for each of 48 candidates, totalling 96 fits\n"
     ]
    }
   ],
   "source": [
    "# check hyperparameters for BMR\n",
    "# global substitution\n",
    "for loops in range(10):\n",
    "    X, y = gen_data(n=n, a=a, b=b, c=c, d=d, e=e, eps=eps)\n",
    "    params = get_bmr_params(X, y, M=10, degree=1, substitution_policy='global')\n",
    "    print(params)"
   ]
  },
  {
   "cell_type": "code",
   "execution_count": null,
   "id": "96a182c7-5a85-477e-b067-9ee8a27b13ff",
   "metadata": {},
   "outputs": [],
   "source": [
    "# nearest substitution\n",
    "for loops in range(10):\n",
    "    X, y = gen_data(n=n, a=a, b=b, c=c, d=d, e=e, eps=eps)\n",
    "    params = get_bmr_params(X, y, M=10, degree=1, substitution_policy=\"nearest\")\n",
    "    print(params)"
   ]
  },
  {
   "cell_type": "code",
   "execution_count": 5,
   "id": "94c1f6b0-5493-43c1-b690-a3f4798a8d43",
   "metadata": {},
   "outputs": [],
   "source": [
    "def run_experiment(n, a, b, c, d, e, eps, mcloops=100, substitution_policy='global'):\n",
    "    alpha = 0.05\n",
    "    filename = f'CI_n={n}_a={a}_b={b}_c={c}_d{d}_e{e}_eps={eps}_{substitution_policy}_X{Xdist}.csv'\n",
    "    filename_params = f'CI_n={n}_a={a}_b={b}_c={c}_d{d}_e{e}_eps={eps}_{substitution_policy}_X{Xdist}_hyperparams.pickle'\n",
    "    \n",
    "    X_pred = mesh_pts\n",
    "    y_true = gen_model(X_pred, a, b, c, d, e)\n",
    "\n",
    "    #generate one sample to set method parameters\n",
    "    X, y = gen_data(n=n, a=a, b=b, c=c, d=d, e=e, eps=eps)\n",
    "    bmr_params = get_bmr_params(X, y, M=20, degree=1, substitution_policy=substitution_policy)\n",
    "    mars_params = get_mars_params(X, y[:, 0])\n",
    "    svr_params = get_svr_params(X, y[:, 0])\n",
    "    \n",
    "    # save params to file\n",
    "    pickle.dump([bmr_params, mars_params, svr_params], open(filename_params, 'wb'))\n",
    "    #pickle.dump([bmr_params, svr_params], open(filename_params, 'wb'))\n",
    "    \n",
    "    # init methods\n",
    "    methods_labels = ['LR', 'BMR', 'MARS', 'SVR']\n",
    "    #methods_labels = ['LR', 'BMR', 'SVR']\n",
    "    \n",
    "    results = {}\n",
    "    betas = {}\n",
    "    intercepts = {}\n",
    "    for method_label in methods_labels:\n",
    "        results[method_label] = []\n",
    "        betas[method_label] = []\n",
    "        intercepts[method_label] = []\n",
    "\n",
    "    for loop in range(mcloops):\n",
    "        #if loop % 10 == 0:\n",
    "        print(f'Running loop {loop}/{mcloops} for {filename}')\n",
    "        \n",
    "        # run all methods on new data set\n",
    "        X, y = gen_data(n=n, a=a, b=b, c=c, d=d, e=e, eps=eps)\n",
    "        methods = [LinearRegression(), BMR(**bmr_params), Earth(**mars_params), SVR(**svr_params)]\n",
    "        #methods = [LinearRegression(), BMR(**bmr_params), SVR(**svr_params)]\n",
    "        for method_label, method in zip(methods_labels, methods):\n",
    "            if method_label == 'SVR':\n",
    "                method.fit(X, y[:, 0])\n",
    "            else:\n",
    "                method.fit(X, y)\n",
    "            pred = method.predict(X_pred)\n",
    "            if len(pred.shape) > 1:\n",
    "                pred = pred[:, 0]\n",
    "            results[method_label].append(pred)\n",
    "            # save coefficients\n",
    "            if method_label == 'BMR':\n",
    "                beta, intercept = method.coefficients(X_pred)\n",
    "                betas['BMR'].append(beta)\n",
    "                intercepts['BMR'].append(intercept)\n",
    "            if method_label == 'LR':\n",
    "                betas['LR'].append(method.coef_)\n",
    "                intercepts['LR'].append(method.intercept_)\n",
    "    coeff = {}\n",
    "    coeff['BMR_beta1_low'] = np.quantile(np.array(betas['BMR']), q=alpha/2, axis=0)[:, 0] \n",
    "    coeff['BMR_beta1_up'] = np.quantile(np.array(betas['BMR']), q=1-alpha/2, axis=0)[:, 0]\n",
    "    coeff['BMR_beta1_len'] = np.array(coeff['BMR_beta1_up']) - np.array(coeff['BMR_beta1_low'])\n",
    "    coeff['BMR_beta2_low'] = np.quantile(np.array(betas['BMR']), q=alpha/2, axis=0)[:, 1] \n",
    "    coeff['BMR_beta2_up'] = np.quantile(np.array(betas['BMR']), q=1-alpha/2, axis=0)[:, 1]\n",
    "    coeff['BMR_beta2_len'] = np.array(coeff['BMR_beta2_up']) - np.array(coeff['BMR_beta2_low'])\n",
    "    coeff['BMR_I_low'] = np.quantile(np.array(intercepts['BMR']), q=alpha/2, axis=0) \n",
    "    coeff['BMR_I_up'] = np.quantile(np.array(intercepts['BMR']), 1-alpha/2, axis=0) \n",
    "    coeff['BMR_I_len'] = np.array(coeff['BMR_I_up']) - np.array(coeff['BMR_I_low'])\n",
    "    coeff['LR_beta1_low'] = np.quantile(np.array(betas['LR']), q=alpha/2, axis=0)[:, 0].tolist()*X_pred.shape[0]\n",
    "    coeff['LR_beta1_up'] = np.quantile(np.array(betas['LR']), q=1-alpha/2, axis=0)[:, 0].tolist()*X_pred.shape[0]\n",
    "    coeff['LR_beta1_len'] = np.array(coeff['LR_beta1_up']) - np.array(coeff['LR_beta1_low'])\n",
    "    coeff['LR_beta2_low'] = np.quantile(np.array(betas['LR']), q=alpha/2, axis=0)[:, 1].tolist()*X_pred.shape[0]\n",
    "    coeff['LR_beta2_up'] = np.quantile(np.array(betas['LR']), q=1-alpha/2, axis=0)[:, 1].tolist()*X_pred.shape[0]\n",
    "    coeff['LR_beta2_len'] = np.array(coeff['LR_beta2_up']) - np.array(coeff['LR_beta2_low'])\n",
    "    coeff['LR_I_low'] = np.quantile(np.array(intercepts['LR']), q=alpha/2, axis=0).tolist()*X_pred.shape[0]\n",
    "    coeff['LR_I_up'] = np.quantile(np.array(intercepts['LR']), q=1-alpha/2, axis=0).tolist()*X_pred.shape[0]\n",
    "    coeff['LR_I_len'] = np.array(coeff['LR_I_up']) - np.array(coeff['LR_I_low'])\n",
    "       \n",
    "    # collect the results and prepare the csv\n",
    "    df0 = pd.DataFrame([mesh_pts[:, 0], mesh_pts[:, 1]]).transpose()\n",
    "    df0.columns = ['x', 'y']\n",
    "    dfs = [df0]\n",
    "    for method_label in methods_labels:\n",
    "        dat = np.array(results[method_label]).transpose()\n",
    "        ci_low = np.quantile(dat, q=alpha/2, axis=1)\n",
    "        ci_up = np.quantile(dat, q=1-alpha/2, axis=1)\n",
    "        mse = np.mean((dat - y_true.reshape(-1,1))**2, axis=1)\n",
    "        df = pd.DataFrame([ci_low, ci_up, ci_up-ci_low, mse]).transpose()\n",
    "        df.columns = [f'{method_label}_CI_low', f'{method_label}_CI_up', f'{method_label}_CI_len', f'{method_label}_MSE']\n",
    "        dfs.append(df)\n",
    "    # add DataFrame containing coefficients\n",
    "    dfs.append(pd.DataFrame(coeff))\n",
    "    df = pd.concat(dfs, axis=1)\n",
    "    df.to_csv(filename, index=False)\n",
    "    return df, betas, coeff"
   ]
  },
  {
   "cell_type": "code",
   "execution_count": null,
   "id": "91b09cb5",
   "metadata": {},
   "outputs": [],
   "source": [
    "df, betas, coeff = run_experiment(n=250, a=1, b=2, c=0, d=0, e=0, eps=0.01, mcloops=2, substitution_policy='global')"
   ]
  },
  {
   "cell_type": "code",
   "execution_count": 7,
   "id": "23969beb-9966-40b0-9b91-d68b20645cee",
   "metadata": {},
   "outputs": [
    {
     "name": "stdout",
     "output_type": "stream",
     "text": [
      "Fitting 5 folds for each of 6 candidates, totalling 30 fits\n"
     ]
    },
    {
     "name": "stderr",
     "output_type": "stream",
     "text": [
      "/home/rafal/.pyenv/versions/3.7.0/envs/venv-mars-3.7.0/lib/python3.7/site-packages/sklearn/model_selection/_validation.py:372: FitFailedWarning: \n",
      "5 fits failed out of a total of 30.\n",
      "The score on these train-test partitions for these parameters will be set to nan.\n",
      "If these failures are not expected, you can try to debug them by setting error_score='raise'.\n",
      "\n",
      "Below are more details about the failures:\n",
      "--------------------------------------------------------------------------------\n",
      "5 fits failed with the following error:\n",
      "Traceback (most recent call last):\n",
      "  File \"/home/rafal/.pyenv/versions/3.7.0/envs/venv-mars-3.7.0/lib/python3.7/site-packages/sklearn/model_selection/_validation.py\", line 680, in _fit_and_score\n",
      "    estimator.fit(X_train, y_train, **fit_params)\n",
      "  File \"../BMR/bmr.py\", line 156, in fit\n",
      "    self.__fit_nearest(xscaled, y)\n",
      "  File \"../BMR/bmr.py\", line 123, in __fit_nearest\n",
      "    raise ValueError(f'All balls in BM contain less than {self.min_n_pts} points. '\n",
      "ValueError: All balls in BM contain less than 25 points. Reduce value of min_pts parameter or increase radius.\n",
      "\n",
      "  warnings.warn(some_fits_failed_message, FitFailedWarning)\n",
      "/home/rafal/.pyenv/versions/3.7.0/envs/venv-mars-3.7.0/lib/python3.7/site-packages/sklearn/model_selection/_search.py:972: UserWarning: One or more of the test scores are non-finite: [0.37545323 0.14107116        nan 0.31847789 0.20960671 0.36633884]\n",
      "  category=UserWarning,\n"
     ]
    },
    {
     "name": "stdout",
     "output_type": "stream",
     "text": [
      "{'epsilon': 0.6911943282319831, 'min_n_pts': 1, 'M': 20, 'substitution_policy': 'nearest', 'in_ball_model': 'linear'}\n",
      "Running loop 0/1 for CI_n=500_a=1_b=2_c=0.2_d0.6_e1_eps=0.01_nearest_XU.csv\n"
     ]
    },
    {
     "name": "stderr",
     "output_type": "stream",
     "text": [
      "/home/rafal/.pyenv/versions/3.7.0/envs/venv-mars-3.7.0/lib/python3.7/site-packages/pyearth/earth.py:802: FutureWarning: `rcond` parameter will change to the default of machine precision times ``max(M, N)`` where M and N are the input matrix dimensions.\n",
      "To use the future default and silence this warning we advise to pass `rcond=None`, to keep using the old, explicitly pass `rcond=-1`.\n",
      "  pruning_passer.run()\n",
      "/home/rafal/.pyenv/versions/3.7.0/envs/venv-mars-3.7.0/lib/python3.7/site-packages/pyearth/earth.py:1055: FutureWarning: `rcond` parameter will change to the default of machine precision times ``max(M, N)`` where M and N are the input matrix dimensions.\n",
      "To use the future default and silence this warning we advise to pass `rcond=None`, to keep using the old, explicitly pass `rcond=-1`.\n",
      "  coef, resid = np.linalg.lstsq(B, weighted_y[:, i])[0:2]\n"
     ]
    },
    {
     "name": "stdout",
     "output_type": "stream",
     "text": [
      "[CV 5/5] END epsilon=0.6911943282319831, min_n_pts=5;, score=0.126 total time=   4.2s\n",
      "[CV 1/5] END epsilon=0.6911943282319831, min_n_pts=5;, score=0.124 total time=   4.3s\n",
      "[CV 2/5] END epsilon=0.6911943282319831, min_n_pts=5;, score=0.134 total time=   4.2s\n",
      "[CV 4/5] END epsilon=0.6911943282319831, min_n_pts=25;, score=nan total time=   0.1s\n",
      "[CV 3/5] END epsilon=1.1519905470533052, min_n_pts=1;, score=0.227 total time=   2.0s\n",
      "[CV 5/5] END epsilon=1.1519905470533052, min_n_pts=1;, score=0.379 total time=   2.1s\n",
      "[CV 2/5] END epsilon=0.6911943282319831, min_n_pts=25;, score=nan total time=   0.1s\n",
      "[CV 1/5] END epsilon=1.1519905470533052, min_n_pts=1;, score=0.260 total time=   2.1s\n",
      "[CV 1/5] END epsilon=1.1519905470533052, min_n_pts=5;, score=0.186 total time=   2.2s\n",
      "[CV 1/5] END epsilon=0.6911943282319831, min_n_pts=25;, score=nan total time=   0.1s\n",
      "[CV 5/5] END epsilon=0.6911943282319831, min_n_pts=25;, score=nan total time=   0.1s\n",
      "[CV 2/5] END epsilon=1.1519905470533052, min_n_pts=1;, score=0.323 total time=   2.1s\n",
      "[CV 2/5] END epsilon=1.1519905470533052, min_n_pts=5;, score=0.203 total time=   2.1s\n",
      "[CV 3/5] END epsilon=0.6911943282319831, min_n_pts=25;, score=nan total time=   0.1s\n",
      "[CV 4/5] END epsilon=1.1519905470533052, min_n_pts=1;, score=0.404 total time=   2.3s\n",
      "[CV 3/5] END epsilon=1.1519905470533052, min_n_pts=5;, score=0.214 total time=   2.3s\n",
      "[CV 2/5] END epsilon=0.6911943282319831, min_n_pts=1;, score=0.647 total time=   3.8s\n",
      "[CV 4/5] END epsilon=1.1519905470533052, min_n_pts=5;, score=0.202 total time=   2.0s\n",
      "[CV 1/5] END epsilon=0.6911943282319831, min_n_pts=1;, score=0.248 total time=   4.0s\n",
      "[CV 5/5] END epsilon=1.1519905470533052, min_n_pts=5;, score=0.244 total time=   2.1s\n",
      "[CV 3/5] END epsilon=0.6911943282319831, min_n_pts=1;, score=0.348 total time=   4.0s\n",
      "[CV 1/5] END epsilon=1.1519905470533052, min_n_pts=25;, score=0.427 total time=   2.1s\n",
      "[CV 4/5] END epsilon=0.6911943282319831, min_n_pts=1;, score=0.313 total time=   4.0s\n",
      "[CV 2/5] END epsilon=1.1519905470533052, min_n_pts=25;, score=0.316 total time=   2.1s\n",
      "[CV 3/5] END epsilon=0.6911943282319831, min_n_pts=5;, score=0.158 total time=   4.1s\n",
      "[CV 4/5] END epsilon=1.1519905470533052, min_n_pts=25;, score=0.448 total time=   2.1s\n",
      "[CV 5/5] END epsilon=0.6911943282319831, min_n_pts=1;, score=0.321 total time=   4.1s\n",
      "[CV 3/5] END epsilon=1.1519905470533052, min_n_pts=25;, score=0.316 total time=   2.2s\n",
      "[CV 4/5] END epsilon=0.6911943282319831, min_n_pts=5;, score=0.164 total time=   4.2s\n",
      "[CV 5/5] END epsilon=1.1519905470533052, min_n_pts=25;, score=0.325 total time=   2.1s\n"
     ]
    }
   ],
   "source": [
    "df, betas, coeff = run_experiment(n=500, a=1, b=2, c=0.2, d=0.6, e=1, eps=0.01, mcloops=1, substitution_policy='nearest')"
   ]
  },
  {
   "cell_type": "code",
   "execution_count": null,
   "id": "5d08526e",
   "metadata": {},
   "outputs": [],
   "source": [
    "# # df, betas, coeff = run_experiment(n=500, a=0, b=0, c=1, d=1, e=0, eps=0.0001, mcloops=100)\n",
    "# # {'epsilon': 5.0, 'min_n_pts': 2, 'M': 20}\n",
    "# # NORMAL\n",
    "# df[['x', 'y', 'BMR_low_beta1', 'BMR_up_beta1', 'BMR_low_beta2', 'BMR_up_beta2']]"
   ]
  },
  {
   "cell_type": "code",
   "execution_count": null,
   "id": "d6027e3c",
   "metadata": {},
   "outputs": [],
   "source": [
    "# # df, betas, coeff = run_experiment(n=500, a=0, b=0, c=1, d=1, e=0, eps=0.0001, mcloops=100)\n",
    "# # {'epsilon': 5.0, 'min_n_pts': 100, 'M': 20}\n",
    "# # UNIFORM\n",
    "# df[['x', 'y', 'BMR_low_beta1', 'BMR_up_beta1', 'BMR_low_beta2', 'BMR_up_beta2']]"
   ]
  },
  {
   "cell_type": "code",
   "execution_count": null,
   "id": "c26c0412",
   "metadata": {},
   "outputs": [],
   "source": [
    "# # df, betas, coeff = run_experiment(n=500, a=0, b=0, c=1, d=1, e=0, eps=0.0001, mcloops=100)\n",
    "# # {'epsilon': 0.24970063583258964, 'min_n_pts': 150, 'M': 20}\n",
    "# # UNIFORM\n",
    "# df[['x', 'y', 'BMR_low_beta1', 'BMR_up_beta1', 'BMR_low_beta2', 'BMR_up_beta2']]"
   ]
  },
  {
   "cell_type": "code",
   "execution_count": null,
   "id": "7390b9ad",
   "metadata": {},
   "outputs": [],
   "source": [
    "# # bmr_params = {'epsilon': 1, 'min_n_pts': 5, 'M': 10}\n",
    "# # UNIFORM\n",
    "# df[['x', 'y', 'BMR_low_beta1', 'BMR_up_beta1', 'BMR_low_beta2', 'BMR_up_beta2']]"
   ]
  },
  {
   "cell_type": "code",
   "execution_count": null,
   "id": "eeb40f09",
   "metadata": {},
   "outputs": [],
   "source": [
    "# pd.DataFrame.from_dict(coeff)"
   ]
  },
  {
   "cell_type": "code",
   "execution_count": null,
   "id": "00a8c886",
   "metadata": {},
   "outputs": [],
   "source": [
    "parser = argparse.ArgumentParser()\n",
    "parser.add_argument(\"--n\", type=int, required=True, help=\"sample size\")\n",
    "parser.add_argument(\"--a\", type=float, required=True, help=\"param a\")\n",
    "parser.add_argument(\"--b\", type=float, required=True, help=\"param b\")\n",
    "parser.add_argument(\"--c\", type=float, required=True, help=\"param c\")\n",
    "parser.add_argument(\"--d\", type=float, required=True, help=\"param d\")\n",
    "parser.add_argument(\"--e\", type=float, required=True, help=\"param e\")\n",
    "parser.add_argument(\"--eps\", type=float, required=True, help=\"noise\")\n",
    "parser.add_argument(\"--M\", type=int, required=True, help=\"number of MC loops\")\n",
    "parser.add_argument(\"--X\", type=str, required=True, help=\"X distribution\")\n",
    "args = parser.parse_args()"
   ]
  },
  {
   "cell_type": "code",
   "execution_count": null,
   "id": "6ee53076-09c2-41e5-af80-f649a2401ccc",
   "metadata": {},
   "outputs": [],
   "source": [
    "Xdist = args.X\n",
    "if Xdist not in ['U', 'N']:\n",
    "    raise ValueError(f'--X must be U or N. Found {Xdist}')\n",
    "\n",
    "run_experiment(n=args.n, a=args.a, b=args.b, c=args.c, d=args.d, e=args.e, eps=args.eps, mcloops=args.M)"
   ]
  }
 ],
 "metadata": {
  "kernelspec": {
   "display_name": "Python 3 (ipykernel)",
   "language": "python",
   "name": "python3"
  },
  "language_info": {
   "codemirror_mode": {
    "name": "ipython",
    "version": 3
   },
   "file_extension": ".py",
   "mimetype": "text/x-python",
   "name": "python",
   "nbconvert_exporter": "python",
   "pygments_lexer": "ipython3",
   "version": "3.7.0"
  }
 },
 "nbformat": 4,
 "nbformat_minor": 5
}
