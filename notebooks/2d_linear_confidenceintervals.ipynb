{
 "cells": [
  {
   "cell_type": "code",
   "execution_count": 2,
   "id": "1a550b9b-859a-42a2-96e3-34e8b71c96a8",
   "metadata": {},
   "outputs": [],
   "source": [
    "# run \n",
    "# jupyter nbconvert --to script 2d_linear_confidenceintervals.ipynb\n",
    "# to convert to .py strict and run the .py!\n",
    "import scipy.stats as ss\n",
    "import os\n",
    "import numpy as np\n",
    "import matplotlib.pyplot as plt\n",
    "import argparse\n",
    "from sklearn.linear_model import LinearRegression, Lasso\n",
    "from sklearn.metrics import r2_score, mean_squared_error\n",
    "from sklearn.preprocessing import StandardScaler\n",
    "from sklearn.experimental import enable_halving_search_cv\n",
    "from sklearn.model_selection import HalvingGridSearchCV\n",
    "from sklearn.svm import SVR  # for building SVR model\n",
    "import pickle\n",
    "\n",
    "import sys\n",
    "sys.path.insert(0,'..')\n",
    "\n",
    "from BMR.bmr import *\n",
    "#from pyearth import Earth\n",
    "import pandas as pd"
   ]
  },
  {
   "cell_type": "code",
   "execution_count": 3,
   "id": "482dc2dd-1d90-4fbb-b975-d4b913d57d53",
   "metadata": {},
   "outputs": [],
   "source": [
    "def gen_model(X, a, b, c, d, e):\n",
    "    return a*X[:, 0] + b*X[:, 1] + c*X[:, 0]**2 + d*X[:, 1]**2 + e*X[:, 0]*X[:, 1]\n",
    "def gen_data(n, a, b, c, d, e, eps):\n",
    "    if Xdist == 'U':\n",
    "        rng = ss.uniform(loc=-4, scale=8)\n",
    "    if Xdist == 'N':\n",
    "        rng = ss.norm()\n",
    "    X = rng.rvs(size=(n, 2))\n",
    "    y = gen_model(X=X, a=a, b=b, c=c, d=d, e=e)\n",
    "    if eps>0:\n",
    "        y += ss.norm(loc=0, scale=eps).rvs(size=(n, ))\n",
    "    y = y[:, np.newaxis]\n",
    "    return X, y\n",
    "\n",
    "# def get_mars_params(x, y):\n",
    "#     param_grid = {\"max_terms\": [1, 2, 3, 5, 10], \"max_degree\": [1, 2, 3, 4, 5]}\n",
    "#     mars = Earth()\n",
    "#     sh = HalvingGridSearchCV(mars, param_grid, cv=3, factor=3, n_jobs=1).fit(x, y)\n",
    "#     return sh.best_params_\n",
    "\n",
    "def get_svr_params(x, y):\n",
    "    param_grid = {\"C\": [0.1, 1, 10, 100, 300, 500, 750, 1000, 1500, 2000, 3000], \"degree\": [1, 2, 3, 4],\n",
    "                  \"epsilon\": [0.01, 0.1, 1, 10]}\n",
    "    svr = SVR(kernel=\"rbf\")\n",
    "    sh = HalvingGridSearchCV(svr, param_grid, cv=5, factor=3, n_jobs=1).fit(x, y)\n",
    "    return sh.best_params_\n",
    "\n",
    "def get_bmr_params(x, y, M, degree, substitution_policy=\"global\"):\n",
    "    n_trial = x.shape[0]\n",
    "    param_grid = {\n",
    "        \"epsilon\": [0.1, 0.2, 0.3, 0.5, 0.75, 1.0, 2.0, 5.0],\n",
    "        \"min_n_pts\": [2, 5, 10, 25, 50, 100],\n",
    "    }\n",
    "    bmr = BMR(min_n_pts=10, M=M, substitution_policy=substitution_policy, degree=degree, epsilon=0.5)\n",
    "    sh = HalvingGridSearchCV(bmr, param_grid, cv=3, factor=3, n_jobs=1).fit(x, y)\n",
    "    params = sh.best_params_\n",
    "    params['M'] = M\n",
    "    params['substitution_policy'] = substitution_policy\n",
    "    return params"
   ]
  },
  {
   "cell_type": "code",
   "execution_count": 4,
   "id": "81dee6c5-a9d4-43b6-942f-1081be7acf50",
   "metadata": {},
   "outputs": [],
   "source": [
    "# generate points in which prediction is made\n",
    "grid_points = np.arange(-3, 3.1, 0.2)\n",
    "mesh_X, mesh_Y = np.meshgrid(grid_points, grid_points)\n",
    "mesh_pts = np.array([np.ravel(mesh_X), np.ravel(mesh_Y)]).transpose()"
   ]
  },
  {
   "cell_type": "markdown",
   "id": "9cc1306f-5038-41ec-bf11-d0af9e15fb8e",
   "metadata": {},
   "source": [
    "# Some diagnostics\n",
    "1. In case of trully linear model with no noise expect coefficiants in all balls to be the same close to model values"
   ]
  },
  {
   "cell_type": "code",
   "execution_count": null,
   "id": "e400853a-3d98-43a1-949f-d1979866396b",
   "metadata": {},
   "outputs": [],
   "source": [
    "n=250\n",
    "a=1\n",
    "b=1\n",
    "c=0\n",
    "d=0\n",
    "e=0\n",
    "eps=0.00\n",
    "Xdist = 'U'\n",
    "X, y = gen_data(n=n, a=a, b=b, c=c, d=d, e=e, eps=eps)\n",
    "bmr = BMR(min_n_pts=10, M=2, epsilon=0.5)\n",
    "bmr.fit(X, y)\n",
    "# investigate the bmr structure\n",
    "bmr.summary()"
   ]
  },
  {
   "cell_type": "code",
   "execution_count": 6,
   "id": "96688688-e306-4508-8f1a-71f8278eacc9",
   "metadata": {},
   "outputs": [
    {
     "name": "stdout",
     "output_type": "stream",
     "text": [
      "{'epsilon': 0.5, 'min_n_pts': 2, 'M': 10, 'substitution_policy': 'global'}\n",
      "{'epsilon': 0.5, 'min_n_pts': 2, 'M': 10, 'substitution_policy': 'global'}\n",
      "{'epsilon': 0.75, 'min_n_pts': 2, 'M': 10, 'substitution_policy': 'global'}\n",
      "{'epsilon': 0.5, 'min_n_pts': 2, 'M': 10, 'substitution_policy': 'global'}\n",
      "{'epsilon': 0.75, 'min_n_pts': 2, 'M': 10, 'substitution_policy': 'global'}\n",
      "{'epsilon': 0.75, 'min_n_pts': 2, 'M': 10, 'substitution_policy': 'global'}\n",
      "{'epsilon': 0.5, 'min_n_pts': 2, 'M': 10, 'substitution_policy': 'global'}\n",
      "{'epsilon': 0.5, 'min_n_pts': 2, 'M': 10, 'substitution_policy': 'global'}\n",
      "{'epsilon': 0.5, 'min_n_pts': 2, 'M': 10, 'substitution_policy': 'global'}\n",
      "{'epsilon': 0.5, 'min_n_pts': 2, 'M': 10, 'substitution_policy': 'global'}\n"
     ]
    }
   ],
   "source": [
    "# check hyperparameters for BMR\n",
    "# global substitution\n",
    "n=250\n",
    "a=1\n",
    "b=1\n",
    "c=0\n",
    "d=0\n",
    "e=0\n",
    "eps=0.001\n",
    "Xdist='U'\n",
    "for loops in range(10):\n",
    "    X, y = gen_data(n=n, a=a, b=b, c=c, d=d, e=e, eps=eps)\n",
    "    params = get_bmr_params(X, y, M=10, degree=1)\n",
    "    print(params)"
   ]
  },
  {
   "cell_type": "code",
   "execution_count": null,
   "id": "96a182c7-5a85-477e-b067-9ee8a27b13ff",
   "metadata": {},
   "outputs": [],
   "source": [
    "# nearest substitution\n",
    "for loops in range(10):\n",
    "    X, y = gen_data(n=n, a=a, b=b, c=c, d=d, e=e, eps=eps)\n",
    "    params = get_bmr_params(X, y, M=10, degree=1substitution_policy=substitution_policy=\"nearest\")\n",
    "    print(params)"
   ]
  },
  {
   "cell_type": "code",
   "execution_count": 25,
   "id": "94c1f6b0-5493-43c1-b690-a3f4798a8d43",
   "metadata": {},
   "outputs": [],
   "source": [
    "def run_experiment(n, a, b, c, d, e, eps, mcloops=100):\n",
    "    alpha = 0.05\n",
    "    filename = f'CI_n={n}_a={a}_b={b}_c={c}_d{d}_e{e}_eps={eps}_X{Xdist}.csv'\n",
    "    filename_params = f'CI_n={n}_a={a}_b={b}_c={c}_d{d}_e{e}_eps={eps}_X{Xdist}_hyperparams.'\n",
    "    \n",
    "    X_pred = mesh_pts\n",
    "    y_true = gen_model(X_pred, a, b, c, d, e)\n",
    "\n",
    "    #generate one sample to set method parameters\n",
    "    X, y = gen_data(n=n, a=a, b=b, c=c, d=d, e=e, eps=eps)\n",
    "    #bmr_params = get_bmr_params(X, y, M=20, degree=1, substitution_policy='nearest')\n",
    "    bmr_params = {'epsilon': 0.1, 'min_n_pts': 25, 'M': 10, 'substitution_policy': 'nearest'}\n",
    "    #bmr_params = {'epsilon': 1, 'min_n_pts': 5, 'M': 10}\n",
    "    #mars_params = get_mars_params(X, y[:, 0])\n",
    "    svr_params = get_svr_params(X, y[:, 0])\n",
    "    \n",
    "    # save params to file\n",
    "    #pickle.dump([bmr_params, mars_params, svr_params], open(filename_params, 'wb'))\n",
    "    pickle.dump([bmr_params, svr_params], open(filename_params, 'wb'))\n",
    "    \n",
    "    # init methods\n",
    "    #methods_labels = ['LR', 'BMR', 'MARS', 'SVR']\n",
    "    methods_labels = ['LR', 'BMR', 'SVR']\n",
    "    \n",
    "    results = {}\n",
    "    betas = {}\n",
    "    intercepts = {}\n",
    "    for method_label in methods_labels:\n",
    "        results[method_label] = []\n",
    "        betas[method_label] = []\n",
    "        intercepts[method_label] = []\n",
    "\n",
    "    for loop in range(mcloops):\n",
    "        #if loop % 10 == 0:\n",
    "        print(f'Running loop {loop}/{mcloops} for {filename}')\n",
    "        \n",
    "        # run all methods on new data set\n",
    "        X, y = gen_data(n=n, a=a, b=b, c=c, d=d, e=e, eps=eps)\n",
    "        #methods = [LinearRegression(), BMR(**bmr_params), Earth(**mars_params), SVR(**svr_params)]\n",
    "        methods = [LinearRegression(), BMR(**bmr_params), SVR(**svr_params)]\n",
    "        for method_label, method in zip(methods_labels, methods):\n",
    "            if method_label == 'SVR':\n",
    "                method.fit(X, y[:, 0])\n",
    "            else:\n",
    "                method.fit(X, y)\n",
    "            pred = method.predict(X_pred)\n",
    "            if len(pred.shape) > 1:\n",
    "                pred = pred[:, 0]\n",
    "            results[method_label].append(pred)\n",
    "            # save coefficients\n",
    "            if method_label == 'BMR':\n",
    "                beta, intercept = method.coefficients(X_pred)\n",
    "                betas['BMR'].append(beta)\n",
    "                intercepts['BMR'].append(intercept)\n",
    "            if method_label == 'LR':\n",
    "                betas['LR'].append(method.coef_)\n",
    "                intercepts['LR'].append(method.intercept_)\n",
    "    coeff = {}\n",
    "    coeff['BMR_beta1_low'] = np.quantile(np.array(betas['BMR']), q=alpha/2, axis=0)[:, 0] \n",
    "    coeff['BMR_beta1_up'] = np.quantile(np.array(betas['BMR']), q=1-alpha/2, axis=0)[:, 0]\n",
    "    coeff['BMR_beta1_len'] = np.array(coeff['BMR_beta1_up']) - np.array(coeff['BMR_beta1_low'])\n",
    "    coeff['BMR_beta2_low'] = np.quantile(np.array(betas['BMR']), q=alpha/2, axis=0)[:, 1] \n",
    "    coeff['BMR_beta2_up'] = np.quantile(np.array(betas['BMR']), q=1-alpha/2, axis=0)[:, 1]\n",
    "    coeff['BMR_beta2_len'] = np.array(coeff['BMR_beta2_up']) - np.array(coeff['BMR_beta2_low'])\n",
    "    coeff['BMR_I_low'] = np.quantile(np.array(intercepts['BMR']), q=alpha/2, axis=0) \n",
    "    coeff['BMR_I_up'] = np.quantile(np.array(intercepts['BMR']), 1-alpha/2, axis=0) \n",
    "    coeff['BMR_I_len'] = np.array(coeff['BMR_I_up']) - np.array(coeff['BMR_I_low'])\n",
    "    coeff['LR_beta1_low'] = np.quantile(np.array(betas['LR']), q=alpha/2, axis=0)[:, 0].tolist()*X_pred.shape[0]\n",
    "    coeff['LR_beta1_up'] = np.quantile(np.array(betas['LR']), q=1-alpha/2, axis=0)[:, 0].tolist()*X_pred.shape[0]\n",
    "    coeff['LR_beta1_len'] = np.array(coeff['LR_beta1_up']) - np.array(coeff['LR_beta1_low'])\n",
    "    coeff['LR_beta2_low'] = np.quantile(np.array(betas['LR']), q=alpha/2, axis=0)[:, 1].tolist()*X_pred.shape[0]\n",
    "    coeff['LR_beta2_up'] = np.quantile(np.array(betas['LR']), q=1-alpha/2, axis=0)[:, 1].tolist()*X_pred.shape[0]\n",
    "    coeff['LR_beta2_len'] = np.array(coeff['LR_beta2_up']) - np.array(coeff['LR_beta2_low'])\n",
    "    coeff['LR_I_low'] = np.quantile(np.array(intercepts['LR']), q=alpha/2, axis=0).tolist()*X_pred.shape[0]\n",
    "    coeff['LR_I_up'] = np.quantile(np.array(intercepts['LR']), q=1-alpha/2, axis=0).tolist()*X_pred.shape[0]\n",
    "    coeff['LR_I_len'] = np.array(coeff['LR_I_up']) - np.array(coeff['LR_I_low'])\n",
    "       \n",
    "    # collect the results and prepare the csv\n",
    "    df0 = pd.DataFrame([mesh_pts[:, 0], mesh_pts[:, 1]]).transpose()\n",
    "    df0.columns = ['x', 'y']\n",
    "    dfs = [df0]\n",
    "    for method_label in methods_labels:\n",
    "        dat = np.array(results[method_label]).transpose()\n",
    "        ci_low = np.quantile(dat, q=alpha/2, axis=1)\n",
    "        ci_up = np.quantile(dat, q=1-alpha/2, axis=1)\n",
    "        mse = np.mean((dat - y_true.reshape(-1,1))**2, axis=1)\n",
    "        df = pd.DataFrame([ci_low, ci_up, ci_up-ci_low, mse]).transpose()\n",
    "        df.columns = [f'{method_label}_CI_low', f'{method_label}_CI_up', f'{method_label}_CI_len', f'{method_label}_MSE']\n",
    "        dfs.append(df)\n",
    "    # add DataFrame containing coefficients\n",
    "    dfs.append(pd.DataFrame(coeff))\n",
    "    df = pd.concat(dfs, axis=1)\n",
    "    df.to_csv(filename, index=False)\n",
    "    return df, betas, coeff"
   ]
  },
  {
   "cell_type": "code",
   "execution_count": 26,
   "id": "91b09cb5",
   "metadata": {},
   "outputs": [
    {
     "name": "stdout",
     "output_type": "stream",
     "text": [
      "Running loop 0/5 for CI_n=250_a=1_b=2_c=0_d0_e0_eps=0.01_XU.csv\n"
     ]
    },
    {
     "ename": "KeyboardInterrupt",
     "evalue": "",
     "output_type": "error",
     "traceback": [
      "\u001b[0;31m---------------------------------------------------------------------------\u001b[0m",
      "\u001b[0;31mKeyboardInterrupt\u001b[0m                         Traceback (most recent call last)",
      "Cell \u001b[0;32mIn[26], line 1\u001b[0m\n\u001b[0;32m----> 1\u001b[0m df, betas, coeff \u001b[38;5;241m=\u001b[39m \u001b[43mrun_experiment\u001b[49m\u001b[43m(\u001b[49m\u001b[43mn\u001b[49m\u001b[38;5;241;43m=\u001b[39;49m\u001b[38;5;241;43m250\u001b[39;49m\u001b[43m,\u001b[49m\u001b[43m \u001b[49m\u001b[43ma\u001b[49m\u001b[38;5;241;43m=\u001b[39;49m\u001b[38;5;241;43m1\u001b[39;49m\u001b[43m,\u001b[49m\u001b[43m \u001b[49m\u001b[43mb\u001b[49m\u001b[38;5;241;43m=\u001b[39;49m\u001b[38;5;241;43m2\u001b[39;49m\u001b[43m,\u001b[49m\u001b[43m \u001b[49m\u001b[43mc\u001b[49m\u001b[38;5;241;43m=\u001b[39;49m\u001b[38;5;241;43m0\u001b[39;49m\u001b[43m,\u001b[49m\u001b[43m \u001b[49m\u001b[43md\u001b[49m\u001b[38;5;241;43m=\u001b[39;49m\u001b[38;5;241;43m0\u001b[39;49m\u001b[43m,\u001b[49m\u001b[43m \u001b[49m\u001b[43me\u001b[49m\u001b[38;5;241;43m=\u001b[39;49m\u001b[38;5;241;43m0\u001b[39;49m\u001b[43m,\u001b[49m\u001b[43m \u001b[49m\u001b[43meps\u001b[49m\u001b[38;5;241;43m=\u001b[39;49m\u001b[38;5;241;43m0.01\u001b[39;49m\u001b[43m,\u001b[49m\u001b[43m \u001b[49m\u001b[43mmcloops\u001b[49m\u001b[38;5;241;43m=\u001b[39;49m\u001b[38;5;241;43m5\u001b[39;49m\u001b[43m)\u001b[49m\n",
      "Cell \u001b[0;32mIn[25], line 45\u001b[0m, in \u001b[0;36mrun_experiment\u001b[0;34m(n, a, b, c, d, e, eps, mcloops)\u001b[0m\n\u001b[1;32m     43\u001b[0m     method\u001b[38;5;241m.\u001b[39mfit(X, y[:, \u001b[38;5;241m0\u001b[39m])\n\u001b[1;32m     44\u001b[0m \u001b[38;5;28;01melse\u001b[39;00m:\n\u001b[0;32m---> 45\u001b[0m     \u001b[43mmethod\u001b[49m\u001b[38;5;241;43m.\u001b[39;49m\u001b[43mfit\u001b[49m\u001b[43m(\u001b[49m\u001b[43mX\u001b[49m\u001b[43m,\u001b[49m\u001b[43m \u001b[49m\u001b[43my\u001b[49m\u001b[43m)\u001b[49m\n\u001b[1;32m     46\u001b[0m pred \u001b[38;5;241m=\u001b[39m method\u001b[38;5;241m.\u001b[39mpredict(X_pred)\n\u001b[1;32m     47\u001b[0m \u001b[38;5;28;01mif\u001b[39;00m \u001b[38;5;28mlen\u001b[39m(pred\u001b[38;5;241m.\u001b[39mshape) \u001b[38;5;241m>\u001b[39m \u001b[38;5;241m1\u001b[39m:\n",
      "File \u001b[0;32m~/LocalRegression/localised-regression/notebooks/../BMR/bmr.py:111\u001b[0m, in \u001b[0;36mBMR.fit\u001b[0;34m(self, x, y)\u001b[0m\n\u001b[1;32m    105\u001b[0m \u001b[38;5;28;01mif\u001b[39;00m min_id \u001b[38;5;129;01mis\u001b[39;00m \u001b[38;5;28;01mNone\u001b[39;00m:\n\u001b[1;32m    106\u001b[0m     \u001b[38;5;66;03m# raise ValueError(f'All balls in BM contain less than {self.min_n_pts} points. '\u001b[39;00m\n\u001b[1;32m    107\u001b[0m     \u001b[38;5;66;03m#                  f'Reduce value of min_pts parameter')\u001b[39;00m\n\u001b[1;32m    108\u001b[0m     \u001b[38;5;66;03m# print(f'Warning. All balls in BM contain less than {self.min_n_pts} points. '\u001b[39;00m\n\u001b[1;32m    109\u001b[0m     \u001b[38;5;66;03m#      f'Reduce value of min_pts parameter by approx 20% to {int(self.min_n_pts*0.8)}')\u001b[39;00m\n\u001b[1;32m    110\u001b[0m     \u001b[38;5;28mself\u001b[39m\u001b[38;5;241m.\u001b[39mmin_n_pts \u001b[38;5;241m=\u001b[39m \u001b[38;5;28mint\u001b[39m(\u001b[38;5;28mself\u001b[39m\u001b[38;5;241m.\u001b[39mmin_n_pts \u001b[38;5;241m*\u001b[39m \u001b[38;5;241m0.8\u001b[39m)\n\u001b[0;32m--> 111\u001b[0m     \u001b[38;5;28;43mself\u001b[39;49m\u001b[38;5;241;43m.\u001b[39;49m\u001b[43mfit\u001b[49m\u001b[43m(\u001b[49m\u001b[43mx\u001b[49m\u001b[43m,\u001b[49m\u001b[43m \u001b[49m\u001b[43my\u001b[49m\u001b[43m)\u001b[49m\n\u001b[1;32m    112\u001b[0m     \u001b[38;5;28;01mbreak\u001b[39;00m\n\u001b[1;32m    113\u001b[0m big_pts_ids \u001b[38;5;241m=\u001b[39m bm\u001b[38;5;241m.\u001b[39mGraph\u001b[38;5;241m.\u001b[39mnodes[min_id][\u001b[38;5;124m\"\u001b[39m\u001b[38;5;124mpoints covered\u001b[39m\u001b[38;5;124m\"\u001b[39m]\n",
      "File \u001b[0;32m~/LocalRegression/localised-regression/notebooks/../BMR/bmr.py:111\u001b[0m, in \u001b[0;36mBMR.fit\u001b[0;34m(self, x, y)\u001b[0m\n\u001b[1;32m    105\u001b[0m \u001b[38;5;28;01mif\u001b[39;00m min_id \u001b[38;5;129;01mis\u001b[39;00m \u001b[38;5;28;01mNone\u001b[39;00m:\n\u001b[1;32m    106\u001b[0m     \u001b[38;5;66;03m# raise ValueError(f'All balls in BM contain less than {self.min_n_pts} points. '\u001b[39;00m\n\u001b[1;32m    107\u001b[0m     \u001b[38;5;66;03m#                  f'Reduce value of min_pts parameter')\u001b[39;00m\n\u001b[1;32m    108\u001b[0m     \u001b[38;5;66;03m# print(f'Warning. All balls in BM contain less than {self.min_n_pts} points. '\u001b[39;00m\n\u001b[1;32m    109\u001b[0m     \u001b[38;5;66;03m#      f'Reduce value of min_pts parameter by approx 20% to {int(self.min_n_pts*0.8)}')\u001b[39;00m\n\u001b[1;32m    110\u001b[0m     \u001b[38;5;28mself\u001b[39m\u001b[38;5;241m.\u001b[39mmin_n_pts \u001b[38;5;241m=\u001b[39m \u001b[38;5;28mint\u001b[39m(\u001b[38;5;28mself\u001b[39m\u001b[38;5;241m.\u001b[39mmin_n_pts \u001b[38;5;241m*\u001b[39m \u001b[38;5;241m0.8\u001b[39m)\n\u001b[0;32m--> 111\u001b[0m     \u001b[38;5;28;43mself\u001b[39;49m\u001b[38;5;241;43m.\u001b[39;49m\u001b[43mfit\u001b[49m\u001b[43m(\u001b[49m\u001b[43mx\u001b[49m\u001b[43m,\u001b[49m\u001b[43m \u001b[49m\u001b[43my\u001b[49m\u001b[43m)\u001b[49m\n\u001b[1;32m    112\u001b[0m     \u001b[38;5;28;01mbreak\u001b[39;00m\n\u001b[1;32m    113\u001b[0m big_pts_ids \u001b[38;5;241m=\u001b[39m bm\u001b[38;5;241m.\u001b[39mGraph\u001b[38;5;241m.\u001b[39mnodes[min_id][\u001b[38;5;124m\"\u001b[39m\u001b[38;5;124mpoints covered\u001b[39m\u001b[38;5;124m\"\u001b[39m]\n",
      "    \u001b[0;31m[... skipping similar frames: BMR.fit at line 111 (5 times)]\u001b[0m\n",
      "File \u001b[0;32m~/LocalRegression/localised-regression/notebooks/../BMR/bmr.py:111\u001b[0m, in \u001b[0;36mBMR.fit\u001b[0;34m(self, x, y)\u001b[0m\n\u001b[1;32m    105\u001b[0m \u001b[38;5;28;01mif\u001b[39;00m min_id \u001b[38;5;129;01mis\u001b[39;00m \u001b[38;5;28;01mNone\u001b[39;00m:\n\u001b[1;32m    106\u001b[0m     \u001b[38;5;66;03m# raise ValueError(f'All balls in BM contain less than {self.min_n_pts} points. '\u001b[39;00m\n\u001b[1;32m    107\u001b[0m     \u001b[38;5;66;03m#                  f'Reduce value of min_pts parameter')\u001b[39;00m\n\u001b[1;32m    108\u001b[0m     \u001b[38;5;66;03m# print(f'Warning. All balls in BM contain less than {self.min_n_pts} points. '\u001b[39;00m\n\u001b[1;32m    109\u001b[0m     \u001b[38;5;66;03m#      f'Reduce value of min_pts parameter by approx 20% to {int(self.min_n_pts*0.8)}')\u001b[39;00m\n\u001b[1;32m    110\u001b[0m     \u001b[38;5;28mself\u001b[39m\u001b[38;5;241m.\u001b[39mmin_n_pts \u001b[38;5;241m=\u001b[39m \u001b[38;5;28mint\u001b[39m(\u001b[38;5;28mself\u001b[39m\u001b[38;5;241m.\u001b[39mmin_n_pts \u001b[38;5;241m*\u001b[39m \u001b[38;5;241m0.8\u001b[39m)\n\u001b[0;32m--> 111\u001b[0m     \u001b[38;5;28;43mself\u001b[39;49m\u001b[38;5;241;43m.\u001b[39;49m\u001b[43mfit\u001b[49m\u001b[43m(\u001b[49m\u001b[43mx\u001b[49m\u001b[43m,\u001b[49m\u001b[43m \u001b[49m\u001b[43my\u001b[49m\u001b[43m)\u001b[49m\n\u001b[1;32m    112\u001b[0m     \u001b[38;5;28;01mbreak\u001b[39;00m\n\u001b[1;32m    113\u001b[0m big_pts_ids \u001b[38;5;241m=\u001b[39m bm\u001b[38;5;241m.\u001b[39mGraph\u001b[38;5;241m.\u001b[39mnodes[min_id][\u001b[38;5;124m\"\u001b[39m\u001b[38;5;124mpoints covered\u001b[39m\u001b[38;5;124m\"\u001b[39m]\n",
      "File \u001b[0;32m~/LocalRegression/localised-regression/notebooks/../BMR/bmr.py:100\u001b[0m, in \u001b[0;36mBMR.fit\u001b[0;34m(self, x, y)\u001b[0m\n\u001b[1;32m     98\u001b[0m big_pts_ids \u001b[38;5;241m=\u001b[39m bm\u001b[38;5;241m.\u001b[39mGraph\u001b[38;5;241m.\u001b[39mnodes[big_node_id][\u001b[38;5;124m\"\u001b[39m\u001b[38;5;124mpoints covered\u001b[39m\u001b[38;5;124m\"\u001b[39m]\n\u001b[1;32m     99\u001b[0m \u001b[38;5;28;01mif\u001b[39;00m \u001b[38;5;28mlen\u001b[39m(big_pts_ids) \u001b[38;5;241m>\u001b[39m\u001b[38;5;241m=\u001b[39m \u001b[38;5;28mself\u001b[39m\u001b[38;5;241m.\u001b[39mmin_n_pts:\n\u001b[0;32m--> 100\u001b[0m     big_ball_location \u001b[38;5;241m=\u001b[39m \u001b[43mnp\u001b[49m\u001b[38;5;241;43m.\u001b[39;49m\u001b[43mmean\u001b[49m\u001b[43m(\u001b[49m\u001b[43mxscaled\u001b[49m\u001b[43m[\u001b[49m\u001b[43mbig_pts_ids\u001b[49m\u001b[43m,\u001b[49m\u001b[43m \u001b[49m\u001b[43m:\u001b[49m\u001b[43m]\u001b[49m\u001b[43m,\u001b[49m\u001b[43m \u001b[49m\u001b[43maxis\u001b[49m\u001b[38;5;241;43m=\u001b[39;49m\u001b[38;5;241;43m0\u001b[39;49m\u001b[43m)\u001b[49m\n\u001b[1;32m    101\u001b[0m     dist \u001b[38;5;241m=\u001b[39m np\u001b[38;5;241m.\u001b[39mlinalg\u001b[38;5;241m.\u001b[39mnorm(small_ball_location \u001b[38;5;241m-\u001b[39m big_ball_location)\n\u001b[1;32m    102\u001b[0m     \u001b[38;5;28;01mif\u001b[39;00m dist \u001b[38;5;241m<\u001b[39m min_dist:\n",
      "File \u001b[0;32m<__array_function__ internals>:200\u001b[0m, in \u001b[0;36mmean\u001b[0;34m(*args, **kwargs)\u001b[0m\n",
      "File \u001b[0;32m~/LocalRegression/localised-regression/venv/lib/python3.10/site-packages/numpy/core/fromnumeric.py:3464\u001b[0m, in \u001b[0;36mmean\u001b[0;34m(a, axis, dtype, out, keepdims, where)\u001b[0m\n\u001b[1;32m   3461\u001b[0m     \u001b[38;5;28;01melse\u001b[39;00m:\n\u001b[1;32m   3462\u001b[0m         \u001b[38;5;28;01mreturn\u001b[39;00m mean(axis\u001b[38;5;241m=\u001b[39maxis, dtype\u001b[38;5;241m=\u001b[39mdtype, out\u001b[38;5;241m=\u001b[39mout, \u001b[38;5;241m*\u001b[39m\u001b[38;5;241m*\u001b[39mkwargs)\n\u001b[0;32m-> 3464\u001b[0m \u001b[38;5;28;01mreturn\u001b[39;00m \u001b[43m_methods\u001b[49m\u001b[38;5;241;43m.\u001b[39;49m\u001b[43m_mean\u001b[49m\u001b[43m(\u001b[49m\u001b[43ma\u001b[49m\u001b[43m,\u001b[49m\u001b[43m \u001b[49m\u001b[43maxis\u001b[49m\u001b[38;5;241;43m=\u001b[39;49m\u001b[43maxis\u001b[49m\u001b[43m,\u001b[49m\u001b[43m \u001b[49m\u001b[43mdtype\u001b[49m\u001b[38;5;241;43m=\u001b[39;49m\u001b[43mdtype\u001b[49m\u001b[43m,\u001b[49m\n\u001b[1;32m   3465\u001b[0m \u001b[43m                      \u001b[49m\u001b[43mout\u001b[49m\u001b[38;5;241;43m=\u001b[39;49m\u001b[43mout\u001b[49m\u001b[43m,\u001b[49m\u001b[43m \u001b[49m\u001b[38;5;241;43m*\u001b[39;49m\u001b[38;5;241;43m*\u001b[39;49m\u001b[43mkwargs\u001b[49m\u001b[43m)\u001b[49m\n",
      "File \u001b[0;32m~/LocalRegression/localised-regression/venv/lib/python3.10/site-packages/numpy/core/_methods.py:169\u001b[0m, in \u001b[0;36m_mean\u001b[0;34m(a, axis, dtype, out, keepdims, where)\u001b[0m\n\u001b[1;32m    165\u001b[0m arr \u001b[38;5;241m=\u001b[39m asanyarray(a)\n\u001b[1;32m    167\u001b[0m is_float16_result \u001b[38;5;241m=\u001b[39m \u001b[38;5;28;01mFalse\u001b[39;00m\n\u001b[0;32m--> 169\u001b[0m rcount \u001b[38;5;241m=\u001b[39m \u001b[43m_count_reduce_items\u001b[49m\u001b[43m(\u001b[49m\u001b[43marr\u001b[49m\u001b[43m,\u001b[49m\u001b[43m \u001b[49m\u001b[43maxis\u001b[49m\u001b[43m,\u001b[49m\u001b[43m \u001b[49m\u001b[43mkeepdims\u001b[49m\u001b[38;5;241;43m=\u001b[39;49m\u001b[43mkeepdims\u001b[49m\u001b[43m,\u001b[49m\u001b[43m \u001b[49m\u001b[43mwhere\u001b[49m\u001b[38;5;241;43m=\u001b[39;49m\u001b[43mwhere\u001b[49m\u001b[43m)\u001b[49m\n\u001b[1;32m    170\u001b[0m \u001b[38;5;28;01mif\u001b[39;00m rcount \u001b[38;5;241m==\u001b[39m \u001b[38;5;241m0\u001b[39m \u001b[38;5;28;01mif\u001b[39;00m where \u001b[38;5;129;01mis\u001b[39;00m \u001b[38;5;28;01mTrue\u001b[39;00m \u001b[38;5;28;01melse\u001b[39;00m umr_any(rcount \u001b[38;5;241m==\u001b[39m \u001b[38;5;241m0\u001b[39m, axis\u001b[38;5;241m=\u001b[39m\u001b[38;5;28;01mNone\u001b[39;00m):\n\u001b[1;32m    171\u001b[0m     warnings\u001b[38;5;241m.\u001b[39mwarn(\u001b[38;5;124m\"\u001b[39m\u001b[38;5;124mMean of empty slice.\u001b[39m\u001b[38;5;124m\"\u001b[39m, \u001b[38;5;167;01mRuntimeWarning\u001b[39;00m, stacklevel\u001b[38;5;241m=\u001b[39m\u001b[38;5;241m2\u001b[39m)\n",
      "File \u001b[0;32m~/LocalRegression/localised-regression/venv/lib/python3.10/site-packages/numpy/core/_methods.py:78\u001b[0m, in \u001b[0;36m_count_reduce_items\u001b[0;34m(arr, axis, keepdims, where)\u001b[0m\n\u001b[1;32m     76\u001b[0m     \u001b[38;5;28;01mfor\u001b[39;00m ax \u001b[38;5;129;01min\u001b[39;00m axis:\n\u001b[1;32m     77\u001b[0m         items \u001b[38;5;241m*\u001b[39m\u001b[38;5;241m=\u001b[39m arr\u001b[38;5;241m.\u001b[39mshape[mu\u001b[38;5;241m.\u001b[39mnormalize_axis_index(ax, arr\u001b[38;5;241m.\u001b[39mndim)]\n\u001b[0;32m---> 78\u001b[0m     items \u001b[38;5;241m=\u001b[39m \u001b[43mnt\u001b[49m\u001b[38;5;241;43m.\u001b[39;49m\u001b[43mintp\u001b[49m\u001b[43m(\u001b[49m\u001b[43mitems\u001b[49m\u001b[43m)\u001b[49m\n\u001b[1;32m     79\u001b[0m \u001b[38;5;28;01melse\u001b[39;00m:\n\u001b[1;32m     80\u001b[0m     \u001b[38;5;66;03m# TODO: Optimize case when `where` is broadcast along a non-reduction\u001b[39;00m\n\u001b[1;32m     81\u001b[0m     \u001b[38;5;66;03m# axis and full sum is more excessive than needed.\u001b[39;00m\n\u001b[1;32m     82\u001b[0m \n\u001b[1;32m     83\u001b[0m     \u001b[38;5;66;03m# guarded to protect circular imports\u001b[39;00m\n\u001b[1;32m     84\u001b[0m     \u001b[38;5;28;01mfrom\u001b[39;00m \u001b[38;5;21;01mnumpy\u001b[39;00m\u001b[38;5;21;01m.\u001b[39;00m\u001b[38;5;21;01mlib\u001b[39;00m\u001b[38;5;21;01m.\u001b[39;00m\u001b[38;5;21;01mstride_tricks\u001b[39;00m \u001b[38;5;28;01mimport\u001b[39;00m broadcast_to\n",
      "\u001b[0;31mKeyboardInterrupt\u001b[0m: "
     ]
    }
   ],
   "source": [
    "df, betas, coeff = run_experiment(n=250, a=1, b=2, c=0, d=0, e=0, eps=0.01, mcloops=2)"
   ]
  },
  {
   "cell_type": "code",
   "execution_count": 17,
   "id": "f70a24f3-c2e8-4037-b98e-7714c7c079e1",
   "metadata": {},
   "outputs": [
    {
     "data": {
      "text/plain": [
       "0.2396934065492736"
      ]
     },
     "execution_count": 17,
     "metadata": {},
     "output_type": "execute_result"
    }
   ],
   "source": [
    "np.mean(coeff['BMR_beta1_low'])"
   ]
  },
  {
   "cell_type": "code",
   "execution_count": 18,
   "id": "f6848deb-0513-417d-b108-b768ca92c6cf",
   "metadata": {},
   "outputs": [
    {
     "data": {
      "text/plain": [
       "1.2512525165961206"
      ]
     },
     "execution_count": 18,
     "metadata": {},
     "output_type": "execute_result"
    }
   ],
   "source": [
    "np.mean(coeff['BMR_beta1_up'])"
   ]
  },
  {
   "cell_type": "code",
   "execution_count": 19,
   "id": "169e591d-6b9f-4bb1-a45a-ce12f0f25eed",
   "metadata": {},
   "outputs": [
    {
     "data": {
      "text/plain": [
       "0.9810481193635655"
      ]
     },
     "execution_count": 19,
     "metadata": {},
     "output_type": "execute_result"
    }
   ],
   "source": [
    "np.mean(coeff['BMR_beta2_low'])"
   ]
  },
  {
   "cell_type": "code",
   "execution_count": 20,
   "id": "d8094009-9fbd-48e6-8a79-1b187a5c2aa6",
   "metadata": {},
   "outputs": [
    {
     "data": {
      "text/plain": [
       "2.0722289163653485"
      ]
     },
     "execution_count": 20,
     "metadata": {},
     "output_type": "execute_result"
    }
   ],
   "source": [
    "np.mean(coeff['BMR_beta2_up'])"
   ]
  },
  {
   "cell_type": "code",
   "execution_count": 59,
   "id": "5d08526e",
   "metadata": {},
   "outputs": [],
   "source": [
    "# # df, betas, coeff = run_experiment(n=500, a=0, b=0, c=1, d=1, e=0, eps=0.0001, mcloops=100)\n",
    "# # {'epsilon': 5.0, 'min_n_pts': 2, 'M': 20}\n",
    "# # NORMAL\n",
    "# df[['x', 'y', 'BMR_low_beta1', 'BMR_up_beta1', 'BMR_low_beta2', 'BMR_up_beta2']]"
   ]
  },
  {
   "cell_type": "code",
   "execution_count": 60,
   "id": "d6027e3c",
   "metadata": {},
   "outputs": [],
   "source": [
    "# # df, betas, coeff = run_experiment(n=500, a=0, b=0, c=1, d=1, e=0, eps=0.0001, mcloops=100)\n",
    "# # {'epsilon': 5.0, 'min_n_pts': 100, 'M': 20}\n",
    "# # UNIFORM\n",
    "# df[['x', 'y', 'BMR_low_beta1', 'BMR_up_beta1', 'BMR_low_beta2', 'BMR_up_beta2']]"
   ]
  },
  {
   "cell_type": "code",
   "execution_count": 61,
   "id": "c26c0412",
   "metadata": {},
   "outputs": [],
   "source": [
    "# # df, betas, coeff = run_experiment(n=500, a=0, b=0, c=1, d=1, e=0, eps=0.0001, mcloops=100)\n",
    "# # {'epsilon': 0.24970063583258964, 'min_n_pts': 150, 'M': 20}\n",
    "# # UNIFORM\n",
    "# df[['x', 'y', 'BMR_low_beta1', 'BMR_up_beta1', 'BMR_low_beta2', 'BMR_up_beta2']]"
   ]
  },
  {
   "cell_type": "code",
   "execution_count": 62,
   "id": "7390b9ad",
   "metadata": {},
   "outputs": [],
   "source": [
    "# # bmr_params = {'epsilon': 1, 'min_n_pts': 5, 'M': 10}\n",
    "# # UNIFORM\n",
    "# df[['x', 'y', 'BMR_low_beta1', 'BMR_up_beta1', 'BMR_low_beta2', 'BMR_up_beta2']]"
   ]
  },
  {
   "cell_type": "code",
   "execution_count": 65,
   "id": "eeb40f09",
   "metadata": {},
   "outputs": [],
   "source": [
    "# pd.DataFrame.from_dict(coeff)"
   ]
  },
  {
   "cell_type": "code",
   "execution_count": 106,
   "id": "00a8c886",
   "metadata": {},
   "outputs": [
    {
     "name": "stderr",
     "output_type": "stream",
     "text": [
      "usage: ipykernel_launcher.py [-h] --f F\n",
      "ipykernel_launcher.py: error: the following arguments are required: --f\n"
     ]
    },
    {
     "ename": "SystemExit",
     "evalue": "2",
     "output_type": "error",
     "traceback": [
      "An exception has occurred, use %tb to see the full traceback.\n",
      "\u001b[0;31mSystemExit\u001b[0m\u001b[0;31m:\u001b[0m 2\n"
     ]
    },
    {
     "name": "stderr",
     "output_type": "stream",
     "text": [
      "/home/rafal/LocalRegression/localised-regression/venv/lib/python3.9/site-packages/IPython/core/interactiveshell.py:3441: UserWarning: To exit: use 'exit', 'quit', or Ctrl-D.\n",
      "  warn(\"To exit: use 'exit', 'quit', or Ctrl-D.\", stacklevel=1)\n"
     ]
    }
   ],
   "source": [
    "parser = argparse.ArgumentParser()\n",
    "parser.add_argument(\"--n\", type=int, required=True, help=\"sample size\")\n",
    "parser.add_argument(\"--a\", type=float, required=True, help=\"param a\")\n",
    "parser.add_argument(\"--b\", type=float, required=True, help=\"param b\")\n",
    "parser.add_argument(\"--c\", type=float, required=True, help=\"param c\")\n",
    "parser.add_argument(\"--d\", type=float, required=True, help=\"param d\")\n",
    "parser.add_argument(\"--e\", type=float, required=True, help=\"param e\")\n",
    "parser.add_argument(\"--eps\", type=float, required=True, help=\"noise\")\n",
    "parser.add_argument(\"--M\", type=int, required=True, help=\"number of MC loops\")\n",
    "parser.add_argument(\"--X\", type=str, required=True, help=\"X distribution\")\n",
    "args = parser.parse_args()"
   ]
  },
  {
   "cell_type": "code",
   "execution_count": null,
   "id": "6ee53076-09c2-41e5-af80-f649a2401ccc",
   "metadata": {},
   "outputs": [],
   "source": [
    "Xdist = args.X\n",
    "if Xdist not in ['U', 'N']:\n",
    "    raise ValueError(f'--X must be U or N. Found {Xdist}')\n",
    "\n",
    "run_experiment(n=args.n, a=args.a, b=args.b, c=args.c, d=args.d, e=args.e, eps=args.eps, mcloops=args.M)"
   ]
  }
 ],
 "metadata": {
  "kernelspec": {
   "display_name": "Python 3 (ipykernel)",
   "language": "python",
   "name": "python3"
  },
  "language_info": {
   "codemirror_mode": {
    "name": "ipython",
    "version": 3
   },
   "file_extension": ".py",
   "mimetype": "text/x-python",
   "name": "python",
   "nbconvert_exporter": "python",
   "pygments_lexer": "ipython3",
   "version": "3.10.6"
  }
 },
 "nbformat": 4,
 "nbformat_minor": 5
}
