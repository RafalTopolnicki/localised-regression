{
 "cells": [
  {
   "cell_type": "code",
   "execution_count": 1,
   "id": "8f811539-d463-40a3-a914-e2c41326a86c",
   "metadata": {},
   "outputs": [],
   "source": [
    "import random\n",
    "import pandas as pd\n",
    "import matplotlib.pyplot as plt\n",
    "from sklearn.model_selection import train_test_split\n",
    "from sklearn.datasets import load_boston\n",
    "from sklearn.preprocessing import StandardScaler\n",
    "from LocalRegression.ml_models import *\n",
    "import warnings\n",
    "warnings.filterwarnings(\"ignore\")"
   ]
  },
  {
   "cell_type": "code",
   "execution_count": 2,
   "id": "a0f30b0e-215b-4844-8062-eaa3c7a4508f",
   "metadata": {},
   "outputs": [],
   "source": [
    "random.seed(0)\n",
    "np.random.seed(0)"
   ]
  },
  {
   "cell_type": "code",
   "execution_count": 3,
   "id": "ce0d8be5-de86-4f1c-8d12-ac6ab24b3e33",
   "metadata": {},
   "outputs": [],
   "source": [
    "boston = load_boston()"
   ]
  },
  {
   "cell_type": "code",
   "execution_count": 4,
   "id": "b230afcc-e03a-43cc-ba99-4ebb74298390",
   "metadata": {},
   "outputs": [],
   "source": [
    "X = boston.data\n",
    "y = boston.target.reshape(-1,1)\n",
    "\n",
    "std_scaler = StandardScaler()\n",
    "std_scaler_y = StandardScaler()\n",
    "X_scaled = std_scaler.fit_transform(X)\n",
    "y_scaled = std_scaler_y.fit_transform(y)\n",
    "\n",
    "# train/test split\n",
    "X_train, X_test, y_train, y_test = train_test_split(X_scaled, y_scaled, test_size=0.25)"
   ]
  },
  {
   "cell_type": "code",
   "execution_count": null,
   "id": "4290e56d-ee4e-4c1e-aa03-e1dc8c9d3f0c",
   "metadata": {},
   "outputs": [
    {
     "name": "stdout",
     "output_type": "stream",
     "text": [
      "degee=1 pca_comp=None mape=1.9143571454233996 score=0.5125748364324093\n",
      "degee=1 pca_comp=1 mape=2.0026914007113708 score=0.5328526689209976\n",
      "degee=1 pca_comp=2 mape=1.7341688196138114 score=0.5110197517899039\n",
      "degee=1 pca_comp=3 mape=2.140581545828273 score=0.5581775682255381\n",
      "degee=1 pca_comp=4 mape=1.9160170082099999 score=0.5311170094886865\n",
      "degee=2 pca_comp=None mape=2.033883817500112 score=0.5371680462739871\n",
      "degee=2 pca_comp=1 mape=1.6859531606102522 score=0.5451636451860333\n",
      "degee=2 pca_comp=2 mape=1.8574933823953619 score=0.5358608486635712\n",
      "degee=2 pca_comp=3 mape=2.1956664548671565 score=0.5446413903788313\n",
      "degee=2 pca_comp=4 mape=2.24291076105673 score=0.5324284176713652\n",
      "degee=3 pca_comp=None mape=1.9044973572086674 score=0.5545785734909061\n",
      "degee=3 pca_comp=1 mape=2.0200749284194166 score=0.5890418936934955\n"
     ]
    }
   ],
   "source": [
    "for degree in [1, 2, 3]:\n",
    "    for pca_comp in [None, 1, 2, 3, 4]:\n",
    "        model = BMLR(cut=15, M=10, substitution_policy='nearest', degree=degree, max_pca_components=pca_comp)\n",
    "        model.fit(X_train, y_train)\n",
    "        pred = model.predict(X_test)\n",
    "        score = mean_squared_error(y_test, pred, squared=False)\n",
    "        mape = mean_absolute_percentage_error(y_test, pred)\n",
    "        print(f'degee={degree} pca_comp={pca_comp} mape={mape} score={score}')"
   ]
  },
  {
   "cell_type": "code",
   "execution_count": null,
   "id": "70f752a8-a465-4af7-abeb-9aa2d496563a",
   "metadata": {},
   "outputs": [],
   "source": [
    "def get_optimal_bmlr(degree):\n",
    "    bmlrs = {}\n",
    "    for cut in [0, 10, 20, 30, 50]:\n",
    "        bmlr_params = model_bmlr_params(X_train, y_train, cut=cut, M=20, degree=degree)\n",
    "        score, mape, pred, model = model_bmlr(X_train, y_train, X_test, y_test, cut=cut, M=20, degree=degree, params=bmlr_params)\n",
    "        bmlrs[cut] = [score, mape, pred, model]\n",
    "        print(score)\n",
    "    scores = [x[0] for x in bmlrs.values()]\n",
    "    opt_bmlr_id = np.argmin(scores)\n",
    "    opt_bmlr_cut = list(bmlrs.keys())[opt_bmlr_id]\n",
    "    opt_score_bmlr =  bmlrs[opt_bmlr_cut][0]\n",
    "    opt_pred_bmlr =  bmlrs[opt_bmlr_cut][2]\n",
    "    opt_model_bmlr = bmlrs[opt_bmlr_cut][3]\n",
    "    return opt_score_bmlr, opt_pred_bmlr, opt_model_bmlr"
   ]
  },
  {
   "cell_type": "code",
   "execution_count": null,
   "id": "9d921748-e5a3-44ce-bcc3-d0aaa6084e09",
   "metadata": {},
   "outputs": [],
   "source": [
    "bmlr_params = model_bmlr_params(X_train, y_train, cut=cut, M=20, degree=degree, pc)"
   ]
  },
  {
   "cell_type": "code",
   "execution_count": 14,
   "id": "5bfe4e92-3286-4fb4-a6d1-d27a2870cb32",
   "metadata": {},
   "outputs": [],
   "source": [
    "opt_score_bmlr, opt_pred_bmlr, opt_model_bmlr = get_optimal_bmlr(degree=1)"
   ]
  },
  {
   "cell_type": "code",
   "execution_count": 7,
   "id": "227deedd-311a-438c-8091-09f8b01561a3",
   "metadata": {},
   "outputs": [],
   "source": [
    "mars_params = model_mars_params(X_train, y_train)\n",
    "opt_score_mars, opt_mape_mars, opt_pred_mars, opt_model_mars = model_mars(X_train, y_train, X_test, y_test, params = mars_params)"
   ]
  },
  {
   "cell_type": "code",
   "execution_count": 8,
   "id": "289f77a2-4254-4e3d-9a2f-b1642d9f25e5",
   "metadata": {},
   "outputs": [],
   "source": [
    "svr_params = model_svr_params(X_train, y_train)\n",
    "opt_score_svr, opt_mape_svr, opt_pred_svr, opt_model_svr = model_svr(X_train, y_train, X_test, y_test, params = svr_params)"
   ]
  },
  {
   "cell_type": "code",
   "execution_count": 9,
   "id": "835dcc39-8f6d-4f8e-b246-ca4508d32f81",
   "metadata": {},
   "outputs": [],
   "source": [
    "rf_params = model_random_forest_params(X_train, y_train)\n",
    "opt_score_rf, opt_mape_rf, opt_pred_rf, opt_model_rf = model_random_forest(X_train, y_train, X_test, y_test, params = rf_params)"
   ]
  },
  {
   "cell_type": "code",
   "execution_count": 10,
   "id": "19255e33-8fcd-4f50-b889-c84934031291",
   "metadata": {},
   "outputs": [],
   "source": [
    "# train CatBoost model\n",
    "opt_score_cb, opt_mape_cb, opt_pred_cb, opt_model_cb = model_catboost(X_train, y_train, X_test, y_test)"
   ]
  },
  {
   "cell_type": "code",
   "execution_count": 15,
   "id": "8556e45f-29e5-4dd0-987f-4fcb1455d99e",
   "metadata": {},
   "outputs": [
    {
     "name": "stdout",
     "output_type": "stream",
     "text": [
      "RMSE(BMLR)/RMSE(MARS): 1.0600047659796858\n",
      "RMSE(BMLR)/RMSE(SV): 1.2638271716680312\n",
      "RMSE(BMLR)/RMSE(RF): 1.3173046756245477\n",
      "RMSE(BMLR)/RMSE(CB): 1.1646922613259034\n"
     ]
    }
   ],
   "source": [
    "print(f'RMSE(BMLR)/RMSE(MARS): {opt_score_bmlr/opt_score_mars}')\n",
    "print(f'RMSE(BMLR)/RMSE(SV): {opt_score_bmlr/opt_score_svr}')\n",
    "print(f'RMSE(BMLR)/RMSE(RF): {opt_score_bmlr/opt_score_rf}')\n",
    "print(f'RMSE(BMLR)/RMSE(CB): {opt_score_bmlr/opt_score_cb}')"
   ]
  },
  {
   "cell_type": "code",
   "execution_count": 16,
   "id": "dc174884-e440-4a3f-a401-90b604b47811",
   "metadata": {},
   "outputs": [
    {
     "data": {
      "text/plain": [
       "<matplotlib.legend.Legend at 0x7f552c0d9e20>"
      ]
     },
     "execution_count": 16,
     "metadata": {},
     "output_type": "execute_result"
    },
    {
     "data": {
      "image/png": "[encoded data removed]",
      "text/plain": [
       "<Figure size 432x288 with 1 Axes>"
      ]
     },
     "metadata": {
      "needs_background": "light"
     },
     "output_type": "display_data"
    }
   ],
   "source": [
    "plt.plot(y_train, opt_model_bmlr.predict(X_train), 'o', label='BMLR Train')\n",
    "plt.plot(y_test, opt_model_bmlr.predict(X_test), 'o', label='BMLR Test')\n",
    "plt.plot(y_test, opt_pred_cb, 'o', label='CatBoost Test')\n",
    "plt.legend()"
   ]
  },
  {
   "cell_type": "code",
   "execution_count": 18,
   "id": "8cf14ed2-de54-4517-bec4-621f55946ea2",
   "metadata": {},
   "outputs": [
    {
     "data": {
      "text/plain": [
       "['boston_mbrf.joblib']"
      ]
     },
     "execution_count": 18,
     "metadata": {},
     "output_type": "execute_result"
    }
   ],
   "source": [
    "import joblib\n",
    "joblib.dump(opt_model_rf, 'boston_rf.joblib')\n",
    "joblib.dump(opt_model_mars, 'boston_mars.joblib')\n",
    "joblib.dump(opt_model_svr, 'boston_svr.joblib')\n",
    "joblib.dump(opt_model_cb, 'boston_cb.joblib')\n",
    "joblib.dump(opt_model_bmlr, 'boston_mbrf.joblib')"
   ]
  }
 ],
 "metadata": {
  "kernelspec": {
   "display_name": "Python 3 (ipykernel)",
   "language": "python",
   "name": "python3"
  },
  "language_info": {
   "codemirror_mode": {
    "name": "ipython",
    "version": 3
   },
   "file_extension": ".py",
   "mimetype": "text/x-python",
   "name": "python",
   "nbconvert_exporter": "python",
   "pygments_lexer": "ipython3",
   "version": "3.8.10"
  }
 },
 "nbformat": 4,
 "nbformat_minor": 5
}
