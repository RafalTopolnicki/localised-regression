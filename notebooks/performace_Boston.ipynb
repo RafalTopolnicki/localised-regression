{
 "cells": [
  {
   "cell_type": "code",
   "execution_count": 1,
   "id": "1bf0c1b9-e769-4c3f-b8b1-33e84d68cefb",
   "metadata": {},
   "outputs": [],
   "source": [
    "import random\n",
    "import pandas as pd\n",
    "import matplotlib.pyplot as plt\n",
    "import sys\n",
    "from sklearn.datasets import load_boston\n",
    "import warnings\n",
    "import joblib\n",
    "\n",
    "warnings.filterwarnings(\"ignore\")\n",
    "sys.path.insert(0,'..')\n",
    "\n",
    "from BMR.ml_models import *\n",
    "\n",
    "random.seed(0)\n",
    "np.random.seed(0)"
   ]
  },
  {
   "cell_type": "code",
   "execution_count": 2,
   "id": "b230afcc-e03a-43cc-ba99-4ebb74298390",
   "metadata": {},
   "outputs": [],
   "source": [
    "boston = load_boston()\n",
    "\n",
    "X = boston.data\n",
    "# drop categorical variables\n",
    "X = X[:, [0, 1, 2, 4, 5, 6, 7, 9, 10, 11, 12]]\n",
    "y = boston.target.reshape(-1,1)"
   ]
  },
  {
   "cell_type": "code",
   "execution_count": null,
   "id": "693cd1b0-2b5f-4c40-bcab-ce2af77a29a0",
   "metadata": {},
   "outputs": [
    {
     "name": "stdout",
     "output_type": "stream",
     "text": [
      "*** Method=bmr1 loop=0\n",
      "*** Method=bmr1 loop=1\n",
      "*** Method=bmr1 loop=2\n",
      "*** Method=bmr1 loop=3\n",
      "*** Method=bmr1 loop=4\n",
      "*** Method=bmr1 loop=5\n",
      "*** Method=bmr1 loop=6\n",
      "*** Method=bmr1 loop=7\n",
      "*** Method=bmr1 loop=8\n",
      "*** Method=bmr1 loop=9\n",
      "*** Method=bmr2 loop=0\n",
      "*** Method=bmr2 loop=1\n",
      "*** Method=bmr2 loop=2\n",
      "*** Method=bmr2 loop=3\n",
      "*** Method=bmr2 loop=4\n",
      "*** Method=bmr2 loop=5\n",
      "*** Method=bmr2 loop=6\n",
      "*** Method=bmr2 loop=7\n",
      "*** Method=bmr2 loop=8\n",
      "*** Method=bmr2 loop=9\n",
      "*** Method=bmr3 loop=0\n",
      "*** Method=bmr3 loop=1\n",
      "*** Method=bmr3 loop=2\n",
      "*** Method=bmr3 loop=3\n",
      "*** Method=bmr3 loop=4\n",
      "*** Method=bmr3 loop=5\n",
      "*** Method=bmr3 loop=6\n",
      "*** Method=bmr3 loop=7\n"
     ]
    }
   ],
   "source": [
    "run_all(X, y, f'Boston.joblib', mcloops=10)"
   ]
  }
 ],
 "metadata": {
  "kernelspec": {
   "display_name": "Python 3 (ipykernel)",
   "language": "python",
   "name": "python3"
  },
  "language_info": {
   "codemirror_mode": {
    "name": "ipython",
    "version": 3
   },
   "file_extension": ".py",
   "mimetype": "text/x-python",
   "name": "python",
   "nbconvert_exporter": "python",
   "pygments_lexer": "ipython3",
   "version": "3.9.7"
  }
 },
 "nbformat": 4,
 "nbformat_minor": 5
}
