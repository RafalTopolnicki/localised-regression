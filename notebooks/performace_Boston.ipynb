{
 "cells": [
  {
   "cell_type": "code",
   "execution_count": 1,
   "id": "1bf0c1b9-e769-4c3f-b8b1-33e84d68cefb",
   "metadata": {},
   "outputs": [],
   "source": [
    "import random\n",
    "import pandas as pd\n",
    "import matplotlib.pyplot as plt\n",
    "import sys\n",
    "from sklearn.model_selection import train_test_split\n",
    "from sklearn.datasets import load_boston\n",
    "from sklearn.preprocessing import StandardScaler\n",
    "import warnings\n",
    "import joblib\n",
    "\n",
    "warnings.filterwarnings(\"ignore\")\n",
    "sys.path.insert(0,'..')\n",
    "\n",
    "from BMR.ml_models import *\n",
    "from BMR.bmr import *\n",
    "\n",
    "random.seed(0)\n",
    "np.random.seed(0)"
   ]
  },
  {
   "cell_type": "code",
   "execution_count": 2,
   "id": "b230afcc-e03a-43cc-ba99-4ebb74298390",
   "metadata": {},
   "outputs": [],
   "source": [
    "boston = load_boston()\n",
    "\n",
    "X = boston.data\n",
    "# drop categorical variables\n",
    "X = X[:, [0, 1, 2, 4, 5, 6, 7, 9, 10, 11, 12]]\n",
    "y = boston.target.reshape(-1,1)\n",
    "\n",
    "std_scaler = StandardScaler()\n",
    "std_scaler_y = StandardScaler()\n",
    "X_scaled = std_scaler.fit_transform(X)\n",
    "y_scaled = std_scaler_y.fit_transform(y)\n",
    "\n",
    "# train/test split\n",
    "X_train, X_test, y_train, y_test = train_test_split(X_scaled, y_scaled, test_size=0.25)"
   ]
  },
  {
   "cell_type": "code",
   "execution_count": null,
   "id": "0119dd94-6052-4c37-9366-508e588ea348",
   "metadata": {},
   "outputs": [],
   "source": [
    "scores, mapes, models = run_methods(X_train, y_train, X_test, y_test, std_scaler_y=std_scaler_y)"
   ]
  },
  {
   "cell_type": "code",
   "execution_count": null,
   "id": "8556e45f-29e5-4dd0-987f-4fcb1455d99e",
   "metadata": {},
   "outputs": [],
   "source": [
    "print(f'RMSE(BMLR)/RMSE(MARS): {opt_score_bmlr/opt_score_mars}')\n",
    "print(f'RMSE(BMLR)/RMSE(SV): {opt_score_bmlr/opt_score_svr}')\n",
    "print(f'RMSE(BMLR)/RMSE(RF): {opt_score_bmlr/opt_score_rf}')\n",
    "print(f'RMSE(BMLR)/RMSE(CB): {opt_score_bmlr/opt_score_cb}')"
   ]
  },
  {
   "cell_type": "code",
   "execution_count": null,
   "id": "dc174884-e440-4a3f-a401-90b604b47811",
   "metadata": {},
   "outputs": [],
   "source": [
    "plt.plot(y_test, opt_pred_rf, 'o', label='Las Losowy')\n",
    "plt.plot(y_test, opt_pred_mars, 'o', label='MARS')\n",
    "plt.plot(y_test, opt_pred_svr, 'o', label='SVR')\n",
    "plt.plot(y_test, opt_pred_cb, 'o', label='CatBoost')\n",
    "plt.plot(y_test, opt_model_bmlr.predict(X_test), 'o', label='BMLR', color='black')\n",
    "plt.plot([-3, 3], [-3, 3], '-', color='gray')\n",
    "plt.legend()\n",
    "plt.xlabel('TARGET (mediana ceny) [przeskalowane]')\n",
    "plt.ylabel('PREDYKCJA (mediana ceny) [przeskalowane]')\n",
    "plt.xlim((-2, 2))\n",
    "plt.ylim((-2, 2))\n",
    "plt.grid(linestyle='--')\n",
    "plt.savefig(f'boston.pdf', bbox_inches='tight')"
   ]
  },
  {
   "cell_type": "code",
   "execution_count": null,
   "id": "8cf14ed2-de54-4517-bec4-621f55946ea2",
   "metadata": {},
   "outputs": [],
   "source": [
    "\n",
    "joblib.dump(opt_model_rf, 'boston_rf.joblib')\n",
    "joblib.dump(opt_model_mars, 'boston_mars.joblib')\n",
    "joblib.dump(opt_model_svr, 'boston_svr.joblib')\n",
    "joblib.dump(opt_model_cb, 'boston_cb.joblib')\n",
    "joblib.dump(opt_model_bmlr, 'boston_mbrf.joblib')"
   ]
  }
 ],
 "metadata": {
  "kernelspec": {
   "display_name": "Python 3 (ipykernel)",
   "language": "python",
   "name": "python3"
  },
  "language_info": {
   "codemirror_mode": {
    "name": "ipython",
    "version": 3
   },
   "file_extension": ".py",
   "mimetype": "text/x-python",
   "name": "python",
   "nbconvert_exporter": "python",
   "pygments_lexer": "ipython3",
   "version": "3.8.10"
  }
 },
 "nbformat": 4,
 "nbformat_minor": 5
}
