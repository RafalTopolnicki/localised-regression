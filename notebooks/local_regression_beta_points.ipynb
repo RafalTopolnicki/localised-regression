{
 "cells": [
  {
   "cell_type": "code",
   "execution_count": null,
   "id": "ef50ca9f-2589-4c35-b16e-b85f36fb5bad",
   "metadata": {},
   "outputs": [],
   "source": [
    "import numpy as np\n",
    "import scipy.stats as ss\n",
    "import pandas as pd\n",
    "import matplotlib.pyplot as plt\n",
    "from sklearn.linear_model import LinearRegression\n",
    "from sklearn.metrics import mean_squared_error\n",
    "from ballmapper.pyBallMapper import BallMapper"
   ]
  },
  {
   "cell_type": "code",
   "execution_count": null,
   "id": "48cf08ed-0489-4242-bac9-2e788b746c99",
   "metadata": {},
   "outputs": [],
   "source": [
    "def generate_tpf(n=100, sigma=0.1):\n",
    "    unif = ss.uniform()\n",
    "    norm = ss.norm(loc=0, scale=sigma)\n",
    "    x = unif.rvs(n)\n",
    "    def tpf_(t):\n",
    "        if t<0.3: return 2*t\n",
    "        if t>0.7: return 1.4-t # perhaps 1.3-t?\n",
    "        return 0.6\n",
    "    y = list(map(tpf_, x))\n",
    "    y += norm.rvs(n)\n",
    "    return x, y"
   ]
  },
  {
   "cell_type": "code",
   "execution_count": null,
   "id": "133ae327-5e75-4e4f-937b-08752333c58e",
   "metadata": {},
   "outputs": [
    {
     "data": {
      "text/plain": [
       "[<matplotlib.lines.Line2D at 0x7fecedacd9a0>]"
      ]
     },
     "execution_count": 3,
     "metadata": {},
     "output_type": "execute_result"
    },
    {
     "data": {
      "image/png": "[encoded data removed]",
      "text/plain": [
       "<Figure size 432x288 with 1 Axes>"
      ]
     },
     "metadata": {
      "needs_background": "light"
     },
     "output_type": "display_data"
    }
   ],
   "source": [
    "x, y = generate_tpf(n=200, sigma=0.02)\n",
    "plt.plot(x, y, 'o')"
   ]
  },
  {
   "cell_type": "code",
   "execution_count": null,
   "id": "7ba3eb1c-79a5-4cf3-b8fb-a0eff476a1fa",
   "metadata": {},
   "outputs": [],
   "source": [
    "def rmse_ols(n, sigma, mcloops=1000):\n",
    "    rmses = []\n",
    "    for mcloop in range(mcloops):\n",
    "        x, y = generate_tpf(n=n, sigma=sigma)\n",
    "        X = x.reshape(-1,1)\n",
    "        lm = LinearRegression().fit(X,y)\n",
    "        rmse = mean_squared_error(lm.predict(X), y, squared=False)\n",
    "        rmses.append(rmse)\n",
    "    return np.mean(rmses) "
   ]
  },
  {
   "cell_type": "code",
   "execution_count": null,
   "id": "5aa56f90-3b30-4310-9ceb-86af6e9de055",
   "metadata": {},
   "outputs": [],
   "source": [
    "sigmas = [0.02, 0.2, 0.5]\n",
    "ns = [200, 500, 1000, 2000]\n",
    "mcloops = 1000\n",
    "rmses = []\n",
    "for sigma in sigmas:\n",
    "    for n in ns:\n",
    "        rmses.append([sigma, n, rmse_ols(n=n, sigma=sigma, mcloops=mcloops)])"
   ]
  },
  {
   "cell_type": "code",
   "execution_count": null,
   "id": "ed081bad-5f52-4c2a-b04f-2feb1e743e52",
   "metadata": {},
   "outputs": [
    {
     "data": {
      "text/html": [
       "<div>\n",
       "<style scoped>\n",
       "    .dataframe tbody tr th:only-of-type {\n",
       "        vertical-align: middle;\n",
       "    }\n",
       "\n",
       "    .dataframe tbody tr th {\n",
       "        vertical-align: top;\n",
       "    }\n",
       "\n",
       "    .dataframe thead th {\n",
       "        text-align: right;\n",
       "    }\n",
       "</style>\n",
       "<table border=\"1\" class=\"dataframe\">\n",
       "  <thead>\n",
       "    <tr style=\"text-align: right;\">\n",
       "      <th></th>\n",
       "      <th>sigma</th>\n",
       "      <th>n</th>\n",
       "      <th>OLS</th>\n",
       "    </tr>\n",
       "  </thead>\n",
       "  <tbody>\n",
       "    <tr>\n",
       "      <th>0</th>\n",
       "      <td>0.02</td>\n",
       "      <td>200</td>\n",
       "      <td>0.135165</td>\n",
       "    </tr>\n",
       "    <tr>\n",
       "      <th>1</th>\n",
       "      <td>0.02</td>\n",
       "      <td>500</td>\n",
       "      <td>0.136076</td>\n",
       "    </tr>\n",
       "    <tr>\n",
       "      <th>2</th>\n",
       "      <td>0.02</td>\n",
       "      <td>1000</td>\n",
       "      <td>0.136357</td>\n",
       "    </tr>\n",
       "    <tr>\n",
       "      <th>3</th>\n",
       "      <td>0.02</td>\n",
       "      <td>2000</td>\n",
       "      <td>0.136267</td>\n",
       "    </tr>\n",
       "    <tr>\n",
       "      <th>4</th>\n",
       "      <td>0.20</td>\n",
       "      <td>200</td>\n",
       "      <td>0.239125</td>\n",
       "    </tr>\n",
       "    <tr>\n",
       "      <th>5</th>\n",
       "      <td>0.20</td>\n",
       "      <td>500</td>\n",
       "      <td>0.240322</td>\n",
       "    </tr>\n",
       "    <tr>\n",
       "      <th>6</th>\n",
       "      <td>0.20</td>\n",
       "      <td>1000</td>\n",
       "      <td>0.240775</td>\n",
       "    </tr>\n",
       "    <tr>\n",
       "      <th>7</th>\n",
       "      <td>0.20</td>\n",
       "      <td>2000</td>\n",
       "      <td>0.241077</td>\n",
       "    </tr>\n",
       "    <tr>\n",
       "      <th>8</th>\n",
       "      <td>0.50</td>\n",
       "      <td>200</td>\n",
       "      <td>0.516054</td>\n",
       "    </tr>\n",
       "    <tr>\n",
       "      <th>9</th>\n",
       "      <td>0.50</td>\n",
       "      <td>500</td>\n",
       "      <td>0.516565</td>\n",
       "    </tr>\n",
       "    <tr>\n",
       "      <th>10</th>\n",
       "      <td>0.50</td>\n",
       "      <td>1000</td>\n",
       "      <td>0.517300</td>\n",
       "    </tr>\n",
       "    <tr>\n",
       "      <th>11</th>\n",
       "      <td>0.50</td>\n",
       "      <td>2000</td>\n",
       "      <td>0.517266</td>\n",
       "    </tr>\n",
       "  </tbody>\n",
       "</table>\n",
       "</div>"
      ],
      "text/plain": [
       "    sigma     n       OLS\n",
       "0    0.02   200  0.135165\n",
       "1    0.02   500  0.136076\n",
       "2    0.02  1000  0.136357\n",
       "3    0.02  2000  0.136267\n",
       "4    0.20   200  0.239125\n",
       "5    0.20   500  0.240322\n",
       "6    0.20  1000  0.240775\n",
       "7    0.20  2000  0.241077\n",
       "8    0.50   200  0.516054\n",
       "9    0.50   500  0.516565\n",
       "10   0.50  1000  0.517300\n",
       "11   0.50  2000  0.517266"
      ]
     },
     "execution_count": 15,
     "metadata": {},
     "output_type": "execute_result"
    }
   ],
   "source": [
    "pd.DataFrame(rmses, columns=['sigma', 'n', 'OLS'])"
   ]
  },
  {
   "cell_type": "code",
   "execution_count": null,
   "id": "b6980ca4-0638-41e9-ae95-39d8ebbff47e",
   "metadata": {},
   "outputs": [],
   "source": [
    "# # This is *in-sample* only!\n",
    "# def rmse_bmlr(x, y, epsilon, cut, r, substitution_policy = 'global'):\n",
    "#     npts = x.shape[0]\n",
    "#     dpts = x.shape[1]\n",
    "#     betas = np.zeros((npts, dpts))\n",
    "#     intercepts = np.zeros((npts, 1))\n",
    "#     counts = np.zeros((npts, 1))\n",
    "\n",
    "#     # fit global model first\n",
    "#     lm_global = LinearRegression().fit(x, y)\n",
    "#     for r_ in range(r):\n",
    "#         bm = BallMapper(points=x, coloring_df=pd.DataFrame(y), epsilon=epsilon, shuffle=True)\n",
    "#         for node_id in bm.Graph.nodes:\n",
    "#             ball_pts_ind = bm.Graph.nodes[node_id]['points covered']\n",
    "#             if len(ball_pts_ind) >= cut:\n",
    "#                 x_ball = x[ball_pts_ind, :]\n",
    "#                 y_ball = y[ball_pts_ind]\n",
    "#                 lm = LinearRegression().fit(x_ball, y_ball)\n",
    "#                 betas[ball_pts_ind, :] += lm.coef_\n",
    "#                 intercepts[ball_pts_ind] += lm.intercept_\n",
    "#             else:\n",
    "#                 if substitution_policy == 'global':\n",
    "#                     betas[ball_pts_ind, :] += lm_global.coef_\n",
    "#                     intercepts[ball_pts_ind] += lm_global.intercept_\n",
    "#                 else:\n",
    "#                     # find nearest big ball\n",
    "#                     min_dist = np.Inf\n",
    "#                     min_id = None\n",
    "#                     small_ball_mean = np.mean(x[ball_pts_ind, :], axis=0)\n",
    "#                     for big_node_id in bm.Graph.nodes:\n",
    "#                         big_pts_ids = bm.Graph.nodes[big_node_id]['points covered']\n",
    "#                         if len(big_pts_ids) >= cut:\n",
    "#                             big_ball_mean = np.mean(x[big_pts_ids, :], axis=0)\n",
    "#                             dist = np.linalg.norm(small_ball_mean - big_ball_mean)\n",
    "#                             if dist < min_dist:\n",
    "#                                 min_dist = dist\n",
    "#                                 min_id = big_node_id\n",
    "#                     # make Linear Model in big ball\n",
    "#                     if min_id == None:\n",
    "#                         raise ValueError(f'All ball contain less than cut={cut} points. Decrease cut or increase epsilon!')\n",
    "#                     big_pts_ids = bm.Graph.nodes[min_id]['points covered']\n",
    "#                     lm_big = LinearRegression().fit(x[big_pts_ids, :], y[big_pts_ids])\n",
    "#                     betas[ball_pts_ind, :] += lm_big.coef_\n",
    "#                     intercepts[ball_pts_ind, :] += lm_big.intercept_    \n",
    "#             counts[ball_pts_ind] += 1\n",
    "            \n",
    "#     intercepts /= counts\n",
    "#     betas /= counts # FIXME: is this going to work for d > 1?\n",
    "\n",
    "#     # make insample predictions\n",
    "#     yhat = []\n",
    "#     xt = np.transpose(x)\n",
    "#     for i in range(npts):\n",
    "#         yhat.append(np.matmul(betas[i, :], xt[:, i]) + intercepts[i][0])\n",
    "    \n",
    "#     rmse = mean_squared_error(yhat, y, squared=False)    \n",
    "#     return rmse"
   ]
  },
  {
   "cell_type": "code",
   "execution_count": 63,
   "id": "b3f8a2e0-14f6-45c2-abcb-8ea99f5fd07b",
   "metadata": {},
   "outputs": [],
   "source": [
    "# This is *in-sample* only!\n",
    "class BMLR:\n",
    "    def __init__(self, epsilon, cut, M):\n",
    "        self.epsilon = epsilon\n",
    "        self.cut = cut\n",
    "        self.M = M\n",
    "        self.betas = None\n",
    "        self.intercepts = None\n",
    "        self.counts_ = None\n",
    "        self.npts = None\n",
    "        self.dpts = None\n",
    "        self.lm_global = LinearRegression()\n",
    "        self.ball_mappers = []\n",
    "        self.in_sample_remse = None\n",
    "        \n",
    "    def fit(self, x, y, substitution_policy = 'global'):\n",
    "        self.npts = x.shape[0]\n",
    "        self.dpts = x.shape[1]\n",
    "        self.betas = np.zeros((self.npts, self.dpts))\n",
    "        self.intercepts = np.zeros((self.npts, 1))\n",
    "        self.counts_ = np.zeros((self.npts, 1))\n",
    "        self.ball_mappers = []\n",
    "        # fit global model\n",
    "        if substitution_policy == 'global':\n",
    "            self.lm_global.fit(x,y)\n",
    "        \n",
    "        for r_ in range(self.M):\n",
    "            bm = BallMapper(points=x, coloring_df=pd.DataFrame(y), epsilon=self.epsilon, shuffle=False)\n",
    "            # shuffle is False for debugging\n",
    "            self.ball_mappers.append(bm)\n",
    "            for node_id in bm.Graph.nodes:\n",
    "                ball_pts_ind = bm.Graph.nodes[node_id]['points covered']\n",
    "                if len(ball_pts_ind) >= self.cut:\n",
    "                    x_ball = x[ball_pts_ind, :]\n",
    "                    y_ball = y[ball_pts_ind]\n",
    "                    lm = LinearRegression().fit(x_ball, y_ball)\n",
    "                    self.betas[ball_pts_ind, :] += lm.coef_\n",
    "                    self.intercepts[ball_pts_ind] += lm.intercept_\n",
    "                    self.counts_[ball_pts_ind] += 1\n",
    "                else:\n",
    "                    raise ValueError('BREAK') # for debugging only\n",
    "                    if substitution_policy == 'global':\n",
    "                        self.betas[ball_pts_ind, :] += self.lm_global.coef_\n",
    "                        self.intercepts[ball_pts_ind] += self.lm_global.intercept_\n",
    "                        self.counts_[ball_pts_ind] += 1\n",
    "                    else:\n",
    "                        # find nearest big ball\n",
    "                        min_dist = np.Inf\n",
    "                        min_id = None\n",
    "                        small_ball_mean = np.mean(x[ball_pts_ind, :], axis=0)\n",
    "                        for big_node_id in bm.Graph.nodes:\n",
    "                            big_pts_ids = bm.Graph.nodes[big_node_id]['points covered']\n",
    "                            if len(big_pts_ids) >= self.cut:\n",
    "                                big_ball_mean = np.mean(x[big_pts_ids, :], axis=0)\n",
    "                                dist = np.linalg.norm(small_ball_mean - big_ball_mean)\n",
    "                                if dist < min_dist:\n",
    "                                    min_dist = dist\n",
    "                                    min_id = big_node_id\n",
    "                        # make Linear Model in big ball\n",
    "                        if min_id == None:\n",
    "                            raise ValueError(f'All ball contain less than cut={self.cut} points. Decrease cut or increase epsilon!')\n",
    "                        big_pts_ids = bm.Graph.nodes[min_id]['points covered']\n",
    "                        lm_big = LinearRegression().fit(x[big_pts_ids, :], y[big_pts_ids])\n",
    "                        self.betas[ball_pts_ind, :] += lm_big.coef_\n",
    "                        self.intercepts[ball_pts_ind, :] += lm_big.intercept_    \n",
    "                        self.counts_[ball_pts_ind] += 1\n",
    "\n",
    "        self.betas /= self.counts_ # FIXME: is this going to work for d > 1?\n",
    "        self.intercepts /= self.counts_\n",
    "        \n",
    "        #print(self.intercepts[:20, :])\n",
    "        \n",
    "        # compute in-sample RMSE, this should be moved to separate function like score?\n",
    "        # make insample predictions\n",
    "        yhat = []\n",
    "        xt = np.transpose(x)\n",
    "        for i in range(self.npts):\n",
    "            yhat.append(np.matmul(self.betas[i, :], xt[:, i]) + self.intercepts[i][0])\n",
    "        self.in_sample_remse = mean_squared_error(yhat, y, squared=False)\n",
    "        \n",
    "        #print(yhat)\n",
    "        \n",
    "    def predict(self, x_test):\n",
    "        npts_test = x_test.shape[0]\n",
    "        betas_test = np.zeros((npts_test, self.dpts))\n",
    "        intercepts_test = np.zeros((npts_test, 1))\n",
    "        counts_test = np.zeros((npts_test, 1))\n",
    "        n_Nones = 0\n",
    "        \n",
    "        # iterate over all mappers\n",
    "        for bm in self.ball_mappers:\n",
    "            # get a list of nodes to which all test points belongs\n",
    "            # for each point a list of nodes ids is returned\n",
    "            ball_idxs = bm.find_balls(x_test)\n",
    "            # loop over balls to which all test points belongs, this is in fact loop over test points\n",
    "            for pt_idx, ball_idx in enumerate(ball_idxs):\n",
    "                if ball_idx is not None:\n",
    "                    bm_pts_in_ball_ind = []\n",
    "                    # given test point can belong to many balls, loop over all of those\n",
    "                    # each of these balls covers several points from the trainig set\n",
    "                    # here we get a list of training points ids\n",
    "                    for node_idx in ball_idx:\n",
    "                        bm_pts_in_ball_ind += bm.Graph.nodes[node_idx]['points covered']\n",
    "                    #bm_pts_in_ball_ind = np.unique(bm_pts_in_ball_ind)\n",
    "                    # each point from train set is attributed with own beta values and intercept\n",
    "                    # get the average value of betas and intercepts\n",
    "                    betas_test[pt_idx, :] += np.mean(self.betas[bm_pts_in_ball_ind, :], axis=0)\n",
    "                    intercepts_test[pt_idx] += np.mean(self.intercepts[bm_pts_in_ball_ind])\n",
    "                    counts_test[pt_idx] += 1\n",
    "                else:\n",
    "                    n_Nones += 1\n",
    "\n",
    "        #print(f'n_Nones: {n_Nones}')\n",
    "                    \n",
    "        betas_test /= counts_test\n",
    "        intercepts_test /= counts_test\n",
    "        \n",
    "        #print(counts_test)\n",
    "        \n",
    "        #print(intercepts_test[:20, :])\n",
    "  \n",
    "        yhat = []\n",
    "        x_test_t = np.transpose(x_test)\n",
    "        for i in range(npts_test):\n",
    "            yhat.append(np.matmul(betas_test[i, :], x_test_t[:, i]) + intercepts_test[i][0])\n",
    "        \n",
    "        #print(f'yhat={yhat}')\n",
    "        return yhat\n",
    "    \n",
    "    def score(self, x, y):\n",
    "        yhat = self.predict(x)\n",
    "        rmse = mean_squared_error(yhat, y, squared=False)\n",
    "        return rmse"
   ]
  },
  {
   "cell_type": "code",
   "execution_count": null,
   "id": "c18e38e7-5f86-473c-a668-67784c247d92",
   "metadata": {},
   "outputs": [],
   "source": [
    "# przypisanie robione przez ball_mapper find_balls jest poprawne\n",
    "# for target_id in range(200):\n",
    "#     nodes = []\n",
    "#     for node in bmlr.ball_mappers[0].Graph.nodes:\n",
    "#         if target_id in bmlr.ball_mappers[0].Graph.nodes[node]['points covered']:\n",
    "#             nodes.append(node)\n",
    "#     print(f'{target_id} {nodes}')"
   ]
  },
  {
   "cell_type": "code",
   "execution_count": 64,
   "id": "8d822630-723d-4255-bdac-b7b7f7ca4687",
   "metadata": {},
   "outputs": [],
   "source": [
    "x, y = generate_tpf(n=200, sigma=0.02)\n",
    "x_test, y_test = generate_tpf(n=40, sigma=0.02)\n",
    "x = x.reshape(-1,1)\n",
    "x_test = x_test.reshape(-1,1)"
   ]
  },
  {
   "cell_type": "code",
   "execution_count": 65,
   "id": "e72616e5-67ea-4407-8643-0f7e01257ea9",
   "metadata": {},
   "outputs": [
    {
     "data": {
      "text/plain": [
       "0.023583948401739874"
      ]
     },
     "execution_count": 65,
     "metadata": {},
     "output_type": "execute_result"
    }
   ],
   "source": [
    "bmlr = BMLR(epsilon=0.1, cut=0, M=1)\n",
    "bmlr.fit(x,y)\n",
    "bmlr.in_sample_remse"
   ]
  },
  {
   "cell_type": "code",
   "execution_count": 66,
   "id": "e8cfe027-604e-4b07-ad29-4f546249b474",
   "metadata": {},
   "outputs": [
    {
     "data": {
      "text/plain": [
       "0.023963105144737262"
      ]
     },
     "execution_count": 66,
     "metadata": {},
     "output_type": "execute_result"
    }
   ],
   "source": [
    "# this should be the same as bmlr.in_sample_remse\n",
    "bmlr.score(x, y)"
   ]
  },
  {
   "cell_type": "code",
   "execution_count": null,
   "id": "73f9255e-b2e2-4a07-ac4f-2c92f20b3862",
   "metadata": {},
   "outputs": [],
   "source": [
    "mcloops = 20\n",
    "#epsilon = 0.125 # this value more-less reproduces the results from Table 1\n",
    "cut = 25\n",
    "r = 20\n",
    "\n",
    "rmses_eps = []\n",
    "epsilon_list = np.linspace(0.075, 0.3, 20)\n",
    "for epsilon in epsilon_list:\n",
    "    rmses = []\n",
    "    for mcloop in range(mcloops): \n",
    "        x, y = generate_tpf(n=200, sigma=0.02)\n",
    "        x_test, y_test = generate_tpf(n=40, sigma=0.02)\n",
    "        x = x.reshape(-1,1)\n",
    "        rmse_n = rmse_bmlr(x=x, y=y, epsilon=epsilon, cut=cut, r=r, substitution_policy='nearest')\n",
    "        rmse_g = rmse_bmlr(x=x, y=y, epsilon=epsilon, cut=cut, r=r, substitution_policy='global')\n",
    "        rmses.append([rmse_n, rmse_g])\n",
    "    rmses_eps.append(np.mean(rmses, axis=0))"
   ]
  },
  {
   "cell_type": "code",
   "execution_count": null,
   "id": "36b10dd1-51cf-45da-8cb9-3820382ea741",
   "metadata": {},
   "outputs": [
    {
     "data": {
      "text/plain": [
       "<matplotlib.legend.Legend at 0x7f554a6fe910>"
      ]
     },
     "execution_count": 6,
     "metadata": {},
     "output_type": "execute_result"
    },
    {
     "data": {
      "image/png": "[encoded data removed]",
      "text/plain": [
       "<Figure size 432x288 with 1 Axes>"
      ]
     },
     "metadata": {
      "needs_background": "light"
     },
     "output_type": "display_data"
    }
   ],
   "source": [
    "rmses_eps = np.array(rmses_eps)\n",
    "plt.plot(epsilon_list, rmses_eps[:, 0], label='BMLRN')\n",
    "plt.plot(epsilon_list, rmses_eps[:, 1], label='BMLRG')\n",
    "plt.xlabel('Epsilon')\n",
    "plt.ylabel('RMSE')\n",
    "plt.title('n=200, sigma=0.02')\n",
    "plt.legend()"
   ]
  }
 ],
 "metadata": {
  "kernelspec": {
   "display_name": "Python 3 (ipykernel)",
   "language": "python",
   "name": "python3"
  },
  "language_info": {
   "codemirror_mode": {
    "name": "ipython",
    "version": 3
   },
   "file_extension": ".py",
   "mimetype": "text/x-python",
   "name": "python",
   "nbconvert_exporter": "python",
   "pygments_lexer": "ipython3",
   "version": "3.8.10"
  }
 },
 "nbformat": 4,
 "nbformat_minor": 5
}
