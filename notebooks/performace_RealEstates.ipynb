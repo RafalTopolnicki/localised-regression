{
 "cells": [
  {
   "cell_type": "code",
   "execution_count": 1,
   "id": "8f811539-d463-40a3-a914-e2c41326a86c",
   "metadata": {},
   "outputs": [],
   "source": [
    "import random\n",
    "import pandas as pd\n",
    "import matplotlib.pyplot as plt\n",
    "from sklearn.model_selection import train_test_split\n",
    "from sklearn.datasets import load_boston\n",
    "from sklearn.preprocessing import StandardScaler\n",
    "from LocalRegression.ml_models import *\n",
    "import warnings"
   ]
  },
  {
   "cell_type": "code",
   "execution_count": 2,
   "id": "a0f30b0e-215b-4844-8062-eaa3c7a4508f",
   "metadata": {},
   "outputs": [],
   "source": [
    "random.seed(0)\n",
    "np.random.seed(0)"
   ]
  },
  {
   "cell_type": "code",
   "execution_count": 3,
   "id": "cda94678-7b5b-4cda-9859-5b6c7dee4738",
   "metadata": {},
   "outputs": [],
   "source": [
    "dat = pd.read_csv('../data/Real_estate.csv')\n",
    "dat.drop(['X4 number of convenience stores'], inplace=True, axis=1)\n",
    "std_scaler = StandardScaler()\n",
    "df_scaled = std_scaler.fit_transform(dat.to_numpy())\n",
    "df_scaled = pd.DataFrame(df_scaled, columns=dat.columns)"
   ]
  },
  {
   "cell_type": "code",
   "execution_count": 5,
   "id": "0ef95d90-98a1-45ad-a837-7177ebcfbb27",
   "metadata": {},
   "outputs": [],
   "source": [
    "X = df_scaled.drop(['Y house price of unit area'], axis=1)\n",
    "X = X.to_numpy()\n",
    "y = df_scaled['Y house price of unit area']\n",
    "y = y.to_numpy()\n",
    "# train/test split\n",
    "X_train, X_test, y_train, y_test = train_test_split(X, y, test_size=0.25)"
   ]
  },
  {
   "cell_type": "code",
   "execution_count": 11,
   "id": "70f752a8-a465-4af7-abeb-9aa2d496563a",
   "metadata": {},
   "outputs": [],
   "source": [
    "warnings.filterwarnings(\"ignore\")\n",
    "bmlrs = {}\n",
    "for cut in [0, 5, 10, 20]:\n",
    "    bmlr_params = model_bmlr_params(X_train, y_train, cut=cut, M=15)\n",
    "    score, mape, pred, model = model_bmlr(X_train, y_train, X_test, y_test, cut=cut, M=15, params=bmlr_params)\n",
    "    bmlrs[cut] = [score, mape, pred, model]"
   ]
  },
  {
   "cell_type": "code",
   "execution_count": 13,
   "id": "d9b7c17c-7f29-4fb0-91b4-0fd771483731",
   "metadata": {},
   "outputs": [],
   "source": [
    "scores = [x[0] for x in bmlrs.values()]\n",
    "print(scores)\n",
    "opt_bmlr_id = np.argmin(scores)\n",
    "opt_bmlr_cut = list(bmlrs.keys())[bmlr_id]\n",
    "opt_score_bmlr =  bmlrs[bmlr_cut][0]\n",
    "opt_pred_bmlr =  bmlrs[bmlr_cut][2]\n",
    "opt_model_bmlr = bmlrs[bmlr_cut][3]"
   ]
  },
  {
   "cell_type": "code",
   "execution_count": null,
   "id": "6debfc76-eb96-49e1-b075-015e1dbabd39",
   "metadata": {},
   "outputs": [],
   "source": [
    "mars_params = model_mars_params(X_train, y_train)\n",
    "opt_score_mars, opt_mape_mars, opt_pred_mars, opt_model_mars = model_mars(X_train, y_train, X_test, y_test, params = svr_params)"
   ]
  },
  {
   "cell_type": "code",
   "execution_count": 14,
   "id": "8a8b8532-5e40-4b85-897d-85559382887f",
   "metadata": {},
   "outputs": [],
   "source": [
    "svr_params = model_svr_params(X_train, y_train)\n",
    "opt_score_svr, opt_mape_svr, opt_pred_svr, opt_model_svr = model_svr(X_train, y_train, X_test, y_test, params = svr_params)"
   ]
  },
  {
   "cell_type": "code",
   "execution_count": 15,
   "id": "365a0951-c54a-4ad9-a2b9-8e7ee02200c9",
   "metadata": {},
   "outputs": [],
   "source": [
    "rf_params = model_random_forest_params(X_train, y_train)\n",
    "opt_score_rf, opt_mape_rf, opt_pred_rf, opt_model_rf = model_random_forest(X_train, y_train, X_test, y_test, params = rf_params)"
   ]
  },
  {
   "cell_type": "code",
   "execution_count": 16,
   "id": "19255e33-8fcd-4f50-b889-c84934031291",
   "metadata": {},
   "outputs": [],
   "source": [
    "opt_score_cb, opt_mape_cb, opt_pred_cb, opt_model_cb = model_catboost(X_train, y_train, X_test, y_test)"
   ]
  },
  {
   "cell_type": "code",
   "execution_count": 17,
   "id": "88aa3707-10e9-417c-b9d3-b52389165e3e",
   "metadata": {},
   "outputs": [
    {
     "name": "stdout",
     "output_type": "stream",
     "text": [
      "RMSE(BMLR)/RMSE(SV): 1.3762975717088444\n",
      "RMSE(BMLR)/RMSE(RF): 1.5364394975236764\n",
      "RMSE(BMLR)/RMSE(CB): 1.4783255869288439\n"
     ]
    }
   ],
   "source": [
    "print(f'RMSE(BMLR)/RMSE(MARS): {opt_score_bmlr/opt_score_mars}')\n",
    "print(f'RMSE(BMLR)/RMSE(SV): {opt_score_bmlr/opt_score_svr}')\n",
    "print(f'RMSE(BMLR)/RMSE(RF): {opt_score_bmlr/opt_score_rf}')\n",
    "print(f'RMSE(BMLR)/RMSE(CB): {opt_score_bmlr/opt_score_cb}')"
   ]
  },
  {
   "cell_type": "code",
   "execution_count": 18,
   "id": "dc174884-e440-4a3f-a401-90b604b47811",
   "metadata": {},
   "outputs": [
    {
     "data": {
      "text/plain": [
       "<matplotlib.legend.Legend at 0x7f275b046220>"
      ]
     },
     "execution_count": 18,
     "metadata": {},
     "output_type": "execute_result"
    },
    {
     "data": {
      "image/png": "[encoded data removed]",
      "text/plain": [
       "<Figure size 432x288 with 1 Axes>"
      ]
     },
     "metadata": {
      "needs_background": "light"
     },
     "output_type": "display_data"
    }
   ],
   "source": [
    "plt.plot(y_train, opt_model_bmlr.predict(X_train), 'o', label='BMLR Train')\n",
    "plt.plot(y_test, opt_model_bmlr.predict(X_test), 'o', label='BMLR Test')\n",
    "plt.plot(y_test, opt_pred_cb, 'o', label='CatBoost Test')\n",
    "plt.legend()"
   ]
  },
  {
   "cell_type": "code",
   "execution_count": 24,
   "id": "ba9da2d1-6fb5-4780-bef9-8f33418648f5",
   "metadata": {},
   "outputs": [
    {
     "data": {
      "text/plain": [
       "['joblib_mbrf.joblib']"
      ]
     },
     "execution_count": 24,
     "metadata": {},
     "output_type": "execute_result"
    }
   ],
   "source": [
    "import joblib\n",
    "joblib.dump(model_rf, 'realestate_rf.joblib')\n",
    "joblib.dump(model_svr, 'realestate_svr.joblib')\n",
    "joblib.dump(model_cb, 'realestate_cb.joblib')\n",
    "joblib.dump(model_bmlr, 'realestate_mbrf.joblib')"
   ]
  }
 ],
 "metadata": {
  "kernelspec": {
   "display_name": "Python 3 (ipykernel)",
   "language": "python",
   "name": "python3"
  },
  "language_info": {
   "codemirror_mode": {
    "name": "ipython",
    "version": 3
   },
   "file_extension": ".py",
   "mimetype": "text/x-python",
   "name": "python",
   "nbconvert_exporter": "python",
   "pygments_lexer": "ipython3",
   "version": "3.8.10"
  }
 },
 "nbformat": 4,
 "nbformat_minor": 5
}
