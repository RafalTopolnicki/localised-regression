{
 "cells": [
  {
   "cell_type": "code",
   "execution_count": 63,
   "id": "ef50ca9f-2589-4c35-b16e-b85f36fb5bad",
   "metadata": {},
   "outputs": [],
   "source": [
    "import numpy as np\n",
    "import scipy.stats as ss\n",
    "import pandas as pd\n",
    "import matplotlib.pyplot as plt\n",
    "from sklearn.linear_model import LinearRegression\n",
    "from sklearn.metrics import mean_squared_error\n",
    "from ballmapper.pyBallMapper import BallMapper\n",
    "\n",
    "import catboost as cb"
   ]
  },
  {
   "cell_type": "code",
   "execution_count": 2,
   "id": "48cf08ed-0489-4242-bac9-2e788b746c99",
   "metadata": {},
   "outputs": [],
   "source": [
    "def generate_tpf(n=100, sigma=0.1):\n",
    "    unif = ss.uniform()\n",
    "    norm = ss.norm(loc=0, scale=sigma)\n",
    "    x = unif.rvs(n)\n",
    "    def tpf_(t):\n",
    "        if t<0.3: return 2*t\n",
    "        if t>0.7: return 1.4-t # perhaps 1.3-t?\n",
    "        return 0.6\n",
    "    y = list(map(tpf_, x))\n",
    "    y += norm.rvs(n)\n",
    "    return x, y"
   ]
  },
  {
   "cell_type": "code",
   "execution_count": 3,
   "id": "133ae327-5e75-4e4f-937b-08752333c58e",
   "metadata": {},
   "outputs": [
    {
     "data": {
      "text/plain": [
       "[<matplotlib.lines.Line2D at 0x7f452eb18e50>]"
      ]
     },
     "execution_count": 3,
     "metadata": {},
     "output_type": "execute_result"
    },
    {
     "data": {
      "image/png": "[encoded data removed]",
      "text/plain": [
       "<Figure size 432x288 with 1 Axes>"
      ]
     },
     "metadata": {
      "needs_background": "light"
     },
     "output_type": "display_data"
    }
   ],
   "source": [
    "x, y = generate_tpf(n=200, sigma=0.02)\n",
    "plt.plot(x, y, 'o')"
   ]
  },
  {
   "cell_type": "code",
   "execution_count": null,
   "id": "7ba3eb1c-79a5-4cf3-b8fb-a0eff476a1fa",
   "metadata": {},
   "outputs": [],
   "source": [
    "def rmse_ols(n, sigma, mcloops=1000):\n",
    "    rmses = []\n",
    "    for mcloop in range(mcloops):\n",
    "        x, y = generate_tpf(n=n, sigma=sigma)\n",
    "        X = x.reshape(-1,1)\n",
    "        lm = LinearRegression().fit(X,y)\n",
    "        rmse = mean_squared_error(lm.predict(X), y, squared=False)\n",
    "        rmses.append(rmse)\n",
    "    return np.mean(rmses) "
   ]
  },
  {
   "cell_type": "code",
   "execution_count": null,
   "id": "5aa56f90-3b30-4310-9ceb-86af6e9de055",
   "metadata": {},
   "outputs": [],
   "source": [
    "sigmas = [0.02, 0.2, 0.5]\n",
    "ns = [200, 500, 1000, 2000]\n",
    "mcloops = 1000\n",
    "rmses = []\n",
    "for sigma in sigmas:\n",
    "    for n in ns:\n",
    "        rmses.append([sigma, n, rmse_ols(n=n, sigma=sigma, mcloops=mcloops)])"
   ]
  },
  {
   "cell_type": "code",
   "execution_count": null,
   "id": "ed081bad-5f52-4c2a-b04f-2feb1e743e52",
   "metadata": {},
   "outputs": [
    {
     "data": {
      "text/html": [
       "<div>\n",
       "<style scoped>\n",
       "    .dataframe tbody tr th:only-of-type {\n",
       "        vertical-align: middle;\n",
       "    }\n",
       "\n",
       "    .dataframe tbody tr th {\n",
       "        vertical-align: top;\n",
       "    }\n",
       "\n",
       "    .dataframe thead th {\n",
       "        text-align: right;\n",
       "    }\n",
       "</style>\n",
       "<table border=\"1\" class=\"dataframe\">\n",
       "  <thead>\n",
       "    <tr style=\"text-align: right;\">\n",
       "      <th></th>\n",
       "      <th>sigma</th>\n",
       "      <th>n</th>\n",
       "      <th>OLS</th>\n",
       "    </tr>\n",
       "  </thead>\n",
       "  <tbody>\n",
       "    <tr>\n",
       "      <th>0</th>\n",
       "      <td>0.02</td>\n",
       "      <td>200</td>\n",
       "      <td>0.135165</td>\n",
       "    </tr>\n",
       "    <tr>\n",
       "      <th>1</th>\n",
       "      <td>0.02</td>\n",
       "      <td>500</td>\n",
       "      <td>0.136076</td>\n",
       "    </tr>\n",
       "    <tr>\n",
       "      <th>2</th>\n",
       "      <td>0.02</td>\n",
       "      <td>1000</td>\n",
       "      <td>0.136357</td>\n",
       "    </tr>\n",
       "    <tr>\n",
       "      <th>3</th>\n",
       "      <td>0.02</td>\n",
       "      <td>2000</td>\n",
       "      <td>0.136267</td>\n",
       "    </tr>\n",
       "    <tr>\n",
       "      <th>4</th>\n",
       "      <td>0.20</td>\n",
       "      <td>200</td>\n",
       "      <td>0.239125</td>\n",
       "    </tr>\n",
       "    <tr>\n",
       "      <th>5</th>\n",
       "      <td>0.20</td>\n",
       "      <td>500</td>\n",
       "      <td>0.240322</td>\n",
       "    </tr>\n",
       "    <tr>\n",
       "      <th>6</th>\n",
       "      <td>0.20</td>\n",
       "      <td>1000</td>\n",
       "      <td>0.240775</td>\n",
       "    </tr>\n",
       "    <tr>\n",
       "      <th>7</th>\n",
       "      <td>0.20</td>\n",
       "      <td>2000</td>\n",
       "      <td>0.241077</td>\n",
       "    </tr>\n",
       "    <tr>\n",
       "      <th>8</th>\n",
       "      <td>0.50</td>\n",
       "      <td>200</td>\n",
       "      <td>0.516054</td>\n",
       "    </tr>\n",
       "    <tr>\n",
       "      <th>9</th>\n",
       "      <td>0.50</td>\n",
       "      <td>500</td>\n",
       "      <td>0.516565</td>\n",
       "    </tr>\n",
       "    <tr>\n",
       "      <th>10</th>\n",
       "      <td>0.50</td>\n",
       "      <td>1000</td>\n",
       "      <td>0.517300</td>\n",
       "    </tr>\n",
       "    <tr>\n",
       "      <th>11</th>\n",
       "      <td>0.50</td>\n",
       "      <td>2000</td>\n",
       "      <td>0.517266</td>\n",
       "    </tr>\n",
       "  </tbody>\n",
       "</table>\n",
       "</div>"
      ],
      "text/plain": [
       "    sigma     n       OLS\n",
       "0    0.02   200  0.135165\n",
       "1    0.02   500  0.136076\n",
       "2    0.02  1000  0.136357\n",
       "3    0.02  2000  0.136267\n",
       "4    0.20   200  0.239125\n",
       "5    0.20   500  0.240322\n",
       "6    0.20  1000  0.240775\n",
       "7    0.20  2000  0.241077\n",
       "8    0.50   200  0.516054\n",
       "9    0.50   500  0.516565\n",
       "10   0.50  1000  0.517300\n",
       "11   0.50  2000  0.517266"
      ]
     },
     "execution_count": 15,
     "metadata": {},
     "output_type": "execute_result"
    }
   ],
   "source": [
    "pd.DataFrame(rmses, columns=['sigma', 'n', 'OLS'])"
   ]
  },
  {
   "cell_type": "code",
   "execution_count": 54,
   "id": "b3f8a2e0-14f6-45c2-abcb-8ea99f5fd07b",
   "metadata": {},
   "outputs": [],
   "source": [
    "class BMLR:\n",
    "    def __init__(self, epsilon, cut, M, substitution_policy = 'global'):\n",
    "        self.epsilon = epsilon\n",
    "        self.cut = cut\n",
    "        self.M = M\n",
    "        self.substitution_policy = substitution_policy\n",
    "        self.npts = None\n",
    "        self.dpts = None\n",
    "        self.lm_global = LinearRegression()\n",
    "        self.ball_mappers = []\n",
    "        self.in_sample_remse = None\n",
    "        self.fitted = False\n",
    "        \n",
    "        \n",
    "    def fit(self, x, y):\n",
    "        self.npts = x.shape[0]\n",
    "        self.dpts = x.shape[1]\n",
    "        self.ball_mappers = []\n",
    "        self.fitted = True\n",
    "        # fit global model\n",
    "        if self.substitution_policy == 'global':\n",
    "            self.lm_global.fit(x,y)\n",
    "        \n",
    "        for r_ in range(self.M):\n",
    "            bm = BallMapper(points=x, coloring_df=pd.DataFrame(y), epsilon=self.epsilon, shuffle=True)\n",
    "            self.ball_mappers.append(bm)\n",
    "            for node_id in bm.Graph.nodes:\n",
    "                ball_pts_ind = bm.Graph.nodes[node_id]['points covered']\n",
    "                if len(ball_pts_ind) >= self.cut:\n",
    "                    x_ball = x[ball_pts_ind, :]\n",
    "                    y_ball = y[ball_pts_ind]\n",
    "                    lm = LinearRegression().fit(x_ball, y_ball)\n",
    "                    bm.Graph.nodes[node_id]['beta'] = lm.coef_\n",
    "                    bm.Graph.nodes[node_id]['intercept'] = lm.intercept_\n",
    "                else:\n",
    "                    if self.substitution_policy == 'global':\n",
    "                        bm.Graph.nodes[node_id]['beta'] = self.lm_global.coef_\n",
    "                        bm.Graph.nodes[node_id]['intercept'] = self.lm_global.intercept_\n",
    "                    else:\n",
    "                        # find nearest big ball\n",
    "                        min_dist = np.Inf\n",
    "                        min_id = None\n",
    "                        small_ball_mean = np.mean(x[ball_pts_ind, :], axis=0)\n",
    "                        for big_node_id in bm.Graph.nodes:\n",
    "                            big_pts_ids = bm.Graph.nodes[big_node_id]['points covered']\n",
    "                            if len(big_pts_ids) >= self.cut:\n",
    "                                big_ball_mean = np.mean(x[big_pts_ids, :], axis=0)\n",
    "                                dist = np.linalg.norm(small_ball_mean - big_ball_mean)\n",
    "                                if dist < min_dist:\n",
    "                                    min_dist = dist\n",
    "                                    min_id = big_node_id\n",
    "                        # make Linear Model in big ball\n",
    "                        # TODO: This could be rearrange\n",
    "                        # 1. first build models only in big-balls\n",
    "                        # 2. iterate over small balls and copy the model from big balls\n",
    "                        # thanks to that we don't have to fit linear model inside big-balls multiple times\n",
    "                        if min_id == None:\n",
    "                            raise ValueError(f'All ball contain less than cut={self.cut} points. Decrease cut or increase epsilon!')\n",
    "                        big_pts_ids = bm.Graph.nodes[min_id]['points covered']\n",
    "                        lm_big = LinearRegression().fit(x[big_pts_ids, :], y[big_pts_ids])\n",
    "                        bm.Graph.nodes[node_id]['beta'] = lm_big.coef_\n",
    "                        bm.Graph.nodes[node_id]['intercept'] = lm_big.intercept_    \n",
    "\n",
    "        # # compute in-sample RMSE, this should be moved to separate function like score?\n",
    "        # # make insample predictions\n",
    "        # yhat = [0] * self.npts   # TODO: change list to array\n",
    "        # counts = [0] * self.npts # TODO: change list to array\n",
    "        # for bm in self.ball_mappers:\n",
    "        #     # get a list of nodes to which all test points belongs\n",
    "        #     # for each point a list of nodes ids is returned\n",
    "        #     ball_idxs = bm.find_balls(x)\n",
    "        #     # loop over balls to which all test points belongs, this is in fact loop over test points\n",
    "        #     for pt_id, ball_idx in enumerate(ball_idxs):\n",
    "        #         xp = x[pt_id, :]\n",
    "        #         if ball_idx is not None:\n",
    "        #             # given test point can belong to many balls, loop over all of those\n",
    "        #             # each of these balls covers several points from the trainig set\n",
    "        #             # here we get a list of training points ids\n",
    "        #             for node_idx in ball_idx:\n",
    "        #                 yhat[pt_id] += np.matmul(bm.Graph.nodes[node_idx]['beta'], xp) + bm.Graph.nodes[node_idx]['intercept']\n",
    "        #                 counts[pt_id] += 1\n",
    "        # yhat = np.array(yhat)\n",
    "        # counts = np.array(counts)\n",
    "        # yhat /= counts\n",
    "        #self.in_sample_remse = mean_squared_error(yhat, y, squared=False)\n",
    "                \n",
    "    def predict(self, x_test):\n",
    "        if not self.fitted:\n",
    "            raise ValueError('Cannot run predict(). Run fit() first')\n",
    "        \n",
    "        npts_test = x_test.shape[0]\n",
    "        \n",
    "        yhat = [0] * npts_test   # TODO: change list to array\n",
    "        counts = [0] * npts_test # TODO: change list to array\n",
    "\n",
    "        n_Nones = 0\n",
    "        \n",
    "        # iterate over all mappers\n",
    "        for bm in self.ball_mappers:\n",
    "            # get a list of nodes to which all test points belongs\n",
    "            # for each point a list of nodes ids is returned\n",
    "            ball_idxs = bm.find_balls(x_test)\n",
    "            # loop over balls to which all test points belongs, this is in fact loop over test points\n",
    "            for pt_id, ball_idx in enumerate(ball_idxs):\n",
    "                xp = x_test[pt_id, :]\n",
    "                if ball_idx[0] is not None:\n",
    "                    #print(ball_idx)\n",
    "                    # given test point can belong to many balls, loop over all of those\n",
    "                    # each of these balls covers several points from the trainig set\n",
    "                    # here we get a list of training points ids\n",
    "                    for node_idx in ball_idx:\n",
    "                        yhat[pt_id] += np.matmul(bm.Graph.nodes[node_idx]['beta'], xp) + bm.Graph.nodes[node_idx]['intercept']\n",
    "                        counts[pt_id] += 1.0\n",
    "                else:\n",
    "                    n_Nones += 1\n",
    "        yhat = np.array(yhat)\n",
    "        counts = np.array(counts)\n",
    "        # print(yhat)\n",
    "        # print(counts)\n",
    "        # print(n_Nones)\n",
    "        yhat /= counts\n",
    "        return yhat\n",
    "        \n",
    "    def score(self, x, y):\n",
    "        yhat = self.predict(x)\n",
    "        rmse = mean_squared_error(yhat, y, squared=False)\n",
    "        return rmse"
   ]
  },
  {
   "cell_type": "code",
   "execution_count": 15,
   "id": "5c63187f-e0c1-48d8-9082-f261dd38b43c",
   "metadata": {},
   "outputs": [],
   "source": [
    "# some test\n",
    "x, y = generate_tpf(n=200, sigma=0.02)\n",
    "x_test, y_test = generate_tpf(n=40, sigma=0.02)\n",
    "x = x.reshape(-1,1)\n",
    "x_test = x_test.reshape(-1,1)"
   ]
  },
  {
   "cell_type": "code",
   "execution_count": 31,
   "id": "8d822630-723d-4255-bdac-b7b7f7ca4687",
   "metadata": {},
   "outputs": [
    {
     "name": "stdout",
     "output_type": "stream",
     "text": [
      "0.022517611767426185\n",
      "0.020071113454161783\n"
     ]
    }
   ],
   "source": [
    "bmlr = BMLR(epsilon=0.1, cut=0, M=5, substitution_policy='global')\n",
    "bmlr.fit(x,y)\n",
    "# this should be the same as bmlr.in_sample_remse\n",
    "print(bmlr.score(x, y))\n",
    "print(bmlr.score(x_test, y_test))"
   ]
  },
  {
   "cell_type": "code",
   "execution_count": 71,
   "id": "73f9255e-b2e2-4a07-ac4f-2c92f20b3862",
   "metadata": {},
   "outputs": [],
   "source": [
    "mcloops = 10\n",
    "cut = 25\n",
    "M = 10\n",
    "\n",
    "rmses = []\n",
    "epsilon_list = np.linspace(0.075, 0.3, 10)\n",
    "for epsilon in epsilon_list:\n",
    "    print(f'epsilon={epsilon}')\n",
    "    rmses_epsilon = []\n",
    "    for mcloop in range(mcloops): \n",
    "        x_train, y_train = generate_tpf(n=200, sigma=0.02)\n",
    "        x_test, y_test = generate_tpf(n=40, sigma=0.02)\n",
    "        x_train = x_train.reshape(-1,1)\n",
    "        x_test = x_test.reshape(-1,1)\n",
    "\n",
    "        bmlg = BMLR(epsilon=epsilon, cut=cut, M=M, substitution_policy='global')\n",
    "        bmln = BMLR(epsilon=epsilon, cut=cut, M=M, substitution_policy='nearest')\n",
    "        bmlg.fit(x_train, y_train)\n",
    "        bmln.fit(x_train, y_train)\n",
    "\n",
    "        rmseg_in  = bmlg.score(x_train, y_train)\n",
    "        rmseg_out = bmlg.score(x_test, y_test)\n",
    "        rmsen_in  = bmln.score(x_train, y_train)\n",
    "        rmsen_out = bmln.score(x_test, y_test)\n",
    "        \n",
    "        # train catboost\n",
    "        train_dataset = cb.Pool(x_train, y_train)\n",
    "        test_dataset = cb.Pool(x_test, y_test)\n",
    "        model = cb.CatBoostRegressor(loss_function='RMSE')\n",
    "        model.fit(train_dataset, eval_set=test_dataset, use_best_model=True, verbose=0)\n",
    "        cb_score = model.best_score_['validation']['RMSE']\n",
    "        \n",
    "        rmses_epsilon.append([rmseg_in, rmsen_in, rmseg_out, rmsen_out, cb_score])\n",
    "    rmses_epsilon = np.mean(rmses_epsilon, axis=0)\n",
    "    rmses.append([epsilon, *rmses_epsilon])"
   ]
  },
  {
   "cell_type": "code",
   "execution_count": 72,
   "id": "36b10dd1-51cf-45da-8cb9-3820382ea741",
   "metadata": {},
   "outputs": [
    {
     "data": {
      "text/plain": [
       "<matplotlib.legend.Legend at 0x7f451a77c100>"
      ]
     },
     "execution_count": 72,
     "metadata": {},
     "output_type": "execute_result"
    },
    {
     "data": {
      "image/png": "[encoded data removed]",
      "text/plain": [
       "<Figure size 432x288 with 1 Axes>"
      ]
     },
     "metadata": {
      "needs_background": "light"
     },
     "output_type": "display_data"
    }
   ],
   "source": [
    "rmses = np.array(rmses)\n",
    "plt.plot(rmses[:, 0], rmses[:, 1], label='BMLRG-InSample')\n",
    "plt.plot(rmses[:, 0], rmses[:, 2], label='BMLRN-InSample')\n",
    "plt.plot(rmses[:, 0], rmses[:, 3], label='BMLRG-OutSample')\n",
    "plt.plot(rmses[:, 0], rmses[:, 4], label='BMLRN-OutSample')\n",
    "plt.plot(rmses[:, 0], rmses[:, 5], label='CatBoost')\n",
    "plt.xlabel('Epsilon')\n",
    "plt.ylabel('RMSE')\n",
    "plt.title('n=200, sigma=0.02')\n",
    "plt.legend()"
   ]
  }
 ],
 "metadata": {
  "kernelspec": {
   "display_name": "Python 3 (ipykernel)",
   "language": "python",
   "name": "python3"
  },
  "language_info": {
   "codemirror_mode": {
    "name": "ipython",
    "version": 3
   },
   "file_extension": ".py",
   "mimetype": "text/x-python",
   "name": "python",
   "nbconvert_exporter": "python",
   "pygments_lexer": "ipython3",
   "version": "3.8.10"
  }
 },
 "nbformat": 4,
 "nbformat_minor": 5
}
