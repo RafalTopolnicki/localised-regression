{
 "cells": [
  {
   "cell_type": "code",
   "execution_count": 1,
   "id": "ef50ca9f-2589-4c35-b16e-b85f36fb5bad",
   "metadata": {},
   "outputs": [],
   "source": [
    "import numpy as np\n",
    "import scipy.stats as ss\n",
    "import pandas as pd\n",
    "import matplotlib.pyplot as plt\n",
    "from sklearn.linear_model import LinearRegression\n",
    "from sklearn.metrics import mean_squared_error\n",
    "from ballmapper.pyBallMapper import BallMapper"
   ]
  },
  {
   "cell_type": "code",
   "execution_count": 2,
   "id": "48cf08ed-0489-4242-bac9-2e788b746c99",
   "metadata": {},
   "outputs": [],
   "source": [
    "def generate_tpf(n=100, sigma=0.1):\n",
    "    unif = ss.uniform()\n",
    "    norm = ss.norm(loc=0, scale=sigma)\n",
    "    x = unif.rvs(n)\n",
    "    def tpf_(t):\n",
    "        if t<0.3: return 2*t\n",
    "        if t>0.7: return 1.4-t # perhaps 1.3-t?\n",
    "        return 0.6\n",
    "    y = list(map(tpf_, x))\n",
    "    y += norm.rvs(n)\n",
    "    return x, y"
   ]
  },
  {
   "cell_type": "code",
   "execution_count": 3,
   "id": "133ae327-5e75-4e4f-937b-08752333c58e",
   "metadata": {},
   "outputs": [
    {
     "data": {
      "text/plain": [
       "[<matplotlib.lines.Line2D at 0x7f759437f9a0>]"
      ]
     },
     "execution_count": 3,
     "metadata": {},
     "output_type": "execute_result"
    },
    {
     "data": {
      "image/png": "[encoded data removed]",
      "text/plain": [
       "<Figure size 432x288 with 1 Axes>"
      ]
     },
     "metadata": {
      "needs_background": "light"
     },
     "output_type": "display_data"
    }
   ],
   "source": [
    "x, y = generate_tpf(n=200, sigma=0.02)\n",
    "plt.plot(x, y, 'o')"
   ]
  },
  {
   "cell_type": "code",
   "execution_count": 13,
   "id": "7ba3eb1c-79a5-4cf3-b8fb-a0eff476a1fa",
   "metadata": {},
   "outputs": [],
   "source": [
    "def rmse_ols(n, sigma, mcloops=1000):\n",
    "    rmses = []\n",
    "    for mcloop in range(mcloops):\n",
    "        x, y = generate_tpf(n=n, sigma=sigma)\n",
    "        X = x.reshape(-1,1)\n",
    "        lm = LinearRegression().fit(X,y)\n",
    "        rmse = mean_squared_error(lm.predict(X), y, squared=False)\n",
    "        rmses.append(rmse)\n",
    "    return np.mean(rmses) "
   ]
  },
  {
   "cell_type": "code",
   "execution_count": 14,
   "id": "5aa56f90-3b30-4310-9ceb-86af6e9de055",
   "metadata": {},
   "outputs": [],
   "source": [
    "sigmas = [0.02, 0.2, 0.5]\n",
    "ns = [200, 500, 1000, 2000]\n",
    "mcloops = 1000\n",
    "rmses = []\n",
    "for sigma in sigmas:\n",
    "    for n in ns:\n",
    "        rmses.append([sigma, n, rmse_ols(n=n, sigma=sigma, mcloops=mcloops)])"
   ]
  },
  {
   "cell_type": "code",
   "execution_count": 15,
   "id": "ed081bad-5f52-4c2a-b04f-2feb1e743e52",
   "metadata": {},
   "outputs": [
    {
     "data": {
      "text/html": [
       "<div>\n",
       "<style scoped>\n",
       "    .dataframe tbody tr th:only-of-type {\n",
       "        vertical-align: middle;\n",
       "    }\n",
       "\n",
       "    .dataframe tbody tr th {\n",
       "        vertical-align: top;\n",
       "    }\n",
       "\n",
       "    .dataframe thead th {\n",
       "        text-align: right;\n",
       "    }\n",
       "</style>\n",
       "<table border=\"1\" class=\"dataframe\">\n",
       "  <thead>\n",
       "    <tr style=\"text-align: right;\">\n",
       "      <th></th>\n",
       "      <th>sigma</th>\n",
       "      <th>n</th>\n",
       "      <th>OLS</th>\n",
       "    </tr>\n",
       "  </thead>\n",
       "  <tbody>\n",
       "    <tr>\n",
       "      <th>0</th>\n",
       "      <td>0.02</td>\n",
       "      <td>200</td>\n",
       "      <td>0.135165</td>\n",
       "    </tr>\n",
       "    <tr>\n",
       "      <th>1</th>\n",
       "      <td>0.02</td>\n",
       "      <td>500</td>\n",
       "      <td>0.136076</td>\n",
       "    </tr>\n",
       "    <tr>\n",
       "      <th>2</th>\n",
       "      <td>0.02</td>\n",
       "      <td>1000</td>\n",
       "      <td>0.136357</td>\n",
       "    </tr>\n",
       "    <tr>\n",
       "      <th>3</th>\n",
       "      <td>0.02</td>\n",
       "      <td>2000</td>\n",
       "      <td>0.136267</td>\n",
       "    </tr>\n",
       "    <tr>\n",
       "      <th>4</th>\n",
       "      <td>0.20</td>\n",
       "      <td>200</td>\n",
       "      <td>0.239125</td>\n",
       "    </tr>\n",
       "    <tr>\n",
       "      <th>5</th>\n",
       "      <td>0.20</td>\n",
       "      <td>500</td>\n",
       "      <td>0.240322</td>\n",
       "    </tr>\n",
       "    <tr>\n",
       "      <th>6</th>\n",
       "      <td>0.20</td>\n",
       "      <td>1000</td>\n",
       "      <td>0.240775</td>\n",
       "    </tr>\n",
       "    <tr>\n",
       "      <th>7</th>\n",
       "      <td>0.20</td>\n",
       "      <td>2000</td>\n",
       "      <td>0.241077</td>\n",
       "    </tr>\n",
       "    <tr>\n",
       "      <th>8</th>\n",
       "      <td>0.50</td>\n",
       "      <td>200</td>\n",
       "      <td>0.516054</td>\n",
       "    </tr>\n",
       "    <tr>\n",
       "      <th>9</th>\n",
       "      <td>0.50</td>\n",
       "      <td>500</td>\n",
       "      <td>0.516565</td>\n",
       "    </tr>\n",
       "    <tr>\n",
       "      <th>10</th>\n",
       "      <td>0.50</td>\n",
       "      <td>1000</td>\n",
       "      <td>0.517300</td>\n",
       "    </tr>\n",
       "    <tr>\n",
       "      <th>11</th>\n",
       "      <td>0.50</td>\n",
       "      <td>2000</td>\n",
       "      <td>0.517266</td>\n",
       "    </tr>\n",
       "  </tbody>\n",
       "</table>\n",
       "</div>"
      ],
      "text/plain": [
       "    sigma     n       OLS\n",
       "0    0.02   200  0.135165\n",
       "1    0.02   500  0.136076\n",
       "2    0.02  1000  0.136357\n",
       "3    0.02  2000  0.136267\n",
       "4    0.20   200  0.239125\n",
       "5    0.20   500  0.240322\n",
       "6    0.20  1000  0.240775\n",
       "7    0.20  2000  0.241077\n",
       "8    0.50   200  0.516054\n",
       "9    0.50   500  0.516565\n",
       "10   0.50  1000  0.517300\n",
       "11   0.50  2000  0.517266"
      ]
     },
     "execution_count": 15,
     "metadata": {},
     "output_type": "execute_result"
    }
   ],
   "source": [
    "pd.DataFrame(rmses, columns=['sigma', 'n', 'OLS'])"
   ]
  },
  {
   "cell_type": "code",
   "execution_count": 4,
   "id": "b6980ca4-0638-41e9-ae95-39d8ebbff47e",
   "metadata": {},
   "outputs": [],
   "source": [
    "# This is *in-sample* only!\n",
    "def rmse_bmlrg(x, y, epsilon, cut, r, substitution_policy = 'global'):\n",
    "    npts = x.shape[0]\n",
    "    dpts = x.shape[1]\n",
    "    betas = np.zeros((npts, dpts))\n",
    "    intercepts = np.zeros((npts, 1))\n",
    "    counts = np.zeros((npts, 1))\n",
    "\n",
    "    # fit global model first\n",
    "    lm_global = LinearRegression().fit(x, y)\n",
    "    for r_ in range(r):\n",
    "        bm = BallMapper(points=x, coloring_df=pd.DataFrame(y), epsilon=epsilon)\n",
    "\n",
    "        for node_id in bm.Graph.nodes:\n",
    "            ball_pts_ind = bm.Graph.nodes[node_id]['points covered']\n",
    "            if len(ball_pts_ind) >= cut:\n",
    "                x_ball = x[ball_pts_ind, :]\n",
    "                y_ball = y[ball_pts_ind]\n",
    "                lm = LinearRegression().fit(x_ball, y_ball)\n",
    "                betas[ball_pts_ind, :] += lm.coef_\n",
    "                intercepts[ball_pts_ind] += lm.intercept_\n",
    "            else:\n",
    "                if substitution_policy == 'global':\n",
    "                    betas[ball_pts_ind, :] += lm_global.coef_\n",
    "                    intercepts[ball_pts_ind] += lm_global.intercept_\n",
    "                else:\n",
    "                    raise ValueError('Not implemented!')\n",
    "            counts[ball_pts_ind] += 1\n",
    "    intercepts /= counts\n",
    "    betas /= counts # FIXME: is this going to work for d > 1?\n",
    "\n",
    "    # make insample predictions\n",
    "    yhat = []\n",
    "    xt = np.transpose(x)\n",
    "    for i in range(npts):\n",
    "        yhat.append(np.matmul(betas[i, :], xt[:, i]) + intercepts[i][0])\n",
    "\n",
    "    rmse = mean_squared_error(yhat, y, squared=False)\n",
    "    return rmse"
   ]
  },
  {
   "cell_type": "code",
   "execution_count": 25,
   "id": "73f9255e-b2e2-4a07-ac4f-2c92f20b3862",
   "metadata": {},
   "outputs": [],
   "source": [
    "mcloops = 20\n",
    "epsilon = 0.125 # this value more-less reproduces the results from Table 1\n",
    "cut = 25\n",
    "r = 20\n",
    "\n",
    "rmses_eps = []\n",
    "epsilon_list = np.linspace(0.01, 0.3, 20)\n",
    "for epsilon in epsilon_list:\n",
    "    rmses = []\n",
    "    for mcloop in range(mcloops): \n",
    "        x, y = generate_tpf(n=200, sigma=0.02)\n",
    "        x = x.reshape(-1,1)\n",
    "        rmses.append(rmse_bmlrg(x=x, y=y, epsilon=epsilon, cut=cut, r=r))\n",
    "    rmses_eps.append(np.mean(rmses))"
   ]
  },
  {
   "cell_type": "code",
   "execution_count": 26,
   "id": "36b10dd1-51cf-45da-8cb9-3820382ea741",
   "metadata": {},
   "outputs": [
    {
     "data": {
      "text/plain": [
       "Text(0.5, 1.0, 'n=200, sigma=0.02')"
      ]
     },
     "execution_count": 26,
     "metadata": {},
     "output_type": "execute_result"
    },
    {
     "data": {
      "image/png": "[encoded data removed]",
      "text/plain": [
       "<Figure size 432x288 with 1 Axes>"
      ]
     },
     "metadata": {
      "needs_background": "light"
     },
     "output_type": "display_data"
    }
   ],
   "source": [
    "plt.plot(epsilon_list, rmses_eps)\n",
    "plt.xlabel('Epsilon')\n",
    "plt.ylabel('RMSE')\n",
    "plt.title('n=200, sigma=0.02')"
   ]
  },
  {
   "cell_type": "code",
   "execution_count": 27,
   "id": "24ead7db-3a1b-4802-a3d9-d5af604b164d",
   "metadata": {},
   "outputs": [
    {
     "data": {
      "text/plain": [
       "0.029445082573526637"
      ]
     },
     "execution_count": 27,
     "metadata": {},
     "output_type": "execute_result"
    }
   ],
   "source": [
    "np.min(rmses_eps)"
   ]
  }
 ],
 "metadata": {
  "kernelspec": {
   "display_name": "Python 3 (ipykernel)",
   "language": "python",
   "name": "python3"
  },
  "language_info": {
   "codemirror_mode": {
    "name": "ipython",
    "version": 3
   },
   "file_extension": ".py",
   "mimetype": "text/x-python",
   "name": "python",
   "nbconvert_exporter": "python",
   "pygments_lexer": "ipython3",
   "version": "3.8.10"
  }
 },
 "nbformat": 4,
 "nbformat_minor": 5
}
