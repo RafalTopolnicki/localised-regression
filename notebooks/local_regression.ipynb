{
 "cells": [
  {
   "cell_type": "code",
   "execution_count": 10,
   "id": "ef50ca9f-2589-4c35-b16e-b85f36fb5bad",
   "metadata": {},
   "outputs": [],
   "source": [
    "import numpy as np\n",
    "import scipy.stats as ss\n",
    "import pandas as pd\n",
    "import matplotlib.pyplot as plt\n",
    "from sklearn.model_selection import train_test_split\n",
    "from sklearn.datasets import load_boston\n",
    "from sklearn import preprocessing\n",
    "from sklearn.ensemble import RandomForestRegressor\n",
    "from sklearn.svm import SVR # for building SVR model\n",
    "import scipy\n",
    "import catboost as cb\n",
    "from LocalRegression.bmlr import BMLR\n",
    "from sklearn.metrics import mean_squared_error"
   ]
  },
  {
   "cell_type": "code",
   "execution_count": 3,
   "id": "48cf08ed-0489-4242-bac9-2e788b746c99",
   "metadata": {},
   "outputs": [],
   "source": [
    "def generate_tpf(n=100, sigma=0.1, dgp=ss.uniform()):\n",
    "    norm = ss.norm(loc=0, scale=sigma)\n",
    "    x = dgp.rvs(n)\n",
    "    def tpf_(t):\n",
    "        if t<0.3: return 2*t\n",
    "        if t>0.7: return 1.4-t # perhaps 1.3-t?\n",
    "        return 0.6\n",
    "    y = list(map(tpf_, x))\n",
    "    y += norm.rvs(n)\n",
    "    return x, y"
   ]
  },
  {
   "cell_type": "code",
   "execution_count": 4,
   "id": "133ae327-5e75-4e4f-937b-08752333c58e",
   "metadata": {},
   "outputs": [
    {
     "data": {
      "text/plain": [
       "[<matplotlib.lines.Line2D at 0x7fd9ef72fcd0>]"
      ]
     },
     "execution_count": 4,
     "metadata": {},
     "output_type": "execute_result"
    },
    {
     "data": {
      "image/png": "[encoded data removed]",
      "text/plain": [
       "<Figure size 432x288 with 1 Axes>"
      ]
     },
     "metadata": {
      "needs_background": "light"
     },
     "output_type": "display_data"
    }
   ],
   "source": [
    "x, y = generate_tpf(n=200, sigma=0.02)\n",
    "plt.plot(x, y, 'o')"
   ]
  },
  {
   "cell_type": "code",
   "execution_count": 4,
   "id": "7ba3eb1c-79a5-4cf3-b8fb-a0eff476a1fa",
   "metadata": {},
   "outputs": [],
   "source": [
    "def rmse_ols(n, sigma, mcloops=1000, dgp=ss.uniform()):\n",
    "    rmses = []\n",
    "    for mcloop in range(mcloops):\n",
    "        x, y = generate_tpf(n=n, sigma=sigma, dgp=dgp)\n",
    "        X = x.reshape(-1,1)\n",
    "        lm = LinearRegression().fit(X,y)\n",
    "        rmse = mean_squared_error(lm.predict(X), y, squared=False)\n",
    "        rmses.append(rmse)\n",
    "    return np.mean(rmses) "
   ]
  },
  {
   "cell_type": "code",
   "execution_count": 5,
   "id": "5aa56f90-3b30-4310-9ceb-86af6e9de055",
   "metadata": {},
   "outputs": [],
   "source": [
    "sigmas = [0.02, 0.2, 0.5]\n",
    "ns = [200, 500, 1000, 2000]\n",
    "mcloops = 1000\n",
    "rmses = []\n",
    "for sigma in sigmas:\n",
    "    for n in ns:\n",
    "        rmses.append([sigma, n, rmse_ols(n=n, sigma=sigma, mcloops=mcloops, dgp=ss.norm())])"
   ]
  },
  {
   "cell_type": "code",
   "execution_count": 6,
   "id": "ed081bad-5f52-4c2a-b04f-2feb1e743e52",
   "metadata": {},
   "outputs": [
    {
     "data": {
      "text/html": [
       "<div>\n",
       "<style scoped>\n",
       "    .dataframe tbody tr th:only-of-type {\n",
       "        vertical-align: middle;\n",
       "    }\n",
       "\n",
       "    .dataframe tbody tr th {\n",
       "        vertical-align: top;\n",
       "    }\n",
       "\n",
       "    .dataframe thead th {\n",
       "        text-align: right;\n",
       "    }\n",
       "</style>\n",
       "<table border=\"1\" class=\"dataframe\">\n",
       "  <thead>\n",
       "    <tr style=\"text-align: right;\">\n",
       "      <th></th>\n",
       "      <th>sigma</th>\n",
       "      <th>n</th>\n",
       "      <th>OLS</th>\n",
       "    </tr>\n",
       "  </thead>\n",
       "  <tbody>\n",
       "    <tr>\n",
       "      <th>0</th>\n",
       "      <td>0.02</td>\n",
       "      <td>200</td>\n",
       "      <td>0.792416</td>\n",
       "    </tr>\n",
       "    <tr>\n",
       "      <th>1</th>\n",
       "      <td>0.02</td>\n",
       "      <td>500</td>\n",
       "      <td>0.802536</td>\n",
       "    </tr>\n",
       "    <tr>\n",
       "      <th>2</th>\n",
       "      <td>0.02</td>\n",
       "      <td>1000</td>\n",
       "      <td>0.802873</td>\n",
       "    </tr>\n",
       "    <tr>\n",
       "      <th>3</th>\n",
       "      <td>0.02</td>\n",
       "      <td>2000</td>\n",
       "      <td>0.804893</td>\n",
       "    </tr>\n",
       "    <tr>\n",
       "      <th>4</th>\n",
       "      <td>0.20</td>\n",
       "      <td>200</td>\n",
       "      <td>0.819210</td>\n",
       "    </tr>\n",
       "    <tr>\n",
       "      <th>5</th>\n",
       "      <td>0.20</td>\n",
       "      <td>500</td>\n",
       "      <td>0.823933</td>\n",
       "    </tr>\n",
       "    <tr>\n",
       "      <th>6</th>\n",
       "      <td>0.20</td>\n",
       "      <td>1000</td>\n",
       "      <td>0.828521</td>\n",
       "    </tr>\n",
       "    <tr>\n",
       "      <th>7</th>\n",
       "      <td>0.20</td>\n",
       "      <td>2000</td>\n",
       "      <td>0.829094</td>\n",
       "    </tr>\n",
       "    <tr>\n",
       "      <th>8</th>\n",
       "      <td>0.50</td>\n",
       "      <td>200</td>\n",
       "      <td>0.936375</td>\n",
       "    </tr>\n",
       "    <tr>\n",
       "      <th>9</th>\n",
       "      <td>0.50</td>\n",
       "      <td>500</td>\n",
       "      <td>0.942805</td>\n",
       "    </tr>\n",
       "    <tr>\n",
       "      <th>10</th>\n",
       "      <td>0.50</td>\n",
       "      <td>1000</td>\n",
       "      <td>0.944510</td>\n",
       "    </tr>\n",
       "    <tr>\n",
       "      <th>11</th>\n",
       "      <td>0.50</td>\n",
       "      <td>2000</td>\n",
       "      <td>0.946775</td>\n",
       "    </tr>\n",
       "  </tbody>\n",
       "</table>\n",
       "</div>"
      ],
      "text/plain": [
       "    sigma     n       OLS\n",
       "0    0.02   200  0.792416\n",
       "1    0.02   500  0.802536\n",
       "2    0.02  1000  0.802873\n",
       "3    0.02  2000  0.804893\n",
       "4    0.20   200  0.819210\n",
       "5    0.20   500  0.823933\n",
       "6    0.20  1000  0.828521\n",
       "7    0.20  2000  0.829094\n",
       "8    0.50   200  0.936375\n",
       "9    0.50   500  0.942805\n",
       "10   0.50  1000  0.944510\n",
       "11   0.50  2000  0.946775"
      ]
     },
     "execution_count": 6,
     "metadata": {},
     "output_type": "execute_result"
    }
   ],
   "source": [
    "pd.DataFrame(rmses, columns=['sigma', 'n', 'OLS'])"
   ]
  },
  {
   "cell_type": "code",
   "execution_count": 5,
   "id": "5c63187f-e0c1-48d8-9082-f261dd38b43c",
   "metadata": {},
   "outputs": [],
   "source": [
    "# some test\n",
    "x, y = generate_tpf(n=200, sigma=0.02)\n",
    "x_test, y_test = generate_tpf(n=40, sigma=0.02)\n",
    "x = x.reshape(-1,1)\n",
    "x_test = x_test.reshape(-1,1)"
   ]
  },
  {
   "cell_type": "code",
   "execution_count": 6,
   "id": "8d822630-723d-4255-bdac-b7b7f7ca4687",
   "metadata": {},
   "outputs": [
    {
     "name": "stdout",
     "output_type": "stream",
     "text": [
      "1\n",
      "0.12590332504952662\n"
     ]
    }
   ],
   "source": [
    "bmlr = BMLR(cut=5, M=20, substitution_policy='global')\n",
    "bmlr.fit(x,y)\n",
    "print(bmlr.score(x, y))"
   ]
  },
  {
   "cell_type": "code",
   "execution_count": 16,
   "id": "73f9255e-b2e2-4a07-ac4f-2c92f20b3862",
   "metadata": {},
   "outputs": [
    {
     "name": "stdout",
     "output_type": "stream",
     "text": [
      "epsilon=0.2\n",
      "epsilon=0.4\n",
      "epsilon=0.6000000000000001\n",
      "epsilon=0.8\n",
      "epsilon=1.0\n",
      "epsilon=1.2\n",
      "epsilon=1.4000000000000001\n",
      "epsilon=1.6\n",
      "epsilon=1.8\n",
      "epsilon=2.0\n"
     ]
    }
   ],
   "source": [
    "mcloops = 10\n",
    "cut = 25\n",
    "M = 20\n",
    "dgp = ss.norm()\n",
    "\n",
    "rmses = []\n",
    "epsilon_list = np.linspace(0.2, 2, 10)\n",
    "for epsilon in epsilon_list:\n",
    "    print(f'epsilon={epsilon}')\n",
    "    rmses_epsilon = []\n",
    "    for mcloop in range(mcloops): \n",
    "        x_train, y_train = generate_tpf(n=200, sigma=0.02, dgp=dgp)\n",
    "        x_test, y_test = generate_tpf(n=40, sigma=0.02, dgp=dgp)\n",
    "        x_train = x_train.reshape(-1,1)\n",
    "        x_test = x_test.reshape(-1,1)\n",
    "\n",
    "        bmlrg = BMLR(cut=cut, M=M, substitution_policy='global')\n",
    "        bmlrn = BMLR(cut=cut, M=M, substitution_policy='nearest')\n",
    "        bmlrg.fit(x_train, y_train, epsilon=epsilon)\n",
    "        bmlrn.fit(x_train, y_train, epsilon=epsilon)\n",
    "\n",
    "        rmseg_in  = bmlrg.score(x_train, y_train)\n",
    "        rmseg_out = bmlrg.score(x_test, y_test)\n",
    "        rmsen_in  = bmlrn.score(x_train, y_train)\n",
    "        rmsen_out = bmlrn.score(x_test, y_test)\n",
    "        \n",
    "        # train catboost\n",
    "        train_dataset = cb.Pool(x_train, y_train)\n",
    "        test_dataset = cb.Pool(x_test, y_test)\n",
    "        model = cb.CatBoostRegressor(loss_function='RMSE')\n",
    "        model.fit(train_dataset, eval_set=test_dataset, use_best_model=True, verbose=0)\n",
    "        cb_score = model.best_score_['validation']['RMSE']\n",
    "        \n",
    "        rmses_epsilon.append([rmseg_in, rmsen_in, rmseg_out, rmsen_out, cb_score])\n",
    "    \n",
    "    rmses_epsilon = np.mean(rmses_epsilon, axis=0)\n",
    "    rmses.append([epsilon, *rmses_epsilon])"
   ]
  },
  {
   "cell_type": "code",
   "execution_count": 17,
   "id": "36b10dd1-51cf-45da-8cb9-3820382ea741",
   "metadata": {},
   "outputs": [
    {
     "data": {
      "text/plain": [
       "<matplotlib.legend.Legend at 0x7f6131a110a0>"
      ]
     },
     "execution_count": 17,
     "metadata": {},
     "output_type": "execute_result"
    },
    {
     "data": {
      "image/png": "[encoded data removed]",
      "text/plain": [
       "<Figure size 432x288 with 1 Axes>"
      ]
     },
     "metadata": {
      "needs_background": "light"
     },
     "output_type": "display_data"
    }
   ],
   "source": [
    "rmses = np.array(rmses)\n",
    "plt.plot(rmses[:, 0], rmses[:, 1], label='BMLRG-InSample')\n",
    "plt.plot(rmses[:, 0], rmses[:, 2], label='BMLRN-InSample')\n",
    "plt.plot(rmses[:, 0], rmses[:, 3], label='BMLRG-OutSample')\n",
    "plt.plot(rmses[:, 0], rmses[:, 4], label='BMLRN-OutSample')\n",
    "plt.plot(rmses[:, 0], rmses[:, 5], label='CatBoost')\n",
    "plt.xlabel('Epsilon')\n",
    "plt.ylabel('RMSE')\n",
    "plt.title('n=200, sigma=0.02')\n",
    "plt.legend()"
   ]
  },
  {
   "cell_type": "code",
   "execution_count": 7,
   "id": "23bced4b-bb0f-44e9-9fda-f5cf6ace8d8a",
   "metadata": {},
   "outputs": [
    {
     "ename": "TypeError",
     "evalue": "fit() got an unexpected keyword argument 'epsilon'",
     "output_type": "error",
     "traceback": [
      "\u001b[0;31m---------------------------------------------------------------------------\u001b[0m",
      "\u001b[0;31mTypeError\u001b[0m                                 Traceback (most recent call last)",
      "Input \u001b[0;32mIn [7]\u001b[0m, in \u001b[0;36m<cell line: 11>\u001b[0;34m()\u001b[0m\n\u001b[1;32m      9\u001b[0m bmlrg \u001b[38;5;241m=\u001b[39m BMLR(cut\u001b[38;5;241m=\u001b[39mcut, M\u001b[38;5;241m=\u001b[39mM, substitution_policy\u001b[38;5;241m=\u001b[39m\u001b[38;5;124m'\u001b[39m\u001b[38;5;124mglobal\u001b[39m\u001b[38;5;124m'\u001b[39m)\n\u001b[1;32m     10\u001b[0m bmlrn \u001b[38;5;241m=\u001b[39m BMLR(cut\u001b[38;5;241m=\u001b[39mcut, M\u001b[38;5;241m=\u001b[39mM, substitution_policy\u001b[38;5;241m=\u001b[39m\u001b[38;5;124m'\u001b[39m\u001b[38;5;124mnearest\u001b[39m\u001b[38;5;124m'\u001b[39m)\n\u001b[0;32m---> 11\u001b[0m \u001b[43mbmlrg\u001b[49m\u001b[38;5;241;43m.\u001b[39;49m\u001b[43mfit\u001b[49m\u001b[43m(\u001b[49m\u001b[43mX\u001b[49m\u001b[43m,\u001b[49m\u001b[43m \u001b[49m\u001b[43my\u001b[49m\u001b[43m,\u001b[49m\u001b[43m \u001b[49m\u001b[43mepsilon\u001b[49m\u001b[38;5;241;43m=\u001b[39;49m\u001b[38;5;241;43m0.12\u001b[39;49m\u001b[43m)\u001b[49m\n\u001b[1;32m     12\u001b[0m bmlrn\u001b[38;5;241m.\u001b[39mfit(X, y, epsilon\u001b[38;5;241m=\u001b[39m\u001b[38;5;241m0.12\u001b[39m)\n\u001b[1;32m     14\u001b[0m yg \u001b[38;5;241m=\u001b[39m bmlrg\u001b[38;5;241m.\u001b[39mpredict(xt)\n",
      "\u001b[0;31mTypeError\u001b[0m: fit() got an unexpected keyword argument 'epsilon'"
     ]
    }
   ],
   "source": [
    "# make some plots\n",
    "cut = 25\n",
    "M = 20\n",
    "xt = np.linspace(0, 1, 100)\n",
    "xt = np.array(xt).reshape((-1,1))\n",
    "X, y = generate_tpf(n=200, sigma=0.02)\n",
    "X = X.reshape((-1,1))\n",
    "\n",
    "bmlrg = BMLR(cut=cut, M=M, substitution_policy='global')\n",
    "bmlrn = BMLR(cut=cut, M=M, substitution_policy='nearest')\n",
    "bmlrg.fit(X, y, epsilon=0.12)\n",
    "bmlrn.fit(X, y, epsilon=0.12)\n",
    "\n",
    "yg = bmlrg.predict(xt)\n",
    "yn = bmlrn.predict(xt)\n",
    "plt.plot(X, y, 'o', markersize=3, color='black')\n",
    "plt.plot(xt, yg, label='BMLRG', color='red')\n",
    "plt.plot(xt, yn, label='BMLRN', color='blue')"
   ]
  },
  {
   "cell_type": "markdown",
   "id": "f923ff7f-3d4e-4b48-926a-c56dca9e4446",
   "metadata": {},
   "source": [
    "# Test model using 3d hyperplane (no noise)\n",
    "Coefficiants in each ball should be the same and have the same values as in data generating process "
   ]
  },
  {
   "cell_type": "code",
   "execution_count": 8,
   "id": "2099c3ce-1a5d-483c-86fb-18ad06cb1185",
   "metadata": {},
   "outputs": [],
   "source": [
    "def generate_plane(n=100):\n",
    "    x = ss.uniform.rvs(size=(n,3))\n",
    "    y = x[:, 0]*0.34 + x[:, 1]*0.11 + x[:, 2]*(-1.234) + 0.8\n",
    "    return x, y"
   ]
  },
  {
   "cell_type": "code",
   "execution_count": 9,
   "id": "f3f2faf6-4a7f-49cf-9f17-aa997abe8640",
   "metadata": {},
   "outputs": [
    {
     "ename": "TypeError",
     "evalue": "fit() got an unexpected keyword argument 'epsilon'",
     "output_type": "error",
     "traceback": [
      "\u001b[0;31m---------------------------------------------------------------------------\u001b[0m",
      "\u001b[0;31mTypeError\u001b[0m                                 Traceback (most recent call last)",
      "Input \u001b[0;32mIn [9]\u001b[0m, in \u001b[0;36m<cell line: 3>\u001b[0;34m()\u001b[0m\n\u001b[1;32m      1\u001b[0m sample_x, sample_y \u001b[38;5;241m=\u001b[39m generate_plane(\u001b[38;5;241m2000\u001b[39m)\n\u001b[1;32m      2\u001b[0m bmlrn_hyperplane \u001b[38;5;241m=\u001b[39m BMLR(cut\u001b[38;5;241m=\u001b[39m\u001b[38;5;241m5\u001b[39m, M\u001b[38;5;241m=\u001b[39m\u001b[38;5;241m1\u001b[39m, substitution_policy\u001b[38;5;241m=\u001b[39m\u001b[38;5;124m'\u001b[39m\u001b[38;5;124mnearest\u001b[39m\u001b[38;5;124m'\u001b[39m)\n\u001b[0;32m----> 3\u001b[0m \u001b[43mbmlrn_hyperplane\u001b[49m\u001b[38;5;241;43m.\u001b[39;49m\u001b[43mfit\u001b[49m\u001b[43m(\u001b[49m\u001b[43msample_x\u001b[49m\u001b[43m,\u001b[49m\u001b[43m \u001b[49m\u001b[43msample_y\u001b[49m\u001b[43m,\u001b[49m\u001b[43m \u001b[49m\u001b[43mepsilon\u001b[49m\u001b[38;5;241;43m=\u001b[39;49m\u001b[38;5;241;43m0.2\u001b[39;49m\u001b[43m)\u001b[49m\n\u001b[1;32m      4\u001b[0m score \u001b[38;5;241m=\u001b[39m bmlrn_hyperplane\u001b[38;5;241m.\u001b[39mscore(sample_x, sample_y)\n\u001b[1;32m      5\u001b[0m \u001b[38;5;28mprint\u001b[39m(score)\n",
      "\u001b[0;31mTypeError\u001b[0m: fit() got an unexpected keyword argument 'epsilon'"
     ]
    }
   ],
   "source": [
    "sample_x, sample_y = generate_plane(2000)\n",
    "bmlrn_hyperplane = BMLR(cut=5, M=1, substitution_policy='nearest')\n",
    "bmlrn_hyperplane.fit(sample_x, sample_y, epsilon=0.2)\n",
    "score = bmlrn_hyperplane.score(sample_x, sample_y)\n",
    "print(score) # this should be close to 0"
   ]
  },
  {
   "cell_type": "code",
   "execution_count": 22,
   "id": "5ab22aa5-ee86-4eaf-9f5a-2dc7a2e49bb9",
   "metadata": {},
   "outputs": [
    {
     "name": "stdout",
     "output_type": "stream",
     "text": [
      "[ 0.34   0.11  -1.234]\n",
      "0.8000000000000003\n"
     ]
    }
   ],
   "source": [
    "# coefficients here should be the same as in generate\n",
    "print(bmlrn_hyperplane.ball_mappers[0].Graph.nodes[3]['beta'])\n",
    "print(bmlrn_hyperplane.ball_mappers[0].Graph.nodes[3]['intercept'])"
   ]
  },
  {
   "cell_type": "markdown",
   "id": "421d6d69-e69b-4846-a0e4-1733cc023b87",
   "metadata": {},
   "source": [
    "# Test model using multimodal functions\n",
    "We study functions typically used to test optimization problems.\n",
    "Here we go with [Himmelblau's function](https://en.wikipedia.org/wiki/Himmelblau%27s_function)"
   ]
  },
  {
   "cell_type": "code",
   "execution_count": 2,
   "id": "45fe60b4-fa9b-4995-8b7f-bfb7de3a2b3b",
   "metadata": {},
   "outputs": [],
   "source": [
    "def generate_Himmelblau(n=100, sigma=0.1):\n",
    "    norm = ss.norm(loc=0, scale=sigma)\n",
    "    x = (ss.uniform.rvs(size=(n, 2))-0.5)*5*2\n",
    "    y = (x[:, 0]**2 + x[:, 1] - 11)**2 + (x[:, 0] + x[:, 1]**2 - 7)**2\n",
    "    y += norm.rvs(n)\n",
    "    return x, y"
   ]
  },
  {
   "cell_type": "code",
   "execution_count": 3,
   "id": "40cac437-348e-4ab3-8a52-b7f8e345b24e",
   "metadata": {},
   "outputs": [
    {
     "data": {
      "text/plain": [
       "<matplotlib.collections.PathCollection at 0x7f0774103400>"
      ]
     },
     "execution_count": 3,
     "metadata": {},
     "output_type": "execute_result"
    },
    {
     "data": {
      "image/png": "[encoded data removed]",
      "text/plain": [
       "<Figure size 432x288 with 1 Axes>"
      ]
     },
     "metadata": {
      "needs_background": "light"
     },
     "output_type": "display_data"
    }
   ],
   "source": [
    "sample_x, sample_y = generate_Himmelblau(n=2000)\n",
    "sample_x_test, sample_y_test = generate_Himmelblau(n=500)\n",
    "plt.scatter(sample_x[:, 0], sample_x[:, 1], c=np.log(sample_y))"
   ]
  },
  {
   "cell_type": "code",
   "execution_count": 4,
   "id": "e09d8322-f518-474b-b188-587b1f4715c8",
   "metadata": {},
   "outputs": [],
   "source": [
    "from sklearn.model_selection import GridSearchCV\n",
    "# from sklearn.utils.fixes import loguniform"
   ]
  },
  {
   "cell_type": "code",
   "execution_count": 14,
   "id": "548b6dbe-24ff-4e9b-bef1-2acba5136037",
   "metadata": {},
   "outputs": [],
   "source": [
    "def model_random_forest(x, y, x_test, y_test):\n",
    "    param_grid = {'n_estimators': [10, 100, 1000, 2500, 3000]}\n",
    "    rf = RandomForestRegressor()\n",
    "    sh = GridSearchCV(rf, param_grid, cv=3).fit(x, y)\n",
    "    pred = sh.predict(x_test)\n",
    "    score = mean_squared_error(pred, y_test, squared=False)\n",
    "    return score, pred\n",
    "\n",
    "def model_catboost(x, y, x_test, y_test):\n",
    "    train_dataset = cb.Pool(x, y)\n",
    "    test_dataset = cb.Pool(x_test, y_test)\n",
    "    model = cb.CatBoostRegressor(loss_function='RMSE', verbose=0)\n",
    "    model.fit(train_dataset)\n",
    "    pred = model.predict(test_dataset)\n",
    "    score = mean_squared_error(pred, y_test, squared=False)\n",
    "    return score, pred"
   ]
  },
  {
   "cell_type": "code",
   "execution_count": 8,
   "id": "b98df818-ad87-4de1-815b-c89270583827",
   "metadata": {},
   "outputs": [],
   "source": [
    "def model_mars():\n",
    "    pass\n",
    "\n",
    "def model_svr(x, y, x_test, y_test):\n",
    "    param_grid = {'C': [0.1, 1, 100, 1000, 1000],\n",
    "                  'degree': [2],\n",
    "                  'epsilon': [0.01, 0.1, 1, 10]\n",
    "                 }\n",
    "    svr = SVR(kernel='rbf')\n",
    "    #sh = HalvingGridSearchCV(model, param_grid, cv=5, factor=3, max_resources=50, n_jobs=-1).fit(x, y)\n",
    "    #sh = RandomizedSearchCV(model, param_grid, cv=5).fit(x, y)\n",
    "    sh = GridSearchCV(svr, param_grid, cv=3, verbose=1).fit(x, y)\n",
    "    print(sh.best_params_)\n",
    "    pred = sh.predict(x_test)\n",
    "    score = mean_squared_error(pred, y_test, squared=False)\n",
    "    return score, pred\n",
    "\n",
    "def model_bmlr(x, y, x_test, y_test):\n",
    "    epsilon_trial = np.mean(np.std(sample_x, axis=0))/5\n",
    "    param_grid = {'epsilon': [epsilon_trial*x for x in [0.2, 0.5, 0.8, 1.0, 1.5, 2.0]]}\n",
    "    bmlr = BMLR(cut=10, M=5, substitution_policy='nearest')\n",
    "    gsh = GridSearchCV(bmlr, param_grid, cv=3, verbose=1)\n",
    "    sh = gsh.fit(x, y)\n",
    "    print(sh.best_params_)\n",
    "    pred = sh.predict(x_test)\n",
    "    score = mean_squared_error(pred, y_test, squared=False)\n",
    "    return score, pred, gsh"
   ]
  },
  {
   "cell_type": "code",
   "execution_count": null,
   "id": "58c32081-b2ee-4c3a-a79f-062b294bb6bf",
   "metadata": {},
   "outputs": [],
   "source": [
    "rf_score, rf_pred = model_random_forest(sample_x, sample_y, sample_x_test, sample_y_test)"
   ]
  },
  {
   "cell_type": "code",
   "execution_count": 84,
   "id": "8bb52d7a-bd36-4ee5-98cb-e9bb6fbd7af5",
   "metadata": {},
   "outputs": [],
   "source": [
    "cb_score, cb_pred = model_catboost(sample_x, sample_y, sample_x_test, sample_y_test)"
   ]
  },
  {
   "cell_type": "code",
   "execution_count": 87,
   "id": "fab832cc-7225-493d-a408-e5a9abafdfbe",
   "metadata": {},
   "outputs": [
    {
     "name": "stdout",
     "output_type": "stream",
     "text": [
      "Fitting 3 folds for each of 12 candidates, totalling 36 fits\n",
      "{'C': 1000, 'degree': 2, 'epsilon': 0.1}\n"
     ]
    }
   ],
   "source": [
    "svr_score, svr_pred = model_svr(sample_x, sample_y, sample_x_test, sample_y_test)"
   ]
  },
  {
   "cell_type": "code",
   "execution_count": 89,
   "id": "d0c3b6eb-4f2b-4858-a7ad-03d28e53e857",
   "metadata": {},
   "outputs": [
    {
     "data": {
      "text/plain": [
       "12.1904767417316"
      ]
     },
     "execution_count": 89,
     "metadata": {},
     "output_type": "execute_result"
    }
   ],
   "source": [
    "rf_score"
   ]
  },
  {
   "cell_type": "code",
   "execution_count": 90,
   "id": "2bf3f424-6892-42fd-8699-ea22012a635c",
   "metadata": {},
   "outputs": [
    {
     "data": {
      "text/plain": [
       "4.55880341408578"
      ]
     },
     "execution_count": 90,
     "metadata": {},
     "output_type": "execute_result"
    }
   ],
   "source": [
    "cb_score"
   ]
  },
  {
   "cell_type": "code",
   "execution_count": 91,
   "id": "153067f5-6147-4cb4-bcb2-a2a7cf2dc9af",
   "metadata": {},
   "outputs": [
    {
     "data": {
      "text/plain": [
       "4.057335688923438"
      ]
     },
     "execution_count": 91,
     "metadata": {},
     "output_type": "execute_result"
    }
   ],
   "source": [
    "svr_score"
   ]
  },
  {
   "cell_type": "code",
   "execution_count": 11,
   "id": "e8de0f6b-4f32-402a-b264-aa426eea7c65",
   "metadata": {},
   "outputs": [
    {
     "name": "stdout",
     "output_type": "stream",
     "text": [
      "Fitting 3 folds for each of 6 candidates, totalling 18 fits\n",
      "0.11417204704297523\n",
      "0.11417204704297523\n",
      "0.11417204704297523\n",
      "0.2854301176074381\n",
      "0.2854301176074381\n",
      "0.2854301176074381\n",
      "0.45668818817190093\n",
      "0.45668818817190093\n",
      "0.45668818817190093\n",
      "0.5708602352148762\n",
      "0.5708602352148762\n",
      "0.5708602352148762\n",
      "0.8562903528223142\n",
      "0.8562903528223142\n",
      "0.8562903528223142\n",
      "1.1417204704297523\n",
      "1.1417204704297523\n",
      "1.1417204704297523\n"
     ]
    },
    {
     "name": "stderr",
     "output_type": "stream",
     "text": [
      "/home/rafal/WORK/IMPAN/LocalRegression/venv/lib/python3.8/site-packages/sklearn/model_selection/_validation.py:372: FitFailedWarning: \n",
      "4 fits failed out of a total of 18.\n",
      "The score on these train-test partitions for these parameters will be set to nan.\n",
      "If these failures are not expected, you can try to debug them by setting error_score='raise'.\n",
      "\n",
      "Below are more details about the failures:\n",
      "--------------------------------------------------------------------------------\n",
      "4 fits failed with the following error:\n",
      "Traceback (most recent call last):\n",
      "  File \"/home/rafal/WORK/IMPAN/LocalRegression/venv/lib/python3.8/site-packages/sklearn/model_selection/_validation.py\", line 680, in _fit_and_score\n",
      "    estimator.fit(X_train, y_train, **fit_params)\n",
      "  File \"/home/rafal/WORK/IMPAN/LocalRegression/notebooks/LocalRegression/bmlr.py\", line 46, in fit\n",
      "    return self.__fit__(x=x, y=y, epsilon=self.epsilon, M=self.M)\n",
      "  File \"/home/rafal/WORK/IMPAN/LocalRegression/notebooks/LocalRegression/bmlr.py\", line 93, in __fit__\n",
      "    raise ValueError(f'All ball contain less than cut={self.cut} '\n",
      "ValueError: All ball contain less than cut=10 points. Decrease cut or increase epsilon!\n",
      "\n",
      "  warnings.warn(some_fits_failed_message, FitFailedWarning)\n",
      "/home/rafal/WORK/IMPAN/LocalRegression/venv/lib/python3.8/site-packages/sklearn/model_selection/_search.py:969: UserWarning: One or more of the test scores are non-finite: [        nan         nan  8.97580792  6.64729117  6.67161863 10.07951408]\n",
      "  warnings.warn(\n"
     ]
    },
    {
     "name": "stdout",
     "output_type": "stream",
     "text": [
      "1.1417204704297523\n",
      "{'epsilon': 1.1417204704297523}\n"
     ]
    }
   ],
   "source": [
    "bmlr_score, bmlr_pred, bmlr_sh = model_bmlr(sample_x, sample_y, sample_x_test, sample_y_test)"
   ]
  },
  {
   "cell_type": "code",
   "execution_count": null,
   "id": "434bf466-009f-45e0-b3fd-707eb57543d8",
   "metadata": {},
   "outputs": [],
   "source": []
  },
  {
   "cell_type": "code",
   "execution_count": null,
   "id": "7327fed3-dd1b-4118-b159-7a3f8edbf925",
   "metadata": {},
   "outputs": [],
   "source": [
    "# test various epsilons. This is quite good accually - we get result better than Random Forrest and CatBoost\n",
    "for epsilon in np.linspace(0.3, 2, 10):\n",
    "    bmlrn_himmmel = BMLR(cut=10, M=10, substitution_policy='nearest')\n",
    "    bmlrn_himmmel.fit(sample_x, sample_y, epsilon=epsilon)\n",
    "    bmlrn_himmmel_score = bmlrn_himmmel.score(sample_x_test, sample_y_test)\n",
    "    print(f'epsilon={epsilon} rmse={bmlrn_himmmel_score}')"
   ]
  },
  {
   "cell_type": "markdown",
   "id": "2853863e-94f4-4076-b42d-3214f06fd278",
   "metadata": {},
   "source": [
    "# Multidiemntional data\n",
    "TODO"
   ]
  },
  {
   "cell_type": "markdown",
   "id": "0892b05a-e4ad-4c46-8650-15833ba33518",
   "metadata": {},
   "source": [
    "# Train on Boston dataset"
   ]
  },
  {
   "cell_type": "code",
   "execution_count": 33,
   "id": "ed769d60-4ac5-4266-8f61-7e2c8b762243",
   "metadata": {},
   "outputs": [],
   "source": [
    "# Test model on some real data and benchmark it against catboost\n",
    "boston_dataset = load_boston()"
   ]
  },
  {
   "cell_type": "code",
   "execution_count": 34,
   "id": "f2ef70d4-19c8-4cfa-b7b0-165e1be10381",
   "metadata": {},
   "outputs": [
    {
     "data": {
      "text/html": [
       "<div>\n",
       "<style scoped>\n",
       "    .dataframe tbody tr th:only-of-type {\n",
       "        vertical-align: middle;\n",
       "    }\n",
       "\n",
       "    .dataframe tbody tr th {\n",
       "        vertical-align: top;\n",
       "    }\n",
       "\n",
       "    .dataframe thead th {\n",
       "        text-align: right;\n",
       "    }\n",
       "</style>\n",
       "<table border=\"1\" class=\"dataframe\">\n",
       "  <thead>\n",
       "    <tr style=\"text-align: right;\">\n",
       "      <th></th>\n",
       "      <th>CRIM</th>\n",
       "      <th>ZN</th>\n",
       "      <th>INDUS</th>\n",
       "      <th>CHAS</th>\n",
       "      <th>NOX</th>\n",
       "      <th>RM</th>\n",
       "      <th>AGE</th>\n",
       "      <th>DIS</th>\n",
       "      <th>RAD</th>\n",
       "      <th>TAX</th>\n",
       "      <th>PTRATIO</th>\n",
       "      <th>B</th>\n",
       "      <th>LSTAT</th>\n",
       "    </tr>\n",
       "  </thead>\n",
       "  <tbody>\n",
       "    <tr>\n",
       "      <th>0</th>\n",
       "      <td>0.00632</td>\n",
       "      <td>18.0</td>\n",
       "      <td>2.31</td>\n",
       "      <td>0.0</td>\n",
       "      <td>0.538</td>\n",
       "      <td>6.575</td>\n",
       "      <td>65.2</td>\n",
       "      <td>4.0900</td>\n",
       "      <td>1.0</td>\n",
       "      <td>296.0</td>\n",
       "      <td>15.3</td>\n",
       "      <td>396.90</td>\n",
       "      <td>4.98</td>\n",
       "    </tr>\n",
       "    <tr>\n",
       "      <th>1</th>\n",
       "      <td>0.02731</td>\n",
       "      <td>0.0</td>\n",
       "      <td>7.07</td>\n",
       "      <td>0.0</td>\n",
       "      <td>0.469</td>\n",
       "      <td>6.421</td>\n",
       "      <td>78.9</td>\n",
       "      <td>4.9671</td>\n",
       "      <td>2.0</td>\n",
       "      <td>242.0</td>\n",
       "      <td>17.8</td>\n",
       "      <td>396.90</td>\n",
       "      <td>9.14</td>\n",
       "    </tr>\n",
       "    <tr>\n",
       "      <th>2</th>\n",
       "      <td>0.02729</td>\n",
       "      <td>0.0</td>\n",
       "      <td>7.07</td>\n",
       "      <td>0.0</td>\n",
       "      <td>0.469</td>\n",
       "      <td>7.185</td>\n",
       "      <td>61.1</td>\n",
       "      <td>4.9671</td>\n",
       "      <td>2.0</td>\n",
       "      <td>242.0</td>\n",
       "      <td>17.8</td>\n",
       "      <td>392.83</td>\n",
       "      <td>4.03</td>\n",
       "    </tr>\n",
       "    <tr>\n",
       "      <th>3</th>\n",
       "      <td>0.03237</td>\n",
       "      <td>0.0</td>\n",
       "      <td>2.18</td>\n",
       "      <td>0.0</td>\n",
       "      <td>0.458</td>\n",
       "      <td>6.998</td>\n",
       "      <td>45.8</td>\n",
       "      <td>6.0622</td>\n",
       "      <td>3.0</td>\n",
       "      <td>222.0</td>\n",
       "      <td>18.7</td>\n",
       "      <td>394.63</td>\n",
       "      <td>2.94</td>\n",
       "    </tr>\n",
       "    <tr>\n",
       "      <th>4</th>\n",
       "      <td>0.06905</td>\n",
       "      <td>0.0</td>\n",
       "      <td>2.18</td>\n",
       "      <td>0.0</td>\n",
       "      <td>0.458</td>\n",
       "      <td>7.147</td>\n",
       "      <td>54.2</td>\n",
       "      <td>6.0622</td>\n",
       "      <td>3.0</td>\n",
       "      <td>222.0</td>\n",
       "      <td>18.7</td>\n",
       "      <td>396.90</td>\n",
       "      <td>5.33</td>\n",
       "    </tr>\n",
       "    <tr>\n",
       "      <th>...</th>\n",
       "      <td>...</td>\n",
       "      <td>...</td>\n",
       "      <td>...</td>\n",
       "      <td>...</td>\n",
       "      <td>...</td>\n",
       "      <td>...</td>\n",
       "      <td>...</td>\n",
       "      <td>...</td>\n",
       "      <td>...</td>\n",
       "      <td>...</td>\n",
       "      <td>...</td>\n",
       "      <td>...</td>\n",
       "      <td>...</td>\n",
       "    </tr>\n",
       "    <tr>\n",
       "      <th>501</th>\n",
       "      <td>0.06263</td>\n",
       "      <td>0.0</td>\n",
       "      <td>11.93</td>\n",
       "      <td>0.0</td>\n",
       "      <td>0.573</td>\n",
       "      <td>6.593</td>\n",
       "      <td>69.1</td>\n",
       "      <td>2.4786</td>\n",
       "      <td>1.0</td>\n",
       "      <td>273.0</td>\n",
       "      <td>21.0</td>\n",
       "      <td>391.99</td>\n",
       "      <td>9.67</td>\n",
       "    </tr>\n",
       "    <tr>\n",
       "      <th>502</th>\n",
       "      <td>0.04527</td>\n",
       "      <td>0.0</td>\n",
       "      <td>11.93</td>\n",
       "      <td>0.0</td>\n",
       "      <td>0.573</td>\n",
       "      <td>6.120</td>\n",
       "      <td>76.7</td>\n",
       "      <td>2.2875</td>\n",
       "      <td>1.0</td>\n",
       "      <td>273.0</td>\n",
       "      <td>21.0</td>\n",
       "      <td>396.90</td>\n",
       "      <td>9.08</td>\n",
       "    </tr>\n",
       "    <tr>\n",
       "      <th>503</th>\n",
       "      <td>0.06076</td>\n",
       "      <td>0.0</td>\n",
       "      <td>11.93</td>\n",
       "      <td>0.0</td>\n",
       "      <td>0.573</td>\n",
       "      <td>6.976</td>\n",
       "      <td>91.0</td>\n",
       "      <td>2.1675</td>\n",
       "      <td>1.0</td>\n",
       "      <td>273.0</td>\n",
       "      <td>21.0</td>\n",
       "      <td>396.90</td>\n",
       "      <td>5.64</td>\n",
       "    </tr>\n",
       "    <tr>\n",
       "      <th>504</th>\n",
       "      <td>0.10959</td>\n",
       "      <td>0.0</td>\n",
       "      <td>11.93</td>\n",
       "      <td>0.0</td>\n",
       "      <td>0.573</td>\n",
       "      <td>6.794</td>\n",
       "      <td>89.3</td>\n",
       "      <td>2.3889</td>\n",
       "      <td>1.0</td>\n",
       "      <td>273.0</td>\n",
       "      <td>21.0</td>\n",
       "      <td>393.45</td>\n",
       "      <td>6.48</td>\n",
       "    </tr>\n",
       "    <tr>\n",
       "      <th>505</th>\n",
       "      <td>0.04741</td>\n",
       "      <td>0.0</td>\n",
       "      <td>11.93</td>\n",
       "      <td>0.0</td>\n",
       "      <td>0.573</td>\n",
       "      <td>6.030</td>\n",
       "      <td>80.8</td>\n",
       "      <td>2.5050</td>\n",
       "      <td>1.0</td>\n",
       "      <td>273.0</td>\n",
       "      <td>21.0</td>\n",
       "      <td>396.90</td>\n",
       "      <td>7.88</td>\n",
       "    </tr>\n",
       "  </tbody>\n",
       "</table>\n",
       "<p>506 rows × 13 columns</p>\n",
       "</div>"
      ],
      "text/plain": [
       "        CRIM    ZN  INDUS  CHAS    NOX     RM   AGE     DIS  RAD    TAX  \\\n",
       "0    0.00632  18.0   2.31   0.0  0.538  6.575  65.2  4.0900  1.0  296.0   \n",
       "1    0.02731   0.0   7.07   0.0  0.469  6.421  78.9  4.9671  2.0  242.0   \n",
       "2    0.02729   0.0   7.07   0.0  0.469  7.185  61.1  4.9671  2.0  242.0   \n",
       "3    0.03237   0.0   2.18   0.0  0.458  6.998  45.8  6.0622  3.0  222.0   \n",
       "4    0.06905   0.0   2.18   0.0  0.458  7.147  54.2  6.0622  3.0  222.0   \n",
       "..       ...   ...    ...   ...    ...    ...   ...     ...  ...    ...   \n",
       "501  0.06263   0.0  11.93   0.0  0.573  6.593  69.1  2.4786  1.0  273.0   \n",
       "502  0.04527   0.0  11.93   0.0  0.573  6.120  76.7  2.2875  1.0  273.0   \n",
       "503  0.06076   0.0  11.93   0.0  0.573  6.976  91.0  2.1675  1.0  273.0   \n",
       "504  0.10959   0.0  11.93   0.0  0.573  6.794  89.3  2.3889  1.0  273.0   \n",
       "505  0.04741   0.0  11.93   0.0  0.573  6.030  80.8  2.5050  1.0  273.0   \n",
       "\n",
       "     PTRATIO       B  LSTAT  \n",
       "0       15.3  396.90   4.98  \n",
       "1       17.8  396.90   9.14  \n",
       "2       17.8  392.83   4.03  \n",
       "3       18.7  394.63   2.94  \n",
       "4       18.7  396.90   5.33  \n",
       "..       ...     ...    ...  \n",
       "501     21.0  391.99   9.67  \n",
       "502     21.0  396.90   9.08  \n",
       "503     21.0  396.90   5.64  \n",
       "504     21.0  393.45   6.48  \n",
       "505     21.0  396.90   7.88  \n",
       "\n",
       "[506 rows x 13 columns]"
      ]
     },
     "execution_count": 34,
     "metadata": {},
     "output_type": "execute_result"
    }
   ],
   "source": [
    "boston = pd.DataFrame(boston_dataset.data, columns=boston_dataset.feature_names)\n",
    "boston"
   ]
  },
  {
   "cell_type": "code",
   "execution_count": 35,
   "id": "b5ce8f70-3506-4dcf-9dbd-8d5b711445fa",
   "metadata": {},
   "outputs": [],
   "source": [
    "# get rid of data with too constant values, for simplicity of too high variance\n",
    "X = boston.drop(['ZN', 'CHAS', 'RAD', 'TAX', 'B'], axis=1)\n",
    "y = boston_dataset.target"
   ]
  },
  {
   "cell_type": "code",
   "execution_count": 36,
   "id": "7a30a309-30f2-4073-b22e-b7ab5a28ba9f",
   "metadata": {},
   "outputs": [],
   "source": [
    "X_train, X_test, y_train, y_test = train_test_split(X, y, test_size=0.2)\n",
    "\n",
    "scaler = preprocessing.StandardScaler().fit(X_train)\n",
    "\n",
    "X_train_scaled = scaler.transform(X_train)\n",
    "X_test_scaled = scaler.transform(X_test)\n",
    "\n",
    "# train_dataset = cb.Pool(X_train, y_train)\n",
    "# test_dataset = cb.Pool(X_test, y_test)\n",
    "\n",
    "# model = cb.CatBoostRegressor(loss_function='RMSE', verbose=0)\n",
    "# model.fit(train_dataset)\n",
    "# pred = model.predict(X_test)\n",
    "# cb_score = mean_squared_error(pred, y_test, squared=False)\n",
    "# print(cb_score)"
   ]
  },
  {
   "cell_type": "code",
   "execution_count": 37,
   "id": "960cfe95-f108-45fb-92c2-4b84199bf0a3",
   "metadata": {},
   "outputs": [
    {
     "name": "stdout",
     "output_type": "stream",
     "text": [
      "3.092882059443485\n"
     ]
    }
   ],
   "source": [
    "rf = RandomForestRegressor(n_estimators = 1000, random_state = 42)\n",
    "rf.fit(X_train_scaled, y_train)\n",
    "pred = rf.predict(X_test_scaled)\n",
    "rf_score = mean_squared_error(pred, y_test, squared=False)\n",
    "print(rf_score)"
   ]
  },
  {
   "cell_type": "code",
   "execution_count": 38,
   "id": "0f9fe8ab-26eb-48b7-9f33-abd9d54fa624",
   "metadata": {},
   "outputs": [
    {
     "name": "stdout",
     "output_type": "stream",
     "text": [
      "2.847076228540886\n"
     ]
    }
   ],
   "source": [
    "train_dataset = cb.Pool(X_train_scaled, y_train)\n",
    "test_dataset = cb.Pool(X_test_scaled, y_test)\n",
    "\n",
    "model = cb.CatBoostRegressor(loss_function='RMSE', verbose=0)\n",
    "model.fit(train_dataset)\n",
    "pred = model.predict(test_dataset)\n",
    "cb_score = mean_squared_error(pred, y_test, squared=False)\n",
    "print(cb_score)"
   ]
  },
  {
   "cell_type": "code",
   "execution_count": 41,
   "id": "42ad90c7-8c89-42e5-a0c5-3a0eb80af3fd",
   "metadata": {},
   "outputs": [
    {
     "name": "stderr",
     "output_type": "stream",
     "text": [
      "/home/rafal/WORK/IMPAN/LocalRegression/venv/lib/python3.8/site-packages/scipy/optimize/_optimize.py:2782: RuntimeWarning: invalid value encountered in double_scalars\n",
      "  w = xb - ((xb - xc) * tmp2 - (xb - xa) * tmp1) / denom\n"
     ]
    },
    {
     "name": "stdout",
     "output_type": "stream",
     "text": [
      "4.314534907934642\n"
     ]
    }
   ],
   "source": [
    "bmlrn_boston = BMLR(cut=10, M=1, substitution_policy='nearest')\n",
    "bmlrn_boston.fit(X_train_scaled, y_train)\n",
    "bmlrn_boston_score = bmlrn_boston.score(X_test_scaled, y_test)\n",
    "print(bmlrn_boston_score) # sometime the RMSE goes crazy high"
   ]
  }
 ],
 "metadata": {
  "kernelspec": {
   "display_name": "Python 3 (ipykernel)",
   "language": "python",
   "name": "python3"
  },
  "language_info": {
   "codemirror_mode": {
    "name": "ipython",
    "version": 3
   },
   "file_extension": ".py",
   "mimetype": "text/x-python",
   "name": "python",
   "nbconvert_exporter": "python",
   "pygments_lexer": "ipython3",
   "version": "3.8.10"
  }
 },
 "nbformat": 4,
 "nbformat_minor": 5
}
