{
 "cells": [
  {
   "cell_type": "code",
   "execution_count": 45,
   "id": "8f811539-d463-40a3-a914-e2c41326a86c",
   "metadata": {},
   "outputs": [],
   "source": [
    "import random\n",
    "import pandas as pd\n",
    "import matplotlib.pyplot as plt\n",
    "from sklearn.model_selection import train_test_split\n",
    "from sklearn.preprocessing import StandardScaler\n",
    "from LocalRegression.ml_models import *\n",
    "import warnings"
   ]
  },
  {
   "cell_type": "code",
   "execution_count": 3,
   "id": "a0f30b0e-215b-4844-8062-eaa3c7a4508f",
   "metadata": {},
   "outputs": [],
   "source": [
    "random.seed(0)\n",
    "np.random.seed(0)"
   ]
  },
  {
   "cell_type": "code",
   "execution_count": 9,
   "id": "a632cd8d-2724-4ef0-8c77-b7487849a203",
   "metadata": {},
   "outputs": [
    {
     "name": "stdout",
     "output_type": "stream",
     "text": [
      "(1994, 123)\n",
      "(1994, 100)\n"
     ]
    }
   ],
   "source": [
    "# https://archive.ics.uci.edu/ml/datasets/Communities+and+Crime\n",
    "data = pd.read_csv('../data/communities.data', header=None)\n",
    "data = data.drop([0, 1, 2, 3, 4], axis=1)\n",
    "data = data.dropna(axis=1)"
   ]
  },
  {
   "cell_type": "code",
   "execution_count": 34,
   "id": "b230afcc-e03a-43cc-ba99-4ebb74298390",
   "metadata": {},
   "outputs": [],
   "source": [
    "X = data.drop([127], axis=1)\n",
    "y = data[127].to_numpy().reshape(-1,1)\n",
    "\n",
    "std_scaler = StandardScaler()\n",
    "std_scaler_y = StandardScaler()\n",
    "X_scaled = std_scaler.fit_transform(X)\n",
    "y_scaled = std_scaler_y.fit_transform(y)\n",
    "\n",
    "# train/test split\n",
    "X_train, X_test, y_train, y_test = train_test_split(X_scaled, y_scaled, test_size=0.25)"
   ]
  },
  {
   "cell_type": "code",
   "execution_count": 40,
   "id": "70f752a8-a465-4af7-abeb-9aa2d496563a",
   "metadata": {},
   "outputs": [
    {
     "name": "stdout",
     "output_type": "stream",
     "text": [
      "0.8159661216522881\n",
      "0.8159661216522881\n",
      "0.8159661216522881\n",
      "0.8159661216522881\n",
      "0.8159661216522881\n"
     ]
    }
   ],
   "source": [
    "warnings.filterwarnings(\"ignore\")\n",
    "bmlrs = {}\n",
    "for cut in [0, 10, 20, 30, 50]:\n",
    "    bmlr_params = model_bmlr_params(X_train, y_train, cut=cut, M=5)\n",
    "    score, mape, pred, model = model_bmlr(X_train, y_train, X_test, y_test, cut=cut, M=5, params=bmlr_params)\n",
    "    print(score)\n",
    "    bmlrs[cut] = [score, mape, pred, model]"
   ]
  },
  {
   "cell_type": "code",
   "execution_count": 41,
   "id": "5bfe4e92-3286-4fb4-a6d1-d27a2870cb32",
   "metadata": {},
   "outputs": [],
   "source": [
    "scores = [x[0] for x in bmlrs.values()]\n",
    "opt_bmlr_id = np.argmin(scores)\n",
    "opt_bmlr_cut = list(bmlrs.keys())[bmlr_id]\n",
    "opt_score_bmlr =  bmlrs[bmlr_cut][0]\n",
    "opt_pred_bmlr =  bmlrs[bmlr_cut][2]\n",
    "opt_model_bmlr = bmlrs[bmlr_cut][3]"
   ]
  },
  {
   "cell_type": "code",
   "execution_count": null,
   "id": "b350ce6c-6092-47ba-92d6-9990e6d45447",
   "metadata": {},
   "outputs": [],
   "source": [
    "mars_params = model_mars_params(X_train, y_train)\n",
    "opt_score_mars, opt_mape_mars, opt_pred_mars, opt_model_mars = model_mars(X_train, y_train, X_test, y_test, params = svr_params)"
   ]
  },
  {
   "cell_type": "code",
   "execution_count": 46,
   "id": "289f77a2-4254-4e3d-9a2f-b1642d9f25e5",
   "metadata": {},
   "outputs": [],
   "source": [
    "svr_params = model_svr_params(X_train, y_train)\n",
    "opt_score_svr, opt_mape_svr, opt_pred_svr, opt_model_svr = model_svr(X_train, y_train, X_test, y_test, params = svr_params)"
   ]
  },
  {
   "cell_type": "code",
   "execution_count": null,
   "id": "835dcc39-8f6d-4f8e-b246-ca4508d32f81",
   "metadata": {},
   "outputs": [],
   "source": [
    "rf_params = model_random_forest_params(X_train, y_train)\n",
    "opt_score_rf, opt_mape_rf, opt_pred_rf, opt_model_rf = model_random_forest(X_train, y_train, X_test, y_test, params = rf_params)"
   ]
  },
  {
   "cell_type": "code",
   "execution_count": 42,
   "id": "19255e33-8fcd-4f50-b889-c84934031291",
   "metadata": {},
   "outputs": [],
   "source": [
    "# train CatBoost model\n",
    "opt_score_cb, opt_mape_cb, opt_pred_cb, opt_model_cb = model_catboost(X_train, y_train, X_test, y_test)"
   ]
  },
  {
   "cell_type": "code",
   "execution_count": 50,
   "id": "8556e45f-29e5-4dd0-987f-4fcb1455d99e",
   "metadata": {},
   "outputs": [
    {
     "name": "stdout",
     "output_type": "stream",
     "text": [
      "RMSE(BMLR)/RMSE(SV): 1.2952480655011938\n",
      "RMSE(BMLR)/RMSE(CB): 1.3246189103682904\n"
     ]
    }
   ],
   "source": [
    "print(f'RMSE(BMLR)/RMSE(MARS): {opt_score_bmlr/opt_score_mars}')\n",
    "print(f'RMSE(BMLR)/RMSE(SV): {opt_score_bmlr/opt_score_svr}')\n",
    "print(f'RMSE(BMLR)/RMSE(RF): {opt_score_bmlr/opt_score_rf}')\n",
    "print(f'RMSE(BMLR)/RMSE(CB): {opt_score_bmlr/opt_score_cb}')"
   ]
  },
  {
   "cell_type": "code",
   "execution_count": 45,
   "id": "dc174884-e440-4a3f-a401-90b604b47811",
   "metadata": {},
   "outputs": [
    {
     "data": {
      "text/plain": [
       "<matplotlib.legend.Legend at 0x7fd703f0daf0>"
      ]
     },
     "execution_count": 45,
     "metadata": {},
     "output_type": "execute_result"
    },
    {
     "data": {
      "image/png": "[encoded data removed]",
      "text/plain": [
       "<Figure size 432x288 with 1 Axes>"
      ]
     },
     "metadata": {
      "needs_background": "light"
     },
     "output_type": "display_data"
    }
   ],
   "source": [
    "plt.plot(y_train, opt_model_bmlr.predict(X_train), 'o', label='BMLR Train')\n",
    "plt.plot(y_test, opt_model_bmlr.predict(X_test), 'o', label='BMLR Test')\n",
    "plt.plot(y_test, opt_pred_cb, 'o', label='CatBoost Test')\n",
    "plt.legend()"
   ]
  },
  {
   "cell_type": "code",
   "execution_count": 49,
   "id": "8cf14ed2-de54-4517-bec4-621f55946ea2",
   "metadata": {},
   "outputs": [
    {
     "data": {
      "text/plain": [
       "['joblib_mbrf.joblib']"
      ]
     },
     "execution_count": 49,
     "metadata": {},
     "output_type": "execute_result"
    }
   ],
   "source": [
    "import joblib\n",
    "joblib.dump(model_rf, 'communities_rf.joblib')\n",
    "joblib.dump(model_svr, 'communities_svr.joblib')\n",
    "joblib.dump(model_cb, 'communities_cb.joblib')\n",
    "joblib.dump(model_bmlr, 'communities_mbrf.joblib')"
   ]
  }
 ],
 "metadata": {
  "kernelspec": {
   "display_name": "Python 3 (ipykernel)",
   "language": "python",
   "name": "python3"
  },
  "language_info": {
   "codemirror_mode": {
    "name": "ipython",
    "version": 3
   },
   "file_extension": ".py",
   "mimetype": "text/x-python",
   "name": "python",
   "nbconvert_exporter": "python",
   "pygments_lexer": "ipython3",
   "version": "3.8.10"
  }
 },
 "nbformat": 4,
 "nbformat_minor": 5
}
