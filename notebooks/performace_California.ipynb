{
 "cells": [
  {
   "cell_type": "code",
   "execution_count": 1,
   "id": "1bf0c1b9-e769-4c3f-b8b1-33e84d68cefb",
   "metadata": {},
   "outputs": [],
   "source": [
    "import random\n",
    "import pandas as pd\n",
    "import matplotlib.pyplot as plt\n",
    "import sys\n",
    "from sklearn.model_selection import train_test_split\n",
    "from sklearn.preprocessing import StandardScaler\n",
    "import warnings\n",
    "import joblib\n",
    "from sklearn.datasets import fetch_california_housing\n",
    "\n",
    "warnings.filterwarnings(\"ignore\")\n",
    "sys.path.insert(0,'..')\n",
    "\n",
    "from BMR.ml_models import *\n",
    "from BMR.bmr import *\n",
    "\n",
    "random.seed(0)\n",
    "np.random.seed(0)"
   ]
  },
  {
   "cell_type": "code",
   "execution_count": 2,
   "id": "b230afcc-e03a-43cc-ba99-4ebb74298390",
   "metadata": {},
   "outputs": [],
   "source": [
    "# fetch California housing dataset\n",
    "housing = fetch_california_housing()\n",
    "\n",
    "X = housing.data\n",
    "y = housing.target.reshape(-1,1)\n",
    "\n",
    "std_scaler = StandardScaler()\n",
    "std_scaler_y = StandardScaler()\n",
    "X_scaled = std_scaler.fit_transform(X)\n",
    "y_scaled = std_scaler_y.fit_transform(y)\n",
    "\n",
    "# train/test split\n",
    "X_train, X_test, y_train, y_test = train_test_split(X_scaled, y_scaled, test_size=0.25)"
   ]
  },
  {
   "cell_type": "code",
   "execution_count": null,
   "id": "0119dd94-6052-4c37-9366-508e588ea348",
   "metadata": {},
   "outputs": [],
   "source": [
    "scores, mapes, preds, models = run_methods(X_train, y_train, X_test, y_test, std_scaler_y=std_scaler_y)"
   ]
  },
  {
   "cell_type": "code",
   "execution_count": null,
   "id": "8556e45f-29e5-4dd0-987f-4fcb1455d99e",
   "metadata": {},
   "outputs": [],
   "source": [
    "print(scores)"
   ]
  },
  {
   "cell_type": "code",
   "execution_count": null,
   "id": "dc174884-e440-4a3f-a401-90b604b47811",
   "metadata": {},
   "outputs": [],
   "source": [
    "print(mapes)"
   ]
  },
  {
   "cell_type": "code",
   "execution_count": null,
   "id": "8cf14ed2-de54-4517-bec4-621f55946ea2",
   "metadata": {},
   "outputs": [],
   "source": [
    "print(f'RMSE(BMLR deg=1)/RMSE(RF): {scores[0]/scores[2]}')\n",
    "print(f'RMSE(BMLR deg=1)/RMSE(SVR): {scores[0]/scores[3]}')\n",
    "print(f'RMSE(BMLR deg=1)/RMSE(MARS): {scores[0]/scores[4]}')\n",
    "print(f'RMSE(BMLR deg=1)/RMSE(CB): {scores[0]/scores[5]}')\n",
    "\n",
    "print(f'RMSE(BMLR deg=2)/RMSE(RF): {scores[1]/scores[2]}')\n",
    "print(f'RMSE(BMLR deg=2)/RMSE(SVR): {scores[1]/scores[3]}')\n",
    "print(f'RMSE(BMLR deg=2)/RMSE(MARS): {scores[1]/scores[4]}')\n",
    "print(f'RMSE(BMLR deg=2)/RMSE(CB): {scores[1]/scores[5]}')"
   ]
  },
  {
   "cell_type": "code",
   "execution_count": null,
   "id": "068eb16b-ca0b-4124-8d48-ae2e364e89c5",
   "metadata": {},
   "outputs": [],
   "source": [
    "y_test_unsc = std_scaler_y.inverse_transform(y_test)\n",
    "plt.plot(y_test_unsc, preds[2], 'o', label='RF')\n",
    "plt.plot(y_test_unsc, preds[3], 'o', label='SVR')\n",
    "plt.plot(y_test_unsc, preds[4], 'o', label='MARS')\n",
    "plt.plot(y_test_unsc, preds[5], 'o', label='CB')\n",
    "plt.plot(y_test_unsc, preds[0], 'o', label='BMLR deg=1')\n",
    "plt.plot(y_test_unsc, preds[1], 'o', label='BMLR deg=2')\n",
    "plt.plot([-10, 100], [-10, 100], '-', color='gray')\n",
    "plt.legend()\n",
    "plt.xlabel('TARGET')\n",
    "plt.ylabel('PREDICTION')\n",
    "plt.xlim((0, 60))\n",
    "plt.ylim((0, 60))\n",
    "plt.grid(linestyle='--')\n",
    "plt.savefig(f'california.pdf', bbox_inches='tight')"
   ]
  },
  {
   "cell_type": "code",
   "execution_count": null,
   "id": "d0b785d7-3c32-4433-97fb-a46eaaee5444",
   "metadata": {},
   "outputs": [],
   "source": [
    "joblib.dump(preds, 'preds_california.joblib')\n",
    "joblib.dump(models, 'models_california.joblib')"
   ]
  }
 ],
 "metadata": {
  "kernelspec": {
   "display_name": "Python 3 (ipykernel)",
   "language": "python",
   "name": "python3"
  },
  "language_info": {
   "codemirror_mode": {
    "name": "ipython",
    "version": 3
   },
   "file_extension": ".py",
   "mimetype": "text/x-python",
   "name": "python",
   "nbconvert_exporter": "python",
   "pygments_lexer": "ipython3",
   "version": "3.8.10"
  }
 },
 "nbformat": 4,
 "nbformat_minor": 5
}
