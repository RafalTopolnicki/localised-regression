{
 "cells": [
  {
   "cell_type": "code",
   "execution_count": 16,
   "id": "71d9aa9b-5b74-4eb2-86c2-48b50492d367",
   "metadata": {},
   "outputs": [],
   "source": [
    "import numpy as np\n",
    "import scipy.stats as ss\n",
    "import pandas as pd\n",
    "import matplotlib.pyplot as plt\n",
    "from sklearn.model_selection import train_test_split\n",
    "from sklearn.datasets import load_boston\n",
    "from sklearn import preprocessing\n",
    "from sklearn.ensemble import RandomForestRegressor\n",
    "from sklearn.svm import SVR # for building SVR model\n",
    "import scipy\n",
    "import catboost as cb\n",
    "from LocalRegression.bmlr import BMLR\n",
    "from sklearn.metrics import mean_squared_error\n",
    "from sklearn.model_selection import GridSearchCV\n",
    "import ray"
   ]
  },
  {
   "cell_type": "code",
   "execution_count": 2,
   "id": "3f99458b-c95c-4c2e-ab3d-de4351b05e1b",
   "metadata": {},
   "outputs": [],
   "source": [
    "def generate_Himmelblau(n=100, sigma=0.1):\n",
    "    norm = ss.norm(loc=0, scale=sigma)\n",
    "    x = (ss.uniform.rvs(size=(n, 2))-0.5)*5*2\n",
    "    y = (x[:, 0]**2 + x[:, 1] - 11)**2 + (x[:, 0] + x[:, 1]**2 - 7)**2\n",
    "    y += norm.rvs(n)\n",
    "    return x, y"
   ]
  },
  {
   "cell_type": "code",
   "execution_count": 10,
   "id": "539e1d71-cf08-46f1-a1ef-00c473f7f5d3",
   "metadata": {},
   "outputs": [],
   "source": [
    "def model_random_forest(x, y, x_test, y_test):\n",
    "    param_grid = {'n_estimators': [10, 100, 1000, 2500, 3000]}\n",
    "    rf = RandomForestRegressor()\n",
    "    sh = GridSearchCV(rf, param_grid, cv=3).fit(x, y)\n",
    "    pred = sh.predict(x_test)\n",
    "    score = mean_squared_error(pred, y_test, squared=False)\n",
    "    return score, pred\n",
    "\n",
    "def model_catboost(x, y, x_test, y_test):\n",
    "    train_dataset = cb.Pool(x, y)\n",
    "    test_dataset = cb.Pool(x_test, y_test)\n",
    "    model = cb.CatBoostRegressor(loss_function='RMSE', verbose=0)\n",
    "    model.fit(train_dataset)\n",
    "    pred = model.predict(test_dataset)\n",
    "    score = mean_squared_error(pred, y_test, squared=False)\n",
    "    return score, pred\n",
    "\n",
    "def model_mars():\n",
    "    pass\n",
    "\n",
    "def model_svr(x, y, x_test, y_test):\n",
    "    param_grid = {'C': [0.1, 1, 100, 1000, 1000],\n",
    "                  'degree': [2],\n",
    "                  'epsilon': [0.01, 0.1, 1, 10]\n",
    "                 }\n",
    "    svr = SVR(kernel='rbf')\n",
    "    #sh = HalvingGridSearchCV(model, param_grid, cv=5, factor=3, max_resources=50, n_jobs=-1).fit(x, y)\n",
    "    #sh = RandomizedSearchCV(model, param_grid, cv=5).fit(x, y)\n",
    "    sh = GridSearchCV(svr, param_grid, cv=3, verbose=1).fit(x, y)\n",
    "    #print(sh.best_params_)\n",
    "    pred = sh.predict(x_test)\n",
    "    score = mean_squared_error(pred, y_test, squared=False)\n",
    "    return score, pred\n",
    "\n",
    "def model_bmlr(x, y, x_test, y_test):\n",
    "    epsilon_trial = np.mean(np.std(x, axis=0))/5\n",
    "    param_grid = {'epsilon': [epsilon_trial*x for x in [0.5, 0.8, 1.0, 1.5, 2.0, 2.5, 3.0, 4.0]]}\n",
    "    bmlr = BMLR(cut=10, M=5, substitution_policy='nearest')\n",
    "    gsh = GridSearchCV(bmlr, param_grid, cv=3, verbose=1)\n",
    "    sh = gsh.fit(x, y)\n",
    "    #print(sh.best_params_)\n",
    "    pred = sh.predict(x_test)\n",
    "    score = mean_squared_error(pred, y_test, squared=False)\n",
    "    return score, pred"
   ]
  },
  {
   "cell_type": "code",
   "execution_count": 24,
   "id": "aeeaa395-e7c3-4eab-b6c4-82d7e6e9064f",
   "metadata": {},
   "outputs": [],
   "source": [
    "@ray.remote\n",
    "def run_experiment(ns=[50, 100, 200, 500], mcloops=1):\n",
    "    scores = []\n",
    "    for n in ns:\n",
    "        for mcloop in range(mcloops):\n",
    "            sample_x, sample_y = generate_Himmelblau(n=n)\n",
    "            sample_x_test, sample_y_test = generate_Himmelblau(n=int(n/2))\n",
    "            bmlr_score, bmlr_pred = model_bmlr(sample_x, sample_y, sample_x_test, sample_y_test)\n",
    "            rf_score, rf_pred = model_random_forest(sample_x, sample_y, sample_x_test, sample_y_test)\n",
    "            cb_score, cb_pred = model_catboost(sample_x, sample_y, sample_x_test, sample_y_test)\n",
    "            svr_score, svr_pred = model_svr(sample_x, sample_y, sample_x_test, sample_y_test)\n",
    "            scores.append([n, rf_score, cb_score, svr_score, bmlr_score])\n",
    "    df = pd.DataFrame(scores, columns=['n', 'RF', 'CB', 'SVR', 'BMLR'])\n",
    "    return df"
   ]
  },
  {
   "cell_type": "code",
   "execution_count": 23,
   "id": "69ab5f36-741e-44da-a9fb-e2f737f1fc45",
   "metadata": {},
   "outputs": [
    {
     "name": "stdout",
     "output_type": "stream",
     "text": [
      "\u001b[2m\u001b[36m(run_experiment pid=231088)\u001b[0m Fitting 3 folds for each of 8 candidates, totalling 24 fits\n",
      "\u001b[2m\u001b[36m(run_experiment pid=231091)\u001b[0m Fitting 3 folds for each of 8 candidates, totalling 24 fits\n",
      "\u001b[2m\u001b[36m(run_experiment pid=231087)\u001b[0m Fitting 3 folds for each of 8 candidates, totalling 24 fits\n",
      "\u001b[2m\u001b[36m(run_experiment pid=231088)\u001b[0m Fitting 3 folds for each of 20 candidates, totalling 60 fits\n"
     ]
    },
    {
     "ename": "RayTaskError(NameError)",
     "evalue": "\u001b[36mray::run_experiment()\u001b[39m (pid=231088, ip=192.168.1.109)\n  File \"/tmp/ipykernel_230092/2186798105.py\", line 11, in run_experiment\nNameError: name 'scores' is not defined",
     "output_type": "error",
     "traceback": [
      "\u001b[0;31m---------------------------------------------------------------------------\u001b[0m",
      "\u001b[0;31mRayTaskError(NameError)\u001b[0m                   Traceback (most recent call last)",
      "Input \u001b[0;32mIn [23]\u001b[0m, in \u001b[0;36m<cell line: 4>\u001b[0;34m()\u001b[0m\n\u001b[1;32m      3\u001b[0m results \u001b[38;5;241m=\u001b[39m []\n\u001b[1;32m      4\u001b[0m \u001b[38;5;28;01mfor\u001b[39;00m loop \u001b[38;5;129;01min\u001b[39;00m \u001b[38;5;28mrange\u001b[39m(loops):\n\u001b[0;32m----> 5\u001b[0m     res \u001b[38;5;241m=\u001b[39m \u001b[43mray\u001b[49m\u001b[38;5;241;43m.\u001b[39;49m\u001b[43mget\u001b[49m\u001b[43m(\u001b[49m\u001b[43m[\u001b[49m\u001b[43mrun_experiment\u001b[49m\u001b[38;5;241;43m.\u001b[39;49m\u001b[43mremote\u001b[49m\u001b[43m(\u001b[49m\u001b[43m)\u001b[49m\u001b[43m \u001b[49m\u001b[38;5;28;43;01mfor\u001b[39;49;00m\u001b[43m \u001b[49m\u001b[43mi\u001b[49m\u001b[43m \u001b[49m\u001b[38;5;129;43;01min\u001b[39;49;00m\u001b[43m \u001b[49m\u001b[38;5;28;43mrange\u001b[39;49m\u001b[43m(\u001b[49m\u001b[43mncpu\u001b[49m\u001b[43m)\u001b[49m\u001b[43m]\u001b[49m\u001b[43m)\u001b[49m\n\u001b[1;32m      6\u001b[0m     results \u001b[38;5;241m=\u001b[39m results \u001b[38;5;241m+\u001b[39m res\n",
      "File \u001b[0;32m~/WORK/IMPAN/LocalRegression/venv/lib/python3.8/site-packages/ray/_private/client_mode_hook.py:105\u001b[0m, in \u001b[0;36mclient_mode_hook.<locals>.wrapper\u001b[0;34m(*args, **kwargs)\u001b[0m\n\u001b[1;32m    103\u001b[0m     \u001b[38;5;28;01mif\u001b[39;00m func\u001b[38;5;241m.\u001b[39m\u001b[38;5;18m__name__\u001b[39m \u001b[38;5;241m!=\u001b[39m \u001b[38;5;124m\"\u001b[39m\u001b[38;5;124minit\u001b[39m\u001b[38;5;124m\"\u001b[39m \u001b[38;5;129;01mor\u001b[39;00m is_client_mode_enabled_by_default:\n\u001b[1;32m    104\u001b[0m         \u001b[38;5;28;01mreturn\u001b[39;00m \u001b[38;5;28mgetattr\u001b[39m(ray, func\u001b[38;5;241m.\u001b[39m\u001b[38;5;18m__name__\u001b[39m)(\u001b[38;5;241m*\u001b[39margs, \u001b[38;5;241m*\u001b[39m\u001b[38;5;241m*\u001b[39mkwargs)\n\u001b[0;32m--> 105\u001b[0m \u001b[38;5;28;01mreturn\u001b[39;00m \u001b[43mfunc\u001b[49m\u001b[43m(\u001b[49m\u001b[38;5;241;43m*\u001b[39;49m\u001b[43margs\u001b[49m\u001b[43m,\u001b[49m\u001b[43m \u001b[49m\u001b[38;5;241;43m*\u001b[39;49m\u001b[38;5;241;43m*\u001b[39;49m\u001b[43mkwargs\u001b[49m\u001b[43m)\u001b[49m\n",
      "File \u001b[0;32m~/WORK/IMPAN/LocalRegression/venv/lib/python3.8/site-packages/ray/worker.py:1763\u001b[0m, in \u001b[0;36mget\u001b[0;34m(object_refs, timeout)\u001b[0m\n\u001b[1;32m   1761\u001b[0m     worker\u001b[38;5;241m.\u001b[39mcore_worker\u001b[38;5;241m.\u001b[39mdump_object_store_memory_usage()\n\u001b[1;32m   1762\u001b[0m \u001b[38;5;28;01mif\u001b[39;00m \u001b[38;5;28misinstance\u001b[39m(value, RayTaskError):\n\u001b[0;32m-> 1763\u001b[0m     \u001b[38;5;28;01mraise\u001b[39;00m value\u001b[38;5;241m.\u001b[39mas_instanceof_cause()\n\u001b[1;32m   1764\u001b[0m \u001b[38;5;28;01melse\u001b[39;00m:\n\u001b[1;32m   1765\u001b[0m     \u001b[38;5;28;01mraise\u001b[39;00m value\n",
      "\u001b[0;31mRayTaskError(NameError)\u001b[0m: \u001b[36mray::run_experiment()\u001b[39m (pid=231088, ip=192.168.1.109)\n  File \"/tmp/ipykernel_230092/2186798105.py\", line 11, in run_experiment\nNameError: name 'scores' is not defined"
     ]
    },
    {
     "name": "stdout",
     "output_type": "stream",
     "text": [
      "\u001b[2m\u001b[36m(run_experiment pid=231091)\u001b[0m Fitting 3 folds for each of 20 candidates, totalling 60 fits\n",
      "\u001b[2m\u001b[36m(run_experiment pid=231087)\u001b[0m Fitting 3 folds for each of 20 candidates, totalling 60 fits\n"
     ]
    },
    {
     "name": "stderr",
     "output_type": "stream",
     "text": [
      "2022-04-11 16:57:53,571\tERROR worker.py:83 -- Unhandled error (suppress with RAY_IGNORE_UNHANDLED_ERRORS=1): \u001b[36mray::run_experiment()\u001b[39m (pid=231091, ip=192.168.1.109)\n",
      "  File \"/tmp/ipykernel_230092/2186798105.py\", line 11, in run_experiment\n",
      "NameError: name 'scores' is not defined\n",
      "2022-04-11 16:57:56,572\tERROR worker.py:83 -- Unhandled error (suppress with RAY_IGNORE_UNHANDLED_ERRORS=1): \u001b[36mray::run_experiment()\u001b[39m (pid=231087, ip=192.168.1.109)\n",
      "  File \"/tmp/ipykernel_230092/2186798105.py\", line 11, in run_experiment\n",
      "NameError: name 'scores' is not defined\n"
     ]
    }
   ],
   "source": [
    "ncpu = 3\n",
    "loops = 2\n",
    "results = []\n",
    "for loop in range(loops):\n",
    "    res = ray.get([run_experiment.remote() for i in range(ncpu)])\n",
    "    results = results + res"
   ]
  }
 ],
 "metadata": {
  "kernelspec": {
   "display_name": "Python 3 (ipykernel)",
   "language": "python",
   "name": "python3"
  },
  "language_info": {
   "codemirror_mode": {
    "name": "ipython",
    "version": 3
   },
   "file_extension": ".py",
   "mimetype": "text/x-python",
   "name": "python",
   "nbconvert_exporter": "python",
   "pygments_lexer": "ipython3",
   "version": "3.8.10"
  }
 },
 "nbformat": 4,
 "nbformat_minor": 5
}
