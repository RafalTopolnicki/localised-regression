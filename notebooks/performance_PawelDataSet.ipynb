{
 "cells": [
  {
   "cell_type": "code",
   "execution_count": 1,
   "id": "71d9aa9b-5b74-4eb2-86c2-48b50492d367",
   "metadata": {},
   "outputs": [],
   "source": [
    "import random\n",
    "import pandas as pd\n",
    "import matplotlib.pyplot as plt\n",
    "import scipy.stats as ss\n",
    "import sys\n",
    "import warnings\n",
    "import joblib\n",
    "\n",
    "warnings.filterwarnings(\"ignore\")\n",
    "sys.path.insert(0,'..')\n",
    "\n",
    "from BMR.ml_models import *\n",
    "\n",
    "random.seed(0)\n",
    "np.random.seed(0)"
   ]
  },
  {
   "cell_type": "code",
   "execution_count": 32,
   "id": "958a7b8b-3291-4494-b3fc-48f6b181d398",
   "metadata": {},
   "outputs": [],
   "source": [
    "df = pd.read_csv('../data/BMLR_dataset_2.csv')\n",
    "\n",
    "y = df.y.values.reshape(-1,1)\n",
    "# rescale y so that they fit 0,1 interval. This way we can make the noise variance more meaningful\n",
    "y = y - np.min(y)\n",
    "y = y/np.max(y)\n",
    "\n",
    "X = df.drop('y', axis=1).values\n",
    "n_pts = y.shape[0]"
   ]
  },
  {
   "cell_type": "code",
   "execution_count": 43,
   "id": "193a4d4c-27a6-47f2-96ce-872ab28d7287",
   "metadata": {},
   "outputs": [],
   "source": [
    "# adding noise\n",
    "sigmas = [0.00, 0.01, 0.02, 0.05, 0.1, 0.2]\n",
    "for sigma in sigmas:\n",
    "    noise = ss.norm(loc=0, scale=sigma).rvs(size=n_pts).reshape(-1,1)\n",
    "    y_noisy = y + noise\n",
    "    run_all(X, y_noisy, f'Pawel_dataset_2_sigma{sigma}.joblib', mcloops=1)"
   ]
  }
 ],
 "metadata": {
  "kernelspec": {
   "display_name": "Python 3 (ipykernel)",
   "language": "python",
   "name": "python3"
  },
  "language_info": {
   "codemirror_mode": {
    "name": "ipython",
    "version": 3
   },
   "file_extension": ".py",
   "mimetype": "text/x-python",
   "name": "python",
   "nbconvert_exporter": "python",
   "pygments_lexer": "ipython3",
   "version": "3.8.10"
  }
 },
 "nbformat": 4,
 "nbformat_minor": 5
}
